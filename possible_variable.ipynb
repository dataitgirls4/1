{
 "cells": [
  {
   "cell_type": "code",
   "execution_count": 1,
   "metadata": {},
   "outputs": [],
   "source": [
    "import pandas as pd\n",
    "import seaborn as sns\n",
    "import numpy as np\n",
    "import matplotlib.pyplot as plt\n",
    "from statsmodels.formula.api import logit\n",
    "from statsmodels.formula.api import ols\n",
    "#모델 빌딩용 데이터, 테스트 데이터 쪼개기\n",
    "from sklearn.model_selection import train_test_split\n",
    "from sklearn.metrics import confusion_matrix\n",
    "from sklearn import preprocessing\n",
    "\n",
    "import warnings\n",
    "warnings.filterwarnings('ignore')"
   ]
  },
  {
   "cell_type": "code",
   "execution_count": 2,
   "metadata": {},
   "outputs": [],
   "source": [
    "general = pd.read_csv('general_final.csv')\n",
    "#organizer = pd.read_csv('organizer_dollar.csv')\n",
    "comments = pd.read_csv('comments_dollar.csv')\n",
    "updates = pd.read_csv('updates_dollar.csv')\n",
    "#donations = pd.read_csv('donations_dollar.csv')"
   ]
  },
  {
   "cell_type": "code",
   "execution_count": null,
   "metadata": {},
   "outputs": [],
   "source": [
    "general #= general.drop(['Unnamed: 0'],axis=1)"
   ]
  },
  {
   "cell_type": "markdown",
   "metadata": {},
   "source": [
    "### 변수찾기 1\n",
    "- 48시간 내에 기부 건수 데이터를 가지고 있으니 활용할 방도가 있을까?\n",
    "- 혹시 update가 48시간 내에 된 것들이 있다면, 그거랑 엮어보자.\n",
    "- update로 인한 기부 증가의 효과를 확인할 수 있을지도 몰라!"
   ]
  },
  {
   "cell_type": "code",
   "execution_count": null,
   "metadata": {
    "scrolled": true
   },
   "outputs": [],
   "source": [
    "df1 = pd.merge(general, updates, on='chid', how='inner')\n",
    "df1_1 = df1[['chid','scrape_date','num_recent_donations','created_at']]\n",
    "df1_1['created_date'] = pd.to_datetime(df1_1['created_at'])#, utc= True).dt.strftime('%Y-%m-%d')\n",
    "df1_3 = df1_1.drop(['created_at'], axis=1)\n",
    "df1_4= df1_3[df1_3['num_recent_donations'] > 0]\n",
    "df1_4['2days_later_updates'] = df1_4['created_date'] + pd.DateOffset(days=2)\n",
    "df1_5 = df1_4[df1_4['scrape_date'] == df1_4['2days_later_updates']]\n",
    "df1_5\n"
   ]
  },
  {
   "cell_type": "markdown",
   "metadata": {},
   "source": [
    "최근 기부는 실패다.... 또르르\n",
    "### 변수찾기 2\n",
    "- 총 기부건수와 중복제거된 기부자수 데이터가 있으니 중복된 건수를 구할 수 있지 않을까?\n",
    "- 중복 건수가 있다면, 그걸 종속변수로 써서 중복이 많이 된 케이스의 요인을 구할 수 있을지도..?!"
   ]
  },
  {
   "cell_type": "code",
   "execution_count": null,
   "metadata": {},
   "outputs": [],
   "source": [
    "general['re_donation'] = general['total_donations'] - general['total_unique_donors']"
   ]
  },
  {
   "cell_type": "code",
   "execution_count": null,
   "metadata": {},
   "outputs": [],
   "source": [
    "df2_1 = general[['chid','total_donations','total_unique_donors','re_donation']]"
   ]
  },
  {
   "cell_type": "code",
   "execution_count": null,
   "metadata": {
    "scrolled": false
   },
   "outputs": [],
   "source": [
    "df2_1[df2_1['re_donation'] < 0]"
   ]
  },
  {
   "cell_type": "markdown",
   "metadata": {},
   "source": [
    "마이너스가 있네...? 이거 둘이 엮어서 쓰면 안되겠다.\n",
    "### 변수찾기 3-1.\n",
    "- 캠페인당 평균 기부금액을 종속변수에 넣어보자. "
   ]
  },
  {
   "cell_type": "code",
   "execution_count": 3,
   "metadata": {},
   "outputs": [],
   "source": [
    "df3_1 = general[['chid','created_date','category', 'story','total_photos', 'total_co_photos',\n",
    "       'total_community_photos', 'total_comments', 'total_donations','total_updates','campaign_hearts','social_share_total','funds_raised_dollar', 'funds_target_dollar','char_age','dum_success','update_counts']]\n",
    "df3_1['story']= df3_1['story'].astype(str)\n",
    "df3_1['storylength'] = df3_1.story.str.len()\n",
    "df3_1['commentlength'] = comments.comment.str.len()"
   ]
  },
  {
   "cell_type": "code",
   "execution_count": 4,
   "metadata": {},
   "outputs": [],
   "source": [
    "#스토리 길이의 로그가 더 많을수록 성공할까? - 일단 로그변환\n",
    "df3_1[\"logstorylength\"]=np.log(df3_1[\"storylength\"])\n",
    "df3_1[\"logcomlength\"]=np.log(df3_1[\"commentlength\"])"
   ]
  },
  {
   "cell_type": "code",
   "execution_count": 24,
   "metadata": {},
   "outputs": [],
   "source": [
    "df3_2 = df3_1.assign(average_amount = df3_1['funds_raised_dollar'] / df3_1['total_donations'])\n",
    "\n",
    "# total_donations에 0과 null값이 있어서 infinity값 nan처리해주기!\n",
    "df3_2['average_amount'].replace([np.inf, -np.inf], np.nan,inplace=True)\n",
    "\n",
    "\n",
    "#df3_2 = df3_1[df3_1.replace([np.inf, -np.inf], np.nan).notnull().all(axis=1)]\n",
    "#df3_1['average_amount'].isin((df3_1))#= df3_1['average_amount'].fillna(0)"
   ]
  },
  {
   "cell_type": "code",
   "execution_count": 25,
   "metadata": {},
   "outputs": [
    {
     "data": {
      "text/html": [
       "<div>\n",
       "<style scoped>\n",
       "    .dataframe tbody tr th:only-of-type {\n",
       "        vertical-align: middle;\n",
       "    }\n",
       "\n",
       "    .dataframe tbody tr th {\n",
       "        vertical-align: top;\n",
       "    }\n",
       "\n",
       "    .dataframe thead th {\n",
       "        text-align: right;\n",
       "    }\n",
       "</style>\n",
       "<table border=\"1\" class=\"dataframe\">\n",
       "  <thead>\n",
       "    <tr style=\"text-align: right;\">\n",
       "      <th></th>\n",
       "      <th>chid</th>\n",
       "      <th>created_date</th>\n",
       "      <th>category</th>\n",
       "      <th>story</th>\n",
       "      <th>total_photos</th>\n",
       "      <th>total_co_photos</th>\n",
       "      <th>total_community_photos</th>\n",
       "      <th>total_comments</th>\n",
       "      <th>total_donations</th>\n",
       "      <th>total_updates</th>\n",
       "      <th>...</th>\n",
       "      <th>funds_raised_dollar</th>\n",
       "      <th>funds_target_dollar</th>\n",
       "      <th>char_age</th>\n",
       "      <th>dum_success</th>\n",
       "      <th>update_counts</th>\n",
       "      <th>storylength</th>\n",
       "      <th>commentlength</th>\n",
       "      <th>logstorylength</th>\n",
       "      <th>logcomlength</th>\n",
       "      <th>average_amount</th>\n",
       "    </tr>\n",
       "  </thead>\n",
       "  <tbody>\n",
       "    <tr>\n",
       "      <th>1719</th>\n",
       "      <td>1721</td>\n",
       "      <td>2020-04-06</td>\n",
       "      <td>Accidents &amp; Emergencies</td>\n",
       "      <td>I came to Japan two years ago on | a o/w ticke...</td>\n",
       "      <td>1.0</td>\n",
       "      <td>1.0</td>\n",
       "      <td>0.0</td>\n",
       "      <td>0.0</td>\n",
       "      <td>0.0</td>\n",
       "      <td>0.0</td>\n",
       "      <td>...</td>\n",
       "      <td>1000</td>\n",
       "      <td>NaN</td>\n",
       "      <td>211</td>\n",
       "      <td>0</td>\n",
       "      <td>0.0</td>\n",
       "      <td>1657</td>\n",
       "      <td>77.0</td>\n",
       "      <td>7.412764</td>\n",
       "      <td>4.343805</td>\n",
       "      <td>NaN</td>\n",
       "    </tr>\n",
       "    <tr>\n",
       "      <th>1781</th>\n",
       "      <td>1783</td>\n",
       "      <td>2020-03-04</td>\n",
       "      <td>Accidents &amp; Emergencies</td>\n",
       "      <td>My husband and I live in the heavily hit Coron...</td>\n",
       "      <td>1.0</td>\n",
       "      <td>1.0</td>\n",
       "      <td>0.0</td>\n",
       "      <td>0.0</td>\n",
       "      <td>0.0</td>\n",
       "      <td>0.0</td>\n",
       "      <td>...</td>\n",
       "      <td>1000</td>\n",
       "      <td>NaN</td>\n",
       "      <td>244</td>\n",
       "      <td>0</td>\n",
       "      <td>0.0</td>\n",
       "      <td>377</td>\n",
       "      <td>69.0</td>\n",
       "      <td>5.932245</td>\n",
       "      <td>4.234107</td>\n",
       "      <td>NaN</td>\n",
       "    </tr>\n",
       "    <tr>\n",
       "      <th>1891</th>\n",
       "      <td>1893</td>\n",
       "      <td>2019-12-24</td>\n",
       "      <td>Accidents &amp; Emergencies</td>\n",
       "      <td>I'm broke (but not a bum) and need a little bi...</td>\n",
       "      <td>1.0</td>\n",
       "      <td>1.0</td>\n",
       "      <td>0.0</td>\n",
       "      <td>0.0</td>\n",
       "      <td>0.0</td>\n",
       "      <td>0.0</td>\n",
       "      <td>...</td>\n",
       "      <td>3000</td>\n",
       "      <td>NaN</td>\n",
       "      <td>315</td>\n",
       "      <td>0</td>\n",
       "      <td>0.0</td>\n",
       "      <td>2945</td>\n",
       "      <td>398.0</td>\n",
       "      <td>7.987864</td>\n",
       "      <td>5.986452</td>\n",
       "      <td>NaN</td>\n",
       "    </tr>\n",
       "    <tr>\n",
       "      <th>2742</th>\n",
       "      <td>2744</td>\n",
       "      <td>2020-06-05</td>\n",
       "      <td>Accidents &amp; Emergencies</td>\n",
       "      <td>South Korean immigrantion is fining me for \"ov...</td>\n",
       "      <td>1.0</td>\n",
       "      <td>1.0</td>\n",
       "      <td>0.0</td>\n",
       "      <td>0.0</td>\n",
       "      <td>0.0</td>\n",
       "      <td>0.0</td>\n",
       "      <td>...</td>\n",
       "      <td>900</td>\n",
       "      <td>NaN</td>\n",
       "      <td>151</td>\n",
       "      <td>0</td>\n",
       "      <td>0.0</td>\n",
       "      <td>453</td>\n",
       "      <td>26.0</td>\n",
       "      <td>6.115892</td>\n",
       "      <td>3.258097</td>\n",
       "      <td>NaN</td>\n",
       "    </tr>\n",
       "  </tbody>\n",
       "</table>\n",
       "<p>4 rows × 22 columns</p>\n",
       "</div>"
      ],
      "text/plain": [
       "      chid created_date                 category  \\\n",
       "1719  1721   2020-04-06  Accidents & Emergencies   \n",
       "1781  1783   2020-03-04  Accidents & Emergencies   \n",
       "1891  1893   2019-12-24  Accidents & Emergencies   \n",
       "2742  2744   2020-06-05  Accidents & Emergencies   \n",
       "\n",
       "                                                  story  total_photos  \\\n",
       "1719  I came to Japan two years ago on | a o/w ticke...           1.0   \n",
       "1781  My husband and I live in the heavily hit Coron...           1.0   \n",
       "1891  I'm broke (but not a bum) and need a little bi...           1.0   \n",
       "2742  South Korean immigrantion is fining me for \"ov...           1.0   \n",
       "\n",
       "      total_co_photos  total_community_photos  total_comments  \\\n",
       "1719              1.0                     0.0             0.0   \n",
       "1781              1.0                     0.0             0.0   \n",
       "1891              1.0                     0.0             0.0   \n",
       "2742              1.0                     0.0             0.0   \n",
       "\n",
       "      total_donations  total_updates  ...  funds_raised_dollar  \\\n",
       "1719              0.0            0.0  ...                 1000   \n",
       "1781              0.0            0.0  ...                 1000   \n",
       "1891              0.0            0.0  ...                 3000   \n",
       "2742              0.0            0.0  ...                  900   \n",
       "\n",
       "      funds_target_dollar  char_age  dum_success  update_counts  storylength  \\\n",
       "1719                  NaN       211            0            0.0         1657   \n",
       "1781                  NaN       244            0            0.0          377   \n",
       "1891                  NaN       315            0            0.0         2945   \n",
       "2742                  NaN       151            0            0.0          453   \n",
       "\n",
       "      commentlength  logstorylength  logcomlength  average_amount  \n",
       "1719           77.0        7.412764      4.343805             NaN  \n",
       "1781           69.0        5.932245      4.234107             NaN  \n",
       "1891          398.0        7.987864      5.986452             NaN  \n",
       "2742           26.0        6.115892      3.258097             NaN  \n",
       "\n",
       "[4 rows x 22 columns]"
      ]
     },
     "execution_count": 25,
     "metadata": {},
     "output_type": "execute_result"
    }
   ],
   "source": [
    "# NULL값 확인\n",
    "df3_2[df3_2['average_amount'].isnull() & df3_2['total_donations'].notnull()]"
   ]
  },
  {
   "cell_type": "code",
   "execution_count": 26,
   "metadata": {},
   "outputs": [
    {
     "data": {
      "text/plain": [
       "count     3827.000000\n",
       "mean       180.684048\n",
       "std        485.098314\n",
       "min          8.266725\n",
       "25%         75.024115\n",
       "50%        110.428571\n",
       "75%        172.001622\n",
       "max      14500.000000\n",
       "Name: average_amount, dtype: float64"
      ]
     },
     "execution_count": 26,
     "metadata": {},
     "output_type": "execute_result"
    }
   ],
   "source": [
    "df3_2['average_amount'].describe()"
   ]
  },
  {
   "cell_type": "code",
   "execution_count": null,
   "metadata": {},
   "outputs": [],
   "source": [
    "df3_2[df3_2['average_amount'] == 14500]"
   ]
  },
  {
   "cell_type": "code",
   "execution_count": null,
   "metadata": {},
   "outputs": [],
   "source": [
    "df3_2_trim = df3_2[df3_2['average_amount'] != 14500]"
   ]
  },
  {
   "cell_type": "code",
   "execution_count": null,
   "metadata": {},
   "outputs": [],
   "source": [
    "sns.distplot(df3_2_trim['average_amount'])"
   ]
  },
  {
   "cell_type": "code",
   "execution_count": null,
   "metadata": {
    "scrolled": true
   },
   "outputs": [],
   "source": [
    "#plt.figure(figsize=(10,4))\n",
    "#plt.xticks(rotation=45)\n",
    "#sns.barplot(x='chid', y='average_amount', data=df3_1_trim)"
   ]
  },
  {
   "cell_type": "code",
   "execution_count": null,
   "metadata": {},
   "outputs": [],
   "source": [
    "df3_2_trim['average_amount'].describe()"
   ]
  },
  {
   "cell_type": "code",
   "execution_count": null,
   "metadata": {},
   "outputs": [],
   "source": [
    "res_success=ols('average_amount ~social_share_total +char_age +logstorylength+total_photos+ update_counts +total_comments+logcomlength+campaign_hearts',df3_2).fit()\n",
    "res_success.summary()"
   ]
  },
  {
   "cell_type": "code",
   "execution_count": null,
   "metadata": {},
   "outputs": [],
   "source": [
    "bins=[8.266725,75.016173,110.408048,171.927783]\n",
    "np.digitize(df3_2['average_amount'],bins)"
   ]
  },
  {
   "cell_type": "code",
   "execution_count": null,
   "metadata": {},
   "outputs": [],
   "source": [
    "df3_2['catraise']=np.digitize(df3_2['average_amount'],bins)\n",
    "df3_2['catraise']"
   ]
  },
  {
   "cell_type": "code",
   "execution_count": null,
   "metadata": {},
   "outputs": [],
   "source": [
    "res_success=ols('catraise ~social_share_total +char_age +logstorylength+total_photos+ update_counts +total_comments+logcomlength+campaign_hearts',df3_2).fit()\n",
    "res_success.summary()"
   ]
  },
  {
   "cell_type": "code",
   "execution_count": null,
   "metadata": {},
   "outputs": [],
   "source": [
    "df3_2[\"log_av_am\"]=np.log(df3_2[\"average_amount\"])"
   ]
  },
  {
   "cell_type": "code",
   "execution_count": null,
   "metadata": {},
   "outputs": [],
   "source": [
    "res_success=ols('log_av_am ~social_share_total +char_age +logstorylength+total_photos+ update_counts +total_comments+logcomlength+campaign_hearts',df3_2).fit()\n",
    "res_success.summary()"
   ]
  },
  {
   "cell_type": "markdown",
   "metadata": {},
   "source": [
    "종속변수로 쓰니까 영 별로다.\n",
    "\n",
    "### 변수찾기 3-2.\n",
    "- 캠페인당 평균 기부금액을 독립변수로 사용해보자."
   ]
  },
  {
   "cell_type": "code",
   "execution_count": null,
   "metadata": {},
   "outputs": [],
   "source": [
    "res_success=logit('dum_success ~average_amount+social_share_total +char_age +logstorylength+total_photos+ update_counts +total_comments+logcomlength+campaign_hearts',df3_2).fit()\n",
    "res_success.summary()"
   ]
  },
  {
   "cell_type": "code",
   "execution_count": null,
   "metadata": {},
   "outputs": [],
   "source": [
    "train_df3_2, test_df3_2 = train_test_split(df3_2, test_size=0.2, random_state=1234)"
   ]
  },
  {
   "cell_type": "code",
   "execution_count": null,
   "metadata": {},
   "outputs": [],
   "source": [
    "a=logit('dum_success ~average_amount+social_share_total +char_age +logstorylength+total_photos+ update_counts +total_comments+logcomlength+campaign_hearts',df3_2).fit()\n",
    "a.summary()"
   ]
  },
  {
   "cell_type": "code",
   "execution_count": null,
   "metadata": {},
   "outputs": [],
   "source": [
    "a_prob = a.predict(test_df3_2)\n",
    "a_prediction = np.where(a_prob>0.5,1,0)"
   ]
  },
  {
   "cell_type": "code",
   "execution_count": null,
   "metadata": {},
   "outputs": [],
   "source": [
    "confusion_matrix(test_df3_2['dum_success'], a_prediction)"
   ]
  },
  {
   "cell_type": "code",
   "execution_count": null,
   "metadata": {},
   "outputs": [],
   "source": [
    "#accuracy\n",
    "(443+30)/(443+30+31+277) * 100"
   ]
  },
  {
   "cell_type": "markdown",
   "metadata": {},
   "source": [
    "종속변수로도 의미가 별로 없는 것 같다.\n",
    "\n",
    "### 변수찾기 4.\n",
    "- 캠페인의 1일 평균 기부자수를 종속변수에 넣어보자.\n",
    "- 마찬가지로 1일 평균 기부금액은?\n",
    "- 아마도 연식을 사용하면 1일 평균이 나올 것으로 판단된다."
   ]
  },
  {
   "cell_type": "markdown",
   "metadata": {},
   "source": [
    "1) 1일 평균 기부자수부터 보자!"
   ]
  },
  {
   "cell_type": "code",
   "execution_count": 5,
   "metadata": {
    "scrolled": true
   },
   "outputs": [],
   "source": [
    "# 먼저, 1일 평균 모금액구하고, inf는 Null처리\n",
    "df4 = df3_1.assign(daily_average_donations = df3_1['total_donations'] / df3_1['char_age'])\n",
    "df4.replace([np.inf, -np.inf], np.nan,inplace=True)"
   ]
  },
  {
   "cell_type": "code",
   "execution_count": 6,
   "metadata": {
    "collapsed": true
   },
   "outputs": [
    {
     "data": {
      "text/plain": [
       "count    3830.000000\n",
       "mean       12.161071\n",
       "std        44.022476\n",
       "min         0.000000\n",
       "25%         1.528641\n",
       "50%         3.494999\n",
       "75%         8.047438\n",
       "max      1355.750000\n",
       "Name: daily_average_donations, dtype: float64"
      ]
     },
     "execution_count": 6,
     "metadata": {},
     "output_type": "execute_result"
    }
   ],
   "source": [
    "df4['daily_average_donations'].describe()"
   ]
  },
  {
   "cell_type": "code",
   "execution_count": 7,
   "metadata": {
    "collapsed": true
   },
   "outputs": [
    {
     "data": {
      "text/plain": [
       "<matplotlib.axes._subplots.AxesSubplot at 0x1b2d9acae50>"
      ]
     },
     "execution_count": 7,
     "metadata": {},
     "output_type": "execute_result"
    },
    {
     "data": {
      "image/png": "[encoded data removed]",
      "text/plain": [
       "<Figure size 432x288 with 1 Axes>"
      ]
     },
     "metadata": {
      "needs_background": "light"
     },
     "output_type": "display_data"
    }
   ],
   "source": [
    "sns.distplot(df4['daily_average_donations'])"
   ]
  },
  {
   "cell_type": "code",
   "execution_count": 8,
   "metadata": {
    "collapsed": true
   },
   "outputs": [
    {
     "data": {
      "text/html": [
       "<div>\n",
       "<style scoped>\n",
       "    .dataframe tbody tr th:only-of-type {\n",
       "        vertical-align: middle;\n",
       "    }\n",
       "\n",
       "    .dataframe tbody tr th {\n",
       "        vertical-align: top;\n",
       "    }\n",
       "\n",
       "    .dataframe thead th {\n",
       "        text-align: right;\n",
       "    }\n",
       "</style>\n",
       "<table border=\"1\" class=\"dataframe\">\n",
       "  <thead>\n",
       "    <tr style=\"text-align: right;\">\n",
       "      <th></th>\n",
       "      <th>chid</th>\n",
       "      <th>created_date</th>\n",
       "      <th>category</th>\n",
       "      <th>story</th>\n",
       "      <th>total_photos</th>\n",
       "      <th>total_co_photos</th>\n",
       "      <th>total_community_photos</th>\n",
       "      <th>total_comments</th>\n",
       "      <th>total_donations</th>\n",
       "      <th>total_updates</th>\n",
       "      <th>...</th>\n",
       "      <th>funds_target_dollar</th>\n",
       "      <th>char_age</th>\n",
       "      <th>dum_success</th>\n",
       "      <th>update_counts</th>\n",
       "      <th>storylength</th>\n",
       "      <th>commentlength</th>\n",
       "      <th>logstorylength</th>\n",
       "      <th>logcomlength</th>\n",
       "      <th>daily_average_donations</th>\n",
       "      <th>log_daily_do</th>\n",
       "    </tr>\n",
       "  </thead>\n",
       "  <tbody>\n",
       "    <tr>\n",
       "      <th>0</th>\n",
       "      <td>1</td>\n",
       "      <td>2020-06-03</td>\n",
       "      <td>Funerals &amp; Memorials</td>\n",
       "      <td>This is the official Chris Beaty GoFundMe crea...</td>\n",
       "      <td>3.0</td>\n",
       "      <td>1.0</td>\n",
       "      <td>2.0</td>\n",
       "      <td>74.0</td>\n",
       "      <td>1705.0</td>\n",
       "      <td>1.0</td>\n",
       "      <td>...</td>\n",
       "      <td>200000.0</td>\n",
       "      <td>153</td>\n",
       "      <td>0</td>\n",
       "      <td>1.0</td>\n",
       "      <td>1506</td>\n",
       "      <td>146.0</td>\n",
       "      <td>7.317212</td>\n",
       "      <td>4.983607</td>\n",
       "      <td>11.143791</td>\n",
       "      <td>2.410882</td>\n",
       "    </tr>\n",
       "    <tr>\n",
       "      <th>1</th>\n",
       "      <td>2</td>\n",
       "      <td>2020-06-21</td>\n",
       "      <td>Medical, Illness &amp; Healing</td>\n",
       "      <td>Shortly about Saha: | It is with a heavy heart...</td>\n",
       "      <td>1.0</td>\n",
       "      <td>1.0</td>\n",
       "      <td>0.0</td>\n",
       "      <td>0.0</td>\n",
       "      <td>602.0</td>\n",
       "      <td>0.0</td>\n",
       "      <td>...</td>\n",
       "      <td>226000.0</td>\n",
       "      <td>135</td>\n",
       "      <td>0</td>\n",
       "      <td>0.0</td>\n",
       "      <td>5152</td>\n",
       "      <td>18.0</td>\n",
       "      <td>8.547140</td>\n",
       "      <td>2.890372</td>\n",
       "      <td>4.459259</td>\n",
       "      <td>1.494983</td>\n",
       "    </tr>\n",
       "    <tr>\n",
       "      <th>2</th>\n",
       "      <td>3</td>\n",
       "      <td>2020-06-19</td>\n",
       "      <td>Education &amp; Learning</td>\n",
       "      <td>Cost Breakdown | 100 Computers x approximately...</td>\n",
       "      <td>2.0</td>\n",
       "      <td>2.0</td>\n",
       "      <td>0.0</td>\n",
       "      <td>7.0</td>\n",
       "      <td>125.0</td>\n",
       "      <td>4.0</td>\n",
       "      <td>...</td>\n",
       "      <td>30000.0</td>\n",
       "      <td>138</td>\n",
       "      <td>0</td>\n",
       "      <td>4.0</td>\n",
       "      <td>6270</td>\n",
       "      <td>304.0</td>\n",
       "      <td>8.743532</td>\n",
       "      <td>5.717028</td>\n",
       "      <td>0.905797</td>\n",
       "      <td>-0.098940</td>\n",
       "    </tr>\n",
       "    <tr>\n",
       "      <th>3</th>\n",
       "      <td>4</td>\n",
       "      <td>2020-01-16</td>\n",
       "      <td>Accidents &amp; Emergencies</td>\n",
       "      <td>I was caught within 7 miles of the Taal Volcan...</td>\n",
       "      <td>1.0</td>\n",
       "      <td>1.0</td>\n",
       "      <td>0.0</td>\n",
       "      <td>0.0</td>\n",
       "      <td>1.0</td>\n",
       "      <td>0.0</td>\n",
       "      <td>...</td>\n",
       "      <td>5000.0</td>\n",
       "      <td>292</td>\n",
       "      <td>0</td>\n",
       "      <td>0.0</td>\n",
       "      <td>402</td>\n",
       "      <td>38.0</td>\n",
       "      <td>5.996452</td>\n",
       "      <td>3.637586</td>\n",
       "      <td>0.003425</td>\n",
       "      <td>-5.676754</td>\n",
       "    </tr>\n",
       "    <tr>\n",
       "      <th>4</th>\n",
       "      <td>5</td>\n",
       "      <td>2020-11-02</td>\n",
       "      <td>Community &amp; Neighbors</td>\n",
       "      <td>I have been on the board of the Center for Fam...</td>\n",
       "      <td>1.0</td>\n",
       "      <td>1.0</td>\n",
       "      <td>0.0</td>\n",
       "      <td>1.0</td>\n",
       "      <td>17.0</td>\n",
       "      <td>0.0</td>\n",
       "      <td>...</td>\n",
       "      <td>100000.0</td>\n",
       "      <td>2</td>\n",
       "      <td>0</td>\n",
       "      <td>0.0</td>\n",
       "      <td>1666</td>\n",
       "      <td>30.0</td>\n",
       "      <td>7.418181</td>\n",
       "      <td>3.401197</td>\n",
       "      <td>8.500000</td>\n",
       "      <td>2.140066</td>\n",
       "    </tr>\n",
       "    <tr>\n",
       "      <th>...</th>\n",
       "      <td>...</td>\n",
       "      <td>...</td>\n",
       "      <td>...</td>\n",
       "      <td>...</td>\n",
       "      <td>...</td>\n",
       "      <td>...</td>\n",
       "      <td>...</td>\n",
       "      <td>...</td>\n",
       "      <td>...</td>\n",
       "      <td>...</td>\n",
       "      <td>...</td>\n",
       "      <td>...</td>\n",
       "      <td>...</td>\n",
       "      <td>...</td>\n",
       "      <td>...</td>\n",
       "      <td>...</td>\n",
       "      <td>...</td>\n",
       "      <td>...</td>\n",
       "      <td>...</td>\n",
       "      <td>...</td>\n",
       "      <td>...</td>\n",
       "    </tr>\n",
       "    <tr>\n",
       "      <th>3899</th>\n",
       "      <td>3901</td>\n",
       "      <td>2020-07-24</td>\n",
       "      <td>Medical, Illness &amp; Healing</td>\n",
       "      <td>In late June, Matt Hansen was diagnosed with a...</td>\n",
       "      <td>1.0</td>\n",
       "      <td>1.0</td>\n",
       "      <td>0.0</td>\n",
       "      <td>17.0</td>\n",
       "      <td>673.0</td>\n",
       "      <td>0.0</td>\n",
       "      <td>...</td>\n",
       "      <td>15000.0</td>\n",
       "      <td>102</td>\n",
       "      <td>1</td>\n",
       "      <td>0.0</td>\n",
       "      <td>1399</td>\n",
       "      <td>65.0</td>\n",
       "      <td>7.243513</td>\n",
       "      <td>4.174387</td>\n",
       "      <td>6.598039</td>\n",
       "      <td>1.886773</td>\n",
       "    </tr>\n",
       "    <tr>\n",
       "      <th>3900</th>\n",
       "      <td>3902</td>\n",
       "      <td>2020-10-13</td>\n",
       "      <td>Funerals &amp; Memorials</td>\n",
       "      <td>Scott Zurn was diagnosed with an aggressive fo...</td>\n",
       "      <td>1.0</td>\n",
       "      <td>1.0</td>\n",
       "      <td>0.0</td>\n",
       "      <td>27.0</td>\n",
       "      <td>356.0</td>\n",
       "      <td>0.0</td>\n",
       "      <td>...</td>\n",
       "      <td>20000.0</td>\n",
       "      <td>21</td>\n",
       "      <td>1</td>\n",
       "      <td>0.0</td>\n",
       "      <td>1423</td>\n",
       "      <td>238.0</td>\n",
       "      <td>7.260523</td>\n",
       "      <td>5.472271</td>\n",
       "      <td>16.952381</td>\n",
       "      <td>2.830408</td>\n",
       "    </tr>\n",
       "    <tr>\n",
       "      <th>3901</th>\n",
       "      <td>3903</td>\n",
       "      <td>2020-08-28</td>\n",
       "      <td>Medical, Illness &amp; Healing</td>\n",
       "      <td>First, and foremost, let��셲 talk about Sean. S...</td>\n",
       "      <td>2.0</td>\n",
       "      <td>2.0</td>\n",
       "      <td>0.0</td>\n",
       "      <td>41.0</td>\n",
       "      <td>562.0</td>\n",
       "      <td>3.0</td>\n",
       "      <td>...</td>\n",
       "      <td>50000.0</td>\n",
       "      <td>67</td>\n",
       "      <td>1</td>\n",
       "      <td>3.0</td>\n",
       "      <td>3135</td>\n",
       "      <td>24.0</td>\n",
       "      <td>8.050384</td>\n",
       "      <td>3.178054</td>\n",
       "      <td>8.388060</td>\n",
       "      <td>2.126809</td>\n",
       "    </tr>\n",
       "    <tr>\n",
       "      <th>3902</th>\n",
       "      <td>3904</td>\n",
       "      <td>2020-08-09</td>\n",
       "      <td>Funerals &amp; Memorials</td>\n",
       "      <td>On Monday August 3, 2020, Koorosh Yaghoubian (...</td>\n",
       "      <td>1.0</td>\n",
       "      <td>1.0</td>\n",
       "      <td>0.0</td>\n",
       "      <td>1.0</td>\n",
       "      <td>312.0</td>\n",
       "      <td>0.0</td>\n",
       "      <td>...</td>\n",
       "      <td>80000.0</td>\n",
       "      <td>86</td>\n",
       "      <td>0</td>\n",
       "      <td>0.0</td>\n",
       "      <td>617</td>\n",
       "      <td>219.0</td>\n",
       "      <td>6.424869</td>\n",
       "      <td>5.389072</td>\n",
       "      <td>3.627907</td>\n",
       "      <td>1.288656</td>\n",
       "    </tr>\n",
       "    <tr>\n",
       "      <th>3903</th>\n",
       "      <td>3905</td>\n",
       "      <td>2020-09-07</td>\n",
       "      <td>Medical, Illness &amp; Healing</td>\n",
       "      <td>Nothing is more devastating for parents than w...</td>\n",
       "      <td>1.0</td>\n",
       "      <td>1.0</td>\n",
       "      <td>0.0</td>\n",
       "      <td>25.0</td>\n",
       "      <td>1053.0</td>\n",
       "      <td>1.0</td>\n",
       "      <td>...</td>\n",
       "      <td>100000.0</td>\n",
       "      <td>57</td>\n",
       "      <td>0</td>\n",
       "      <td>1.0</td>\n",
       "      <td>2938</td>\n",
       "      <td>58.0</td>\n",
       "      <td>7.985484</td>\n",
       "      <td>4.060443</td>\n",
       "      <td>18.473684</td>\n",
       "      <td>2.916347</td>\n",
       "    </tr>\n",
       "  </tbody>\n",
       "</table>\n",
       "<p>3904 rows × 23 columns</p>\n",
       "</div>"
      ],
      "text/plain": [
       "      chid created_date                    category  \\\n",
       "0        1   2020-06-03        Funerals & Memorials   \n",
       "1        2   2020-06-21  Medical, Illness & Healing   \n",
       "2        3   2020-06-19        Education & Learning   \n",
       "3        4   2020-01-16     Accidents & Emergencies   \n",
       "4        5   2020-11-02       Community & Neighbors   \n",
       "...    ...          ...                         ...   \n",
       "3899  3901   2020-07-24  Medical, Illness & Healing   \n",
       "3900  3902   2020-10-13        Funerals & Memorials   \n",
       "3901  3903   2020-08-28  Medical, Illness & Healing   \n",
       "3902  3904   2020-08-09        Funerals & Memorials   \n",
       "3903  3905   2020-09-07  Medical, Illness & Healing   \n",
       "\n",
       "                                                  story  total_photos  \\\n",
       "0     This is the official Chris Beaty GoFundMe crea...           3.0   \n",
       "1     Shortly about Saha: | It is with a heavy heart...           1.0   \n",
       "2     Cost Breakdown | 100 Computers x approximately...           2.0   \n",
       "3     I was caught within 7 miles of the Taal Volcan...           1.0   \n",
       "4     I have been on the board of the Center for Fam...           1.0   \n",
       "...                                                 ...           ...   \n",
       "3899  In late June, Matt Hansen was diagnosed with a...           1.0   \n",
       "3900  Scott Zurn was diagnosed with an aggressive fo...           1.0   \n",
       "3901  First, and foremost, let��셲 talk about Sean. S...           2.0   \n",
       "3902  On Monday August 3, 2020, Koorosh Yaghoubian (...           1.0   \n",
       "3903  Nothing is more devastating for parents than w...           1.0   \n",
       "\n",
       "      total_co_photos  total_community_photos  total_comments  \\\n",
       "0                 1.0                     2.0            74.0   \n",
       "1                 1.0                     0.0             0.0   \n",
       "2                 2.0                     0.0             7.0   \n",
       "3                 1.0                     0.0             0.0   \n",
       "4                 1.0                     0.0             1.0   \n",
       "...               ...                     ...             ...   \n",
       "3899              1.0                     0.0            17.0   \n",
       "3900              1.0                     0.0            27.0   \n",
       "3901              2.0                     0.0            41.0   \n",
       "3902              1.0                     0.0             1.0   \n",
       "3903              1.0                     0.0            25.0   \n",
       "\n",
       "      total_donations  total_updates  ...  funds_target_dollar  char_age  \\\n",
       "0              1705.0            1.0  ...             200000.0       153   \n",
       "1               602.0            0.0  ...             226000.0       135   \n",
       "2               125.0            4.0  ...              30000.0       138   \n",
       "3                 1.0            0.0  ...               5000.0       292   \n",
       "4                17.0            0.0  ...             100000.0         2   \n",
       "...               ...            ...  ...                  ...       ...   \n",
       "3899            673.0            0.0  ...              15000.0       102   \n",
       "3900            356.0            0.0  ...              20000.0        21   \n",
       "3901            562.0            3.0  ...              50000.0        67   \n",
       "3902            312.0            0.0  ...              80000.0        86   \n",
       "3903           1053.0            1.0  ...             100000.0        57   \n",
       "\n",
       "      dum_success  update_counts  storylength  commentlength  logstorylength  \\\n",
       "0               0            1.0         1506          146.0        7.317212   \n",
       "1               0            0.0         5152           18.0        8.547140   \n",
       "2               0            4.0         6270          304.0        8.743532   \n",
       "3               0            0.0          402           38.0        5.996452   \n",
       "4               0            0.0         1666           30.0        7.418181   \n",
       "...           ...            ...          ...            ...             ...   \n",
       "3899            1            0.0         1399           65.0        7.243513   \n",
       "3900            1            0.0         1423          238.0        7.260523   \n",
       "3901            1            3.0         3135           24.0        8.050384   \n",
       "3902            0            0.0          617          219.0        6.424869   \n",
       "3903            0            1.0         2938           58.0        7.985484   \n",
       "\n",
       "      logcomlength  daily_average_donations  log_daily_do  \n",
       "0         4.983607                11.143791      2.410882  \n",
       "1         2.890372                 4.459259      1.494983  \n",
       "2         5.717028                 0.905797     -0.098940  \n",
       "3         3.637586                 0.003425     -5.676754  \n",
       "4         3.401197                 8.500000      2.140066  \n",
       "...            ...                      ...           ...  \n",
       "3899      4.174387                 6.598039      1.886773  \n",
       "3900      5.472271                16.952381      2.830408  \n",
       "3901      3.178054                 8.388060      2.126809  \n",
       "3902      5.389072                 3.627907      1.288656  \n",
       "3903      4.060443                18.473684      2.916347  \n",
       "\n",
       "[3904 rows x 23 columns]"
      ]
     },
     "execution_count": 8,
     "metadata": {},
     "output_type": "execute_result"
    }
   ],
   "source": [
    "# df4의 describe 및 히스토그램을 보니, 치우친 분포이므로 로그취하기!\n",
    "df4[\"log_daily_do\"]=np.log(df4[\"daily_average_donations\"])\n",
    "df4"
   ]
  },
  {
   "cell_type": "code",
   "execution_count": 9,
   "metadata": {},
   "outputs": [
    {
     "data": {
      "text/plain": [
       "array([4, 3, 1, ..., 4, 3, 4], dtype=int64)"
      ]
     },
     "execution_count": 9,
     "metadata": {},
     "output_type": "execute_result"
    }
   ],
   "source": [
    "# 사분위로 나눠서 해야겠다.\n",
    "bins=[0.000000, 1.528641, 3.494999, 8.047438]\n",
    "np.digitize(df4['daily_average_donations'],bins)"
   ]
  },
  {
   "cell_type": "code",
   "execution_count": 10,
   "metadata": {
    "collapsed": true
   },
   "outputs": [
    {
     "data": {
      "text/plain": [
       "0       4\n",
       "1       3\n",
       "2       1\n",
       "3       1\n",
       "4       4\n",
       "       ..\n",
       "3899    3\n",
       "3900    4\n",
       "3901    4\n",
       "3902    3\n",
       "3903    4\n",
       "Name: catraise, Length: 3904, dtype: int64"
      ]
     },
     "execution_count": 10,
     "metadata": {},
     "output_type": "execute_result"
    }
   ],
   "source": [
    "df4['catraise']=np.digitize(df4['daily_average_donations'],bins)\n",
    "df4['catraise']"
   ]
  },
  {
   "cell_type": "code",
   "execution_count": 11,
   "metadata": {
    "collapsed": true
   },
   "outputs": [
    {
     "data": {
      "text/html": [
       "<table class=\"simpletable\">\n",
       "<caption>OLS Regression Results</caption>\n",
       "<tr>\n",
       "  <th>Dep. Variable:</th>    <td>daily_average_donations</td> <th>  R-squared:         </th> <td>   0.380</td> \n",
       "</tr>\n",
       "<tr>\n",
       "  <th>Model:</th>                      <td>OLS</td>           <th>  Adj. R-squared:    </th> <td>   0.379</td> \n",
       "</tr>\n",
       "<tr>\n",
       "  <th>Method:</th>                <td>Least Squares</td>      <th>  F-statistic:       </th> <td>   289.6</td> \n",
       "</tr>\n",
       "<tr>\n",
       "  <th>Date:</th>                <td>Sun, 29 Nov 2020</td>     <th>  Prob (F-statistic):</th>  <td>  0.00</td>  \n",
       "</tr>\n",
       "<tr>\n",
       "  <th>Time:</th>                    <td>18:02:12</td>         <th>  Log-Likelihood:    </th> <td> -18834.</td> \n",
       "</tr>\n",
       "<tr>\n",
       "  <th>No. Observations:</th>         <td>  3791</td>          <th>  AIC:               </th> <td>3.769e+04</td>\n",
       "</tr>\n",
       "<tr>\n",
       "  <th>Df Residuals:</th>             <td>  3782</td>          <th>  BIC:               </th> <td>3.774e+04</td>\n",
       "</tr>\n",
       "<tr>\n",
       "  <th>Df Model:</th>                 <td>     8</td>          <th>                     </th>     <td> </td>    \n",
       "</tr>\n",
       "<tr>\n",
       "  <th>Covariance Type:</th>         <td>nonrobust</td>        <th>                     </th>     <td> </td>    \n",
       "</tr>\n",
       "</table>\n",
       "<table class=\"simpletable\">\n",
       "<tr>\n",
       "           <td></td>             <th>coef</th>     <th>std err</th>      <th>t</th>      <th>P>|t|</th>  <th>[0.025</th>    <th>0.975]</th>  \n",
       "</tr>\n",
       "<tr>\n",
       "  <th>Intercept</th>          <td>   16.5308</td> <td>    5.841</td> <td>    2.830</td> <td> 0.005</td> <td>    5.079</td> <td>   27.983</td>\n",
       "</tr>\n",
       "<tr>\n",
       "  <th>social_share_total</th> <td>-2.294e-05</td> <td>    0.000</td> <td>   -0.207</td> <td> 0.836</td> <td>   -0.000</td> <td>    0.000</td>\n",
       "</tr>\n",
       "<tr>\n",
       "  <th>char_age</th>           <td>   -0.1205</td> <td>    0.006</td> <td>  -19.557</td> <td> 0.000</td> <td>   -0.133</td> <td>   -0.108</td>\n",
       "</tr>\n",
       "<tr>\n",
       "  <th>logstorylength</th>     <td>    0.6958</td> <td>    0.707</td> <td>    0.984</td> <td> 0.325</td> <td>   -0.690</td> <td>    2.081</td>\n",
       "</tr>\n",
       "<tr>\n",
       "  <th>total_photos</th>       <td>   -0.1204</td> <td>    0.054</td> <td>   -2.235</td> <td> 0.025</td> <td>   -0.226</td> <td>   -0.015</td>\n",
       "</tr>\n",
       "<tr>\n",
       "  <th>update_counts</th>      <td>   -0.3374</td> <td>    0.141</td> <td>   -2.386</td> <td> 0.017</td> <td>   -0.615</td> <td>   -0.060</td>\n",
       "</tr>\n",
       "<tr>\n",
       "  <th>total_comments</th>     <td>    0.1020</td> <td>    0.012</td> <td>    8.708</td> <td> 0.000</td> <td>    0.079</td> <td>    0.125</td>\n",
       "</tr>\n",
       "<tr>\n",
       "  <th>logcomlength</th>       <td>    0.1459</td> <td>    0.600</td> <td>    0.243</td> <td> 0.808</td> <td>   -1.030</td> <td>    1.321</td>\n",
       "</tr>\n",
       "<tr>\n",
       "  <th>campaign_hearts</th>    <td>    0.0080</td> <td>    0.000</td> <td>   29.456</td> <td> 0.000</td> <td>    0.007</td> <td>    0.009</td>\n",
       "</tr>\n",
       "</table>\n",
       "<table class=\"simpletable\">\n",
       "<tr>\n",
       "  <th>Omnibus:</th>       <td>7822.295</td> <th>  Durbin-Watson:     </th>   <td>   1.977</td>  \n",
       "</tr>\n",
       "<tr>\n",
       "  <th>Prob(Omnibus):</th>  <td> 0.000</td>  <th>  Jarque-Bera (JB):  </th> <td>35090712.003</td>\n",
       "</tr>\n",
       "<tr>\n",
       "  <th>Skew:</th>           <td>17.067</td>  <th>  Prob(JB):          </th>   <td>    0.00</td>  \n",
       "</tr>\n",
       "<tr>\n",
       "  <th>Kurtosis:</th>       <td>473.092</td> <th>  Cond. No.          </th>   <td>7.69e+04</td>  \n",
       "</tr>\n",
       "</table><br/><br/>Warnings:<br/>[1] Standard Errors assume that the covariance matrix of the errors is correctly specified.<br/>[2] The condition number is large, 7.69e+04. This might indicate that there are<br/>strong multicollinearity or other numerical problems."
      ],
      "text/plain": [
       "<class 'statsmodels.iolib.summary.Summary'>\n",
       "\"\"\"\n",
       "                               OLS Regression Results                              \n",
       "===================================================================================\n",
       "Dep. Variable:     daily_average_donations   R-squared:                       0.380\n",
       "Model:                                 OLS   Adj. R-squared:                  0.379\n",
       "Method:                      Least Squares   F-statistic:                     289.6\n",
       "Date:                     Sun, 29 Nov 2020   Prob (F-statistic):               0.00\n",
       "Time:                             18:02:12   Log-Likelihood:                -18834.\n",
       "No. Observations:                     3791   AIC:                         3.769e+04\n",
       "Df Residuals:                         3782   BIC:                         3.774e+04\n",
       "Df Model:                                8                                         \n",
       "Covariance Type:                 nonrobust                                         \n",
       "======================================================================================\n",
       "                         coef    std err          t      P>|t|      [0.025      0.975]\n",
       "--------------------------------------------------------------------------------------\n",
       "Intercept             16.5308      5.841      2.830      0.005       5.079      27.983\n",
       "social_share_total -2.294e-05      0.000     -0.207      0.836      -0.000       0.000\n",
       "char_age              -0.1205      0.006    -19.557      0.000      -0.133      -0.108\n",
       "logstorylength         0.6958      0.707      0.984      0.325      -0.690       2.081\n",
       "total_photos          -0.1204      0.054     -2.235      0.025      -0.226      -0.015\n",
       "update_counts         -0.3374      0.141     -2.386      0.017      -0.615      -0.060\n",
       "total_comments         0.1020      0.012      8.708      0.000       0.079       0.125\n",
       "logcomlength           0.1459      0.600      0.243      0.808      -1.030       1.321\n",
       "campaign_hearts        0.0080      0.000     29.456      0.000       0.007       0.009\n",
       "==============================================================================\n",
       "Omnibus:                     7822.295   Durbin-Watson:                   1.977\n",
       "Prob(Omnibus):                  0.000   Jarque-Bera (JB):         35090712.003\n",
       "Skew:                          17.067   Prob(JB):                         0.00\n",
       "Kurtosis:                     473.092   Cond. No.                     7.69e+04\n",
       "==============================================================================\n",
       "\n",
       "Warnings:\n",
       "[1] Standard Errors assume that the covariance matrix of the errors is correctly specified.\n",
       "[2] The condition number is large, 7.69e+04. This might indicate that there are\n",
       "strong multicollinearity or other numerical problems.\n",
       "\"\"\""
      ]
     },
     "execution_count": 11,
     "metadata": {},
     "output_type": "execute_result"
    }
   ],
   "source": [
    "# 1. 그냥\n",
    "res_success=ols('daily_average_donations ~social_share_total+char_age +logstorylength+total_photos+ update_counts +total_comments+logcomlength+campaign_hearts',df4).fit()\n",
    "res_success.summary()"
   ]
  },
  {
   "cell_type": "code",
   "execution_count": 27,
   "metadata": {},
   "outputs": [],
   "source": [
    "# 2. 로그 (안해도 됨)\n",
    "#res_success=ols('log_daily_do ~social_share_total+char_age +logstorylength+total_photos+ update_counts +total_comments+logcomlength+campaign_hearts',df4).fit()\n",
    "#res_success.summary()"
   ]
  },
  {
   "cell_type": "code",
   "execution_count": 13,
   "metadata": {
    "collapsed": true
   },
   "outputs": [
    {
     "data": {
      "text/html": [
       "<table class=\"simpletable\">\n",
       "<caption>OLS Regression Results</caption>\n",
       "<tr>\n",
       "  <th>Dep. Variable:</th>        <td>catraise</td>     <th>  R-squared:         </th> <td>   0.577</td>\n",
       "</tr>\n",
       "<tr>\n",
       "  <th>Model:</th>                   <td>OLS</td>       <th>  Adj. R-squared:    </th> <td>   0.576</td>\n",
       "</tr>\n",
       "<tr>\n",
       "  <th>Method:</th>             <td>Least Squares</td>  <th>  F-statistic:       </th> <td>   644.1</td>\n",
       "</tr>\n",
       "<tr>\n",
       "  <th>Date:</th>             <td>Sun, 29 Nov 2020</td> <th>  Prob (F-statistic):</th>  <td>  0.00</td> \n",
       "</tr>\n",
       "<tr>\n",
       "  <th>Time:</th>                 <td>18:02:30</td>     <th>  Log-Likelihood:    </th> <td> -4174.7</td>\n",
       "</tr>\n",
       "<tr>\n",
       "  <th>No. Observations:</th>      <td>  3792</td>      <th>  AIC:               </th> <td>   8367.</td>\n",
       "</tr>\n",
       "<tr>\n",
       "  <th>Df Residuals:</th>          <td>  3783</td>      <th>  BIC:               </th> <td>   8424.</td>\n",
       "</tr>\n",
       "<tr>\n",
       "  <th>Df Model:</th>              <td>     8</td>      <th>                     </th>     <td> </td>   \n",
       "</tr>\n",
       "<tr>\n",
       "  <th>Covariance Type:</th>      <td>nonrobust</td>    <th>                     </th>     <td> </td>   \n",
       "</tr>\n",
       "</table>\n",
       "<table class=\"simpletable\">\n",
       "<tr>\n",
       "           <td></td>             <th>coef</th>     <th>std err</th>      <th>t</th>      <th>P>|t|</th>  <th>[0.025</th>    <th>0.975]</th>  \n",
       "</tr>\n",
       "<tr>\n",
       "  <th>Intercept</th>          <td>    3.0125</td> <td>    0.122</td> <td>   24.659</td> <td> 0.000</td> <td>    2.773</td> <td>    3.252</td>\n",
       "</tr>\n",
       "<tr>\n",
       "  <th>social_share_total</th> <td> 1.796e-05</td> <td> 2.32e-06</td> <td>    7.760</td> <td> 0.000</td> <td> 1.34e-05</td> <td> 2.25e-05</td>\n",
       "</tr>\n",
       "<tr>\n",
       "  <th>logstorylength</th>     <td>    0.0316</td> <td>    0.015</td> <td>    2.137</td> <td> 0.033</td> <td>    0.003</td> <td>    0.061</td>\n",
       "</tr>\n",
       "<tr>\n",
       "  <th>char_age</th>           <td>   -0.0076</td> <td>    0.000</td> <td>  -58.984</td> <td> 0.000</td> <td>   -0.008</td> <td>   -0.007</td>\n",
       "</tr>\n",
       "<tr>\n",
       "  <th>total_photos</th>       <td>   -0.0062</td> <td>    0.001</td> <td>   -5.490</td> <td> 0.000</td> <td>   -0.008</td> <td>   -0.004</td>\n",
       "</tr>\n",
       "<tr>\n",
       "  <th>update_counts</th>      <td>    0.0271</td> <td>    0.003</td> <td>    9.176</td> <td> 0.000</td> <td>    0.021</td> <td>    0.033</td>\n",
       "</tr>\n",
       "<tr>\n",
       "  <th>total_comments</th>     <td>    0.0087</td> <td>    0.000</td> <td>   35.531</td> <td> 0.000</td> <td>    0.008</td> <td>    0.009</td>\n",
       "</tr>\n",
       "<tr>\n",
       "  <th>logcomlength</th>       <td>    0.0100</td> <td>    0.013</td> <td>    0.795</td> <td> 0.427</td> <td>   -0.015</td> <td>    0.035</td>\n",
       "</tr>\n",
       "<tr>\n",
       "  <th>campaign_hearts</th>    <td>-5.042e-06</td> <td> 5.67e-06</td> <td>   -0.889</td> <td> 0.374</td> <td>-1.62e-05</td> <td> 6.08e-06</td>\n",
       "</tr>\n",
       "</table>\n",
       "<table class=\"simpletable\">\n",
       "<tr>\n",
       "  <th>Omnibus:</th>       <td>22.828</td> <th>  Durbin-Watson:     </th> <td>   1.960</td>\n",
       "</tr>\n",
       "<tr>\n",
       "  <th>Prob(Omnibus):</th> <td> 0.000</td> <th>  Jarque-Bera (JB):  </th> <td>  23.479</td>\n",
       "</tr>\n",
       "<tr>\n",
       "  <th>Skew:</th>          <td>-0.172</td> <th>  Prob(JB):          </th> <td>7.97e-06</td>\n",
       "</tr>\n",
       "<tr>\n",
       "  <th>Kurtosis:</th>      <td> 3.174</td> <th>  Cond. No.          </th> <td>7.69e+04</td>\n",
       "</tr>\n",
       "</table><br/><br/>Warnings:<br/>[1] Standard Errors assume that the covariance matrix of the errors is correctly specified.<br/>[2] The condition number is large, 7.69e+04. This might indicate that there are<br/>strong multicollinearity or other numerical problems."
      ],
      "text/plain": [
       "<class 'statsmodels.iolib.summary.Summary'>\n",
       "\"\"\"\n",
       "                            OLS Regression Results                            \n",
       "==============================================================================\n",
       "Dep. Variable:               catraise   R-squared:                       0.577\n",
       "Model:                            OLS   Adj. R-squared:                  0.576\n",
       "Method:                 Least Squares   F-statistic:                     644.1\n",
       "Date:                Sun, 29 Nov 2020   Prob (F-statistic):               0.00\n",
       "Time:                        18:02:30   Log-Likelihood:                -4174.7\n",
       "No. Observations:                3792   AIC:                             8367.\n",
       "Df Residuals:                    3783   BIC:                             8424.\n",
       "Df Model:                           8                                         \n",
       "Covariance Type:            nonrobust                                         \n",
       "======================================================================================\n",
       "                         coef    std err          t      P>|t|      [0.025      0.975]\n",
       "--------------------------------------------------------------------------------------\n",
       "Intercept              3.0125      0.122     24.659      0.000       2.773       3.252\n",
       "social_share_total  1.796e-05   2.32e-06      7.760      0.000    1.34e-05    2.25e-05\n",
       "logstorylength         0.0316      0.015      2.137      0.033       0.003       0.061\n",
       "char_age              -0.0076      0.000    -58.984      0.000      -0.008      -0.007\n",
       "total_photos          -0.0062      0.001     -5.490      0.000      -0.008      -0.004\n",
       "update_counts          0.0271      0.003      9.176      0.000       0.021       0.033\n",
       "total_comments         0.0087      0.000     35.531      0.000       0.008       0.009\n",
       "logcomlength           0.0100      0.013      0.795      0.427      -0.015       0.035\n",
       "campaign_hearts    -5.042e-06   5.67e-06     -0.889      0.374   -1.62e-05    6.08e-06\n",
       "==============================================================================\n",
       "Omnibus:                       22.828   Durbin-Watson:                   1.960\n",
       "Prob(Omnibus):                  0.000   Jarque-Bera (JB):               23.479\n",
       "Skew:                          -0.172   Prob(JB):                     7.97e-06\n",
       "Kurtosis:                       3.174   Cond. No.                     7.69e+04\n",
       "==============================================================================\n",
       "\n",
       "Warnings:\n",
       "[1] Standard Errors assume that the covariance matrix of the errors is correctly specified.\n",
       "[2] The condition number is large, 7.69e+04. This might indicate that there are\n",
       "strong multicollinearity or other numerical problems.\n",
       "\"\"\""
      ]
     },
     "execution_count": 13,
     "metadata": {},
     "output_type": "execute_result"
    }
   ],
   "source": [
    "# 3. 사분위\n",
    "res_success=ols('catraise ~social_share_total +logstorylength+char_age+total_photos+ update_counts +total_comments+logcomlength+campaign_hearts',df4).fit()\n",
    "res_success.summary()"
   ]
  },
  {
   "cell_type": "markdown",
   "metadata": {},
   "source": [
    "2) 1일 평균 기부금액부터 보자!"
   ]
  },
  {
   "cell_type": "code",
   "execution_count": 14,
   "metadata": {
    "scrolled": true
   },
   "outputs": [],
   "source": [
    "# 먼저, 1일 평균 모금액구하고, inf는 Null처리\n",
    "df4_1 = df3_1.assign(daily_average_amount = df3_1['funds_raised_dollar'] / df3_1['char_age'])\n",
    "df4_1.replace([np.inf, -np.inf], np.nan,inplace=True)"
   ]
  },
  {
   "cell_type": "code",
   "execution_count": 15,
   "metadata": {
    "collapsed": true
   },
   "outputs": [
    {
     "data": {
      "text/plain": [
       "count     3903.000000\n",
       "mean      1006.098700\n",
       "std       2811.638880\n",
       "min          0.074074\n",
       "25%        206.375837\n",
       "50%        390.275000\n",
       "75%        817.438974\n",
       "max      96062.142857\n",
       "Name: daily_average_amount, dtype: float64"
      ]
     },
     "execution_count": 15,
     "metadata": {},
     "output_type": "execute_result"
    }
   ],
   "source": [
    "df4_1['daily_average_amount'].describe()"
   ]
  },
  {
   "cell_type": "code",
   "execution_count": 16,
   "metadata": {
    "collapsed": true
   },
   "outputs": [
    {
     "data": {
      "text/plain": [
       "<matplotlib.axes._subplots.AxesSubplot at 0x1b2db659c70>"
      ]
     },
     "execution_count": 16,
     "metadata": {},
     "output_type": "execute_result"
    },
    {
     "data": {
      "image/png": "[encoded data removed]",
      "text/plain": [
       "<Figure size 432x288 with 1 Axes>"
      ]
     },
     "metadata": {
      "needs_background": "light"
     },
     "output_type": "display_data"
    }
   ],
   "source": [
    "sns.distplot(df4_1['daily_average_amount'])"
   ]
  },
  {
   "cell_type": "code",
   "execution_count": 17,
   "metadata": {
    "collapsed": true
   },
   "outputs": [
    {
     "data": {
      "text/html": [
       "<div>\n",
       "<style scoped>\n",
       "    .dataframe tbody tr th:only-of-type {\n",
       "        vertical-align: middle;\n",
       "    }\n",
       "\n",
       "    .dataframe tbody tr th {\n",
       "        vertical-align: top;\n",
       "    }\n",
       "\n",
       "    .dataframe thead th {\n",
       "        text-align: right;\n",
       "    }\n",
       "</style>\n",
       "<table border=\"1\" class=\"dataframe\">\n",
       "  <thead>\n",
       "    <tr style=\"text-align: right;\">\n",
       "      <th></th>\n",
       "      <th>chid</th>\n",
       "      <th>created_date</th>\n",
       "      <th>category</th>\n",
       "      <th>story</th>\n",
       "      <th>total_photos</th>\n",
       "      <th>total_co_photos</th>\n",
       "      <th>total_community_photos</th>\n",
       "      <th>total_comments</th>\n",
       "      <th>total_donations</th>\n",
       "      <th>total_updates</th>\n",
       "      <th>...</th>\n",
       "      <th>funds_target_dollar</th>\n",
       "      <th>char_age</th>\n",
       "      <th>dum_success</th>\n",
       "      <th>update_counts</th>\n",
       "      <th>storylength</th>\n",
       "      <th>commentlength</th>\n",
       "      <th>logstorylength</th>\n",
       "      <th>logcomlength</th>\n",
       "      <th>daily_average_amount</th>\n",
       "      <th>log_daily_am</th>\n",
       "    </tr>\n",
       "  </thead>\n",
       "  <tbody>\n",
       "    <tr>\n",
       "      <th>0</th>\n",
       "      <td>1</td>\n",
       "      <td>2020-06-03</td>\n",
       "      <td>Funerals &amp; Memorials</td>\n",
       "      <td>This is the official Chris Beaty GoFundMe crea...</td>\n",
       "      <td>3.0</td>\n",
       "      <td>1.0</td>\n",
       "      <td>2.0</td>\n",
       "      <td>74.0</td>\n",
       "      <td>1705.0</td>\n",
       "      <td>1.0</td>\n",
       "      <td>...</td>\n",
       "      <td>200000.0</td>\n",
       "      <td>153</td>\n",
       "      <td>0</td>\n",
       "      <td>1.0</td>\n",
       "      <td>1506</td>\n",
       "      <td>146.0</td>\n",
       "      <td>7.317212</td>\n",
       "      <td>4.983607</td>\n",
       "      <td>1144.333333</td>\n",
       "      <td>7.042578</td>\n",
       "    </tr>\n",
       "    <tr>\n",
       "      <th>1</th>\n",
       "      <td>2</td>\n",
       "      <td>2020-06-21</td>\n",
       "      <td>Medical, Illness &amp; Healing</td>\n",
       "      <td>Shortly about Saha: | It is with a heavy heart...</td>\n",
       "      <td>1.0</td>\n",
       "      <td>1.0</td>\n",
       "      <td>0.0</td>\n",
       "      <td>0.0</td>\n",
       "      <td>602.0</td>\n",
       "      <td>0.0</td>\n",
       "      <td>...</td>\n",
       "      <td>226000.0</td>\n",
       "      <td>135</td>\n",
       "      <td>0</td>\n",
       "      <td>0.0</td>\n",
       "      <td>5152</td>\n",
       "      <td>18.0</td>\n",
       "      <td>8.547140</td>\n",
       "      <td>2.890372</td>\n",
       "      <td>250.311111</td>\n",
       "      <td>5.522705</td>\n",
       "    </tr>\n",
       "    <tr>\n",
       "      <th>2</th>\n",
       "      <td>3</td>\n",
       "      <td>2020-06-19</td>\n",
       "      <td>Education &amp; Learning</td>\n",
       "      <td>Cost Breakdown | 100 Computers x approximately...</td>\n",
       "      <td>2.0</td>\n",
       "      <td>2.0</td>\n",
       "      <td>0.0</td>\n",
       "      <td>7.0</td>\n",
       "      <td>125.0</td>\n",
       "      <td>4.0</td>\n",
       "      <td>...</td>\n",
       "      <td>30000.0</td>\n",
       "      <td>138</td>\n",
       "      <td>0</td>\n",
       "      <td>4.0</td>\n",
       "      <td>6270</td>\n",
       "      <td>304.0</td>\n",
       "      <td>8.743532</td>\n",
       "      <td>5.717028</td>\n",
       "      <td>100.326087</td>\n",
       "      <td>4.608426</td>\n",
       "    </tr>\n",
       "    <tr>\n",
       "      <th>3</th>\n",
       "      <td>4</td>\n",
       "      <td>2020-01-16</td>\n",
       "      <td>Accidents &amp; Emergencies</td>\n",
       "      <td>I was caught within 7 miles of the Taal Volcan...</td>\n",
       "      <td>1.0</td>\n",
       "      <td>1.0</td>\n",
       "      <td>0.0</td>\n",
       "      <td>0.0</td>\n",
       "      <td>1.0</td>\n",
       "      <td>0.0</td>\n",
       "      <td>...</td>\n",
       "      <td>5000.0</td>\n",
       "      <td>292</td>\n",
       "      <td>0</td>\n",
       "      <td>0.0</td>\n",
       "      <td>402</td>\n",
       "      <td>38.0</td>\n",
       "      <td>5.996452</td>\n",
       "      <td>3.637586</td>\n",
       "      <td>0.085616</td>\n",
       "      <td>-2.457878</td>\n",
       "    </tr>\n",
       "    <tr>\n",
       "      <th>4</th>\n",
       "      <td>5</td>\n",
       "      <td>2020-11-02</td>\n",
       "      <td>Community &amp; Neighbors</td>\n",
       "      <td>I have been on the board of the Center for Fam...</td>\n",
       "      <td>1.0</td>\n",
       "      <td>1.0</td>\n",
       "      <td>0.0</td>\n",
       "      <td>1.0</td>\n",
       "      <td>17.0</td>\n",
       "      <td>0.0</td>\n",
       "      <td>...</td>\n",
       "      <td>100000.0</td>\n",
       "      <td>2</td>\n",
       "      <td>0</td>\n",
       "      <td>0.0</td>\n",
       "      <td>1666</td>\n",
       "      <td>30.0</td>\n",
       "      <td>7.418181</td>\n",
       "      <td>3.401197</td>\n",
       "      <td>6975.000000</td>\n",
       "      <td>8.850088</td>\n",
       "    </tr>\n",
       "    <tr>\n",
       "      <th>...</th>\n",
       "      <td>...</td>\n",
       "      <td>...</td>\n",
       "      <td>...</td>\n",
       "      <td>...</td>\n",
       "      <td>...</td>\n",
       "      <td>...</td>\n",
       "      <td>...</td>\n",
       "      <td>...</td>\n",
       "      <td>...</td>\n",
       "      <td>...</td>\n",
       "      <td>...</td>\n",
       "      <td>...</td>\n",
       "      <td>...</td>\n",
       "      <td>...</td>\n",
       "      <td>...</td>\n",
       "      <td>...</td>\n",
       "      <td>...</td>\n",
       "      <td>...</td>\n",
       "      <td>...</td>\n",
       "      <td>...</td>\n",
       "      <td>...</td>\n",
       "    </tr>\n",
       "    <tr>\n",
       "      <th>3899</th>\n",
       "      <td>3901</td>\n",
       "      <td>2020-07-24</td>\n",
       "      <td>Medical, Illness &amp; Healing</td>\n",
       "      <td>In late June, Matt Hansen was diagnosed with a...</td>\n",
       "      <td>1.0</td>\n",
       "      <td>1.0</td>\n",
       "      <td>0.0</td>\n",
       "      <td>17.0</td>\n",
       "      <td>673.0</td>\n",
       "      <td>0.0</td>\n",
       "      <td>...</td>\n",
       "      <td>15000.0</td>\n",
       "      <td>102</td>\n",
       "      <td>1</td>\n",
       "      <td>0.0</td>\n",
       "      <td>1399</td>\n",
       "      <td>65.0</td>\n",
       "      <td>7.243513</td>\n",
       "      <td>4.174387</td>\n",
       "      <td>673.441176</td>\n",
       "      <td>6.512401</td>\n",
       "    </tr>\n",
       "    <tr>\n",
       "      <th>3900</th>\n",
       "      <td>3902</td>\n",
       "      <td>2020-10-13</td>\n",
       "      <td>Funerals &amp; Memorials</td>\n",
       "      <td>Scott Zurn was diagnosed with an aggressive fo...</td>\n",
       "      <td>1.0</td>\n",
       "      <td>1.0</td>\n",
       "      <td>0.0</td>\n",
       "      <td>27.0</td>\n",
       "      <td>356.0</td>\n",
       "      <td>0.0</td>\n",
       "      <td>...</td>\n",
       "      <td>20000.0</td>\n",
       "      <td>21</td>\n",
       "      <td>1</td>\n",
       "      <td>0.0</td>\n",
       "      <td>1423</td>\n",
       "      <td>238.0</td>\n",
       "      <td>7.260523</td>\n",
       "      <td>5.472271</td>\n",
       "      <td>1968.095238</td>\n",
       "      <td>7.584821</td>\n",
       "    </tr>\n",
       "    <tr>\n",
       "      <th>3901</th>\n",
       "      <td>3903</td>\n",
       "      <td>2020-08-28</td>\n",
       "      <td>Medical, Illness &amp; Healing</td>\n",
       "      <td>First, and foremost, let��셲 talk about Sean. S...</td>\n",
       "      <td>2.0</td>\n",
       "      <td>2.0</td>\n",
       "      <td>0.0</td>\n",
       "      <td>41.0</td>\n",
       "      <td>562.0</td>\n",
       "      <td>3.0</td>\n",
       "      <td>...</td>\n",
       "      <td>50000.0</td>\n",
       "      <td>67</td>\n",
       "      <td>1</td>\n",
       "      <td>3.0</td>\n",
       "      <td>3135</td>\n",
       "      <td>24.0</td>\n",
       "      <td>8.050384</td>\n",
       "      <td>3.178054</td>\n",
       "      <td>883.656716</td>\n",
       "      <td>6.784069</td>\n",
       "    </tr>\n",
       "    <tr>\n",
       "      <th>3902</th>\n",
       "      <td>3904</td>\n",
       "      <td>2020-08-09</td>\n",
       "      <td>Funerals &amp; Memorials</td>\n",
       "      <td>On Monday August 3, 2020, Koorosh Yaghoubian (...</td>\n",
       "      <td>1.0</td>\n",
       "      <td>1.0</td>\n",
       "      <td>0.0</td>\n",
       "      <td>1.0</td>\n",
       "      <td>312.0</td>\n",
       "      <td>0.0</td>\n",
       "      <td>...</td>\n",
       "      <td>80000.0</td>\n",
       "      <td>86</td>\n",
       "      <td>0</td>\n",
       "      <td>0.0</td>\n",
       "      <td>617</td>\n",
       "      <td>219.0</td>\n",
       "      <td>6.424869</td>\n",
       "      <td>5.389072</td>\n",
       "      <td>683.337209</td>\n",
       "      <td>6.526988</td>\n",
       "    </tr>\n",
       "    <tr>\n",
       "      <th>3903</th>\n",
       "      <td>3905</td>\n",
       "      <td>2020-09-07</td>\n",
       "      <td>Medical, Illness &amp; Healing</td>\n",
       "      <td>Nothing is more devastating for parents than w...</td>\n",
       "      <td>1.0</td>\n",
       "      <td>1.0</td>\n",
       "      <td>0.0</td>\n",
       "      <td>25.0</td>\n",
       "      <td>1053.0</td>\n",
       "      <td>1.0</td>\n",
       "      <td>...</td>\n",
       "      <td>100000.0</td>\n",
       "      <td>57</td>\n",
       "      <td>0</td>\n",
       "      <td>1.0</td>\n",
       "      <td>2938</td>\n",
       "      <td>58.0</td>\n",
       "      <td>7.985484</td>\n",
       "      <td>4.060443</td>\n",
       "      <td>1694.350877</td>\n",
       "      <td>7.435055</td>\n",
       "    </tr>\n",
       "  </tbody>\n",
       "</table>\n",
       "<p>3904 rows × 23 columns</p>\n",
       "</div>"
      ],
      "text/plain": [
       "      chid created_date                    category  \\\n",
       "0        1   2020-06-03        Funerals & Memorials   \n",
       "1        2   2020-06-21  Medical, Illness & Healing   \n",
       "2        3   2020-06-19        Education & Learning   \n",
       "3        4   2020-01-16     Accidents & Emergencies   \n",
       "4        5   2020-11-02       Community & Neighbors   \n",
       "...    ...          ...                         ...   \n",
       "3899  3901   2020-07-24  Medical, Illness & Healing   \n",
       "3900  3902   2020-10-13        Funerals & Memorials   \n",
       "3901  3903   2020-08-28  Medical, Illness & Healing   \n",
       "3902  3904   2020-08-09        Funerals & Memorials   \n",
       "3903  3905   2020-09-07  Medical, Illness & Healing   \n",
       "\n",
       "                                                  story  total_photos  \\\n",
       "0     This is the official Chris Beaty GoFundMe crea...           3.0   \n",
       "1     Shortly about Saha: | It is with a heavy heart...           1.0   \n",
       "2     Cost Breakdown | 100 Computers x approximately...           2.0   \n",
       "3     I was caught within 7 miles of the Taal Volcan...           1.0   \n",
       "4     I have been on the board of the Center for Fam...           1.0   \n",
       "...                                                 ...           ...   \n",
       "3899  In late June, Matt Hansen was diagnosed with a...           1.0   \n",
       "3900  Scott Zurn was diagnosed with an aggressive fo...           1.0   \n",
       "3901  First, and foremost, let��셲 talk about Sean. S...           2.0   \n",
       "3902  On Monday August 3, 2020, Koorosh Yaghoubian (...           1.0   \n",
       "3903  Nothing is more devastating for parents than w...           1.0   \n",
       "\n",
       "      total_co_photos  total_community_photos  total_comments  \\\n",
       "0                 1.0                     2.0            74.0   \n",
       "1                 1.0                     0.0             0.0   \n",
       "2                 2.0                     0.0             7.0   \n",
       "3                 1.0                     0.0             0.0   \n",
       "4                 1.0                     0.0             1.0   \n",
       "...               ...                     ...             ...   \n",
       "3899              1.0                     0.0            17.0   \n",
       "3900              1.0                     0.0            27.0   \n",
       "3901              2.0                     0.0            41.0   \n",
       "3902              1.0                     0.0             1.0   \n",
       "3903              1.0                     0.0            25.0   \n",
       "\n",
       "      total_donations  total_updates  ...  funds_target_dollar  char_age  \\\n",
       "0              1705.0            1.0  ...             200000.0       153   \n",
       "1               602.0            0.0  ...             226000.0       135   \n",
       "2               125.0            4.0  ...              30000.0       138   \n",
       "3                 1.0            0.0  ...               5000.0       292   \n",
       "4                17.0            0.0  ...             100000.0         2   \n",
       "...               ...            ...  ...                  ...       ...   \n",
       "3899            673.0            0.0  ...              15000.0       102   \n",
       "3900            356.0            0.0  ...              20000.0        21   \n",
       "3901            562.0            3.0  ...              50000.0        67   \n",
       "3902            312.0            0.0  ...              80000.0        86   \n",
       "3903           1053.0            1.0  ...             100000.0        57   \n",
       "\n",
       "      dum_success  update_counts  storylength  commentlength  logstorylength  \\\n",
       "0               0            1.0         1506          146.0        7.317212   \n",
       "1               0            0.0         5152           18.0        8.547140   \n",
       "2               0            4.0         6270          304.0        8.743532   \n",
       "3               0            0.0          402           38.0        5.996452   \n",
       "4               0            0.0         1666           30.0        7.418181   \n",
       "...           ...            ...          ...            ...             ...   \n",
       "3899            1            0.0         1399           65.0        7.243513   \n",
       "3900            1            0.0         1423          238.0        7.260523   \n",
       "3901            1            3.0         3135           24.0        8.050384   \n",
       "3902            0            0.0          617          219.0        6.424869   \n",
       "3903            0            1.0         2938           58.0        7.985484   \n",
       "\n",
       "      logcomlength  daily_average_amount  log_daily_am  \n",
       "0         4.983607           1144.333333      7.042578  \n",
       "1         2.890372            250.311111      5.522705  \n",
       "2         5.717028            100.326087      4.608426  \n",
       "3         3.637586              0.085616     -2.457878  \n",
       "4         3.401197           6975.000000      8.850088  \n",
       "...            ...                   ...           ...  \n",
       "3899      4.174387            673.441176      6.512401  \n",
       "3900      5.472271           1968.095238      7.584821  \n",
       "3901      3.178054            883.656716      6.784069  \n",
       "3902      5.389072            683.337209      6.526988  \n",
       "3903      4.060443           1694.350877      7.435055  \n",
       "\n",
       "[3904 rows x 23 columns]"
      ]
     },
     "execution_count": 17,
     "metadata": {},
     "output_type": "execute_result"
    }
   ],
   "source": [
    "# df4의 describe 및 히스토그램을 보니, 치우친 분포이므로 로그취하기!\n",
    "df4_1[\"log_daily_am\"]=np.log(df4_1[\"daily_average_amount\"])\n",
    "df4_1"
   ]
  },
  {
   "cell_type": "code",
   "execution_count": 18,
   "metadata": {
    "collapsed": true
   },
   "outputs": [
    {
     "data": {
      "text/plain": [
       "array([4, 2, 1, ..., 4, 3, 4], dtype=int64)"
      ]
     },
     "execution_count": 18,
     "metadata": {},
     "output_type": "execute_result"
    }
   ],
   "source": [
    "# 사분위로 나눠서 해야겠다.\n",
    "bins=[0.074074,206.375837,390.275000,817.438974]\n",
    "np.digitize(df4_1['daily_average_amount'],bins)"
   ]
  },
  {
   "cell_type": "code",
   "execution_count": 19,
   "metadata": {
    "collapsed": true
   },
   "outputs": [
    {
     "data": {
      "text/plain": [
       "0       4\n",
       "1       2\n",
       "2       1\n",
       "3       1\n",
       "4       4\n",
       "       ..\n",
       "3899    3\n",
       "3900    4\n",
       "3901    4\n",
       "3902    3\n",
       "3903    4\n",
       "Name: catraise, Length: 3904, dtype: int64"
      ]
     },
     "execution_count": 19,
     "metadata": {},
     "output_type": "execute_result"
    }
   ],
   "source": [
    "df4_1['catraise']=np.digitize(df4_1['daily_average_amount'],bins)\n",
    "df4_1['catraise']"
   ]
  },
  {
   "cell_type": "code",
   "execution_count": 20,
   "metadata": {
    "collapsed": true
   },
   "outputs": [
    {
     "data": {
      "text/html": [
       "<table class=\"simpletable\">\n",
       "<caption>OLS Regression Results</caption>\n",
       "<tr>\n",
       "  <th>Dep. Variable:</th>    <td>daily_average_amount</td> <th>  R-squared:         </th> <td>   0.248</td> \n",
       "</tr>\n",
       "<tr>\n",
       "  <th>Model:</th>                     <td>OLS</td>         <th>  Adj. R-squared:    </th> <td>   0.246</td> \n",
       "</tr>\n",
       "<tr>\n",
       "  <th>Method:</th>               <td>Least Squares</td>    <th>  F-statistic:       </th> <td>   155.6</td> \n",
       "</tr>\n",
       "<tr>\n",
       "  <th>Date:</th>               <td>Sun, 29 Nov 2020</td>   <th>  Prob (F-statistic):</th> <td>4.21e-227</td>\n",
       "</tr>\n",
       "<tr>\n",
       "  <th>Time:</th>                   <td>18:06:24</td>       <th>  Log-Likelihood:    </th> <td> -34993.</td> \n",
       "</tr>\n",
       "<tr>\n",
       "  <th>No. Observations:</th>        <td>  3791</td>        <th>  AIC:               </th> <td>7.000e+04</td>\n",
       "</tr>\n",
       "<tr>\n",
       "  <th>Df Residuals:</th>            <td>  3782</td>        <th>  BIC:               </th> <td>7.006e+04</td>\n",
       "</tr>\n",
       "<tr>\n",
       "  <th>Df Model:</th>                <td>     8</td>        <th>                     </th>     <td> </td>    \n",
       "</tr>\n",
       "<tr>\n",
       "  <th>Covariance Type:</th>        <td>nonrobust</td>      <th>                     </th>     <td> </td>    \n",
       "</tr>\n",
       "</table>\n",
       "<table class=\"simpletable\">\n",
       "<tr>\n",
       "           <td></td>             <th>coef</th>     <th>std err</th>      <th>t</th>      <th>P>|t|</th>  <th>[0.025</th>    <th>0.975]</th>  \n",
       "</tr>\n",
       "<tr>\n",
       "  <th>Intercept</th>          <td> 1566.3110</td> <td>  414.630</td> <td>    3.778</td> <td> 0.000</td> <td>  753.392</td> <td> 2379.230</td>\n",
       "</tr>\n",
       "<tr>\n",
       "  <th>social_share_total</th> <td>    0.0050</td> <td>    0.008</td> <td>    0.635</td> <td> 0.526</td> <td>   -0.010</td> <td>    0.020</td>\n",
       "</tr>\n",
       "<tr>\n",
       "  <th>char_age</th>           <td>  -10.3725</td> <td>    0.437</td> <td>  -23.715</td> <td> 0.000</td> <td>  -11.230</td> <td>   -9.515</td>\n",
       "</tr>\n",
       "<tr>\n",
       "  <th>logstorylength</th>     <td>   79.4308</td> <td>   50.171</td> <td>    1.583</td> <td> 0.113</td> <td>  -18.933</td> <td>  177.795</td>\n",
       "</tr>\n",
       "<tr>\n",
       "  <th>total_photos</th>       <td>   -2.2515</td> <td>    3.823</td> <td>   -0.589</td> <td> 0.556</td> <td>   -9.747</td> <td>    5.244</td>\n",
       "</tr>\n",
       "<tr>\n",
       "  <th>update_counts</th>      <td>  -28.4858</td> <td>   10.038</td> <td>   -2.838</td> <td> 0.005</td> <td>  -48.167</td> <td>   -8.805</td>\n",
       "</tr>\n",
       "<tr>\n",
       "  <th>total_comments</th>     <td>    7.5892</td> <td>    0.831</td> <td>    9.131</td> <td> 0.000</td> <td>    5.960</td> <td>    9.219</td>\n",
       "</tr>\n",
       "<tr>\n",
       "  <th>logcomlength</th>       <td>   26.3017</td> <td>   42.563</td> <td>    0.618</td> <td> 0.537</td> <td>  -57.147</td> <td>  109.750</td>\n",
       "</tr>\n",
       "<tr>\n",
       "  <th>campaign_hearts</th>    <td>    0.2799</td> <td>    0.019</td> <td>   14.540</td> <td> 0.000</td> <td>    0.242</td> <td>    0.318</td>\n",
       "</tr>\n",
       "</table>\n",
       "<table class=\"simpletable\">\n",
       "<tr>\n",
       "  <th>Omnibus:</th>       <td>7818.042</td> <th>  Durbin-Watson:     </th>   <td>   1.972</td>  \n",
       "</tr>\n",
       "<tr>\n",
       "  <th>Prob(Omnibus):</th>  <td> 0.000</td>  <th>  Jarque-Bera (JB):  </th> <td>40473136.000</td>\n",
       "</tr>\n",
       "<tr>\n",
       "  <th>Skew:</th>           <td>16.965</td>  <th>  Prob(JB):          </th>   <td>    0.00</td>  \n",
       "</tr>\n",
       "<tr>\n",
       "  <th>Kurtosis:</th>       <td>508.050</td> <th>  Cond. No.          </th>   <td>7.69e+04</td>  \n",
       "</tr>\n",
       "</table><br/><br/>Warnings:<br/>[1] Standard Errors assume that the covariance matrix of the errors is correctly specified.<br/>[2] The condition number is large, 7.69e+04. This might indicate that there are<br/>strong multicollinearity or other numerical problems."
      ],
      "text/plain": [
       "<class 'statsmodels.iolib.summary.Summary'>\n",
       "\"\"\"\n",
       "                             OLS Regression Results                             \n",
       "================================================================================\n",
       "Dep. Variable:     daily_average_amount   R-squared:                       0.248\n",
       "Model:                              OLS   Adj. R-squared:                  0.246\n",
       "Method:                   Least Squares   F-statistic:                     155.6\n",
       "Date:                  Sun, 29 Nov 2020   Prob (F-statistic):          4.21e-227\n",
       "Time:                          18:06:24   Log-Likelihood:                -34993.\n",
       "No. Observations:                  3791   AIC:                         7.000e+04\n",
       "Df Residuals:                      3782   BIC:                         7.006e+04\n",
       "Df Model:                             8                                         \n",
       "Covariance Type:              nonrobust                                         \n",
       "======================================================================================\n",
       "                         coef    std err          t      P>|t|      [0.025      0.975]\n",
       "--------------------------------------------------------------------------------------\n",
       "Intercept           1566.3110    414.630      3.778      0.000     753.392    2379.230\n",
       "social_share_total     0.0050      0.008      0.635      0.526      -0.010       0.020\n",
       "char_age             -10.3725      0.437    -23.715      0.000     -11.230      -9.515\n",
       "logstorylength        79.4308     50.171      1.583      0.113     -18.933     177.795\n",
       "total_photos          -2.2515      3.823     -0.589      0.556      -9.747       5.244\n",
       "update_counts        -28.4858     10.038     -2.838      0.005     -48.167      -8.805\n",
       "total_comments         7.5892      0.831      9.131      0.000       5.960       9.219\n",
       "logcomlength          26.3017     42.563      0.618      0.537     -57.147     109.750\n",
       "campaign_hearts        0.2799      0.019     14.540      0.000       0.242       0.318\n",
       "==============================================================================\n",
       "Omnibus:                     7818.042   Durbin-Watson:                   1.972\n",
       "Prob(Omnibus):                  0.000   Jarque-Bera (JB):         40473136.000\n",
       "Skew:                          16.965   Prob(JB):                         0.00\n",
       "Kurtosis:                     508.050   Cond. No.                     7.69e+04\n",
       "==============================================================================\n",
       "\n",
       "Warnings:\n",
       "[1] Standard Errors assume that the covariance matrix of the errors is correctly specified.\n",
       "[2] The condition number is large, 7.69e+04. This might indicate that there are\n",
       "strong multicollinearity or other numerical problems.\n",
       "\"\"\""
      ]
     },
     "execution_count": 20,
     "metadata": {},
     "output_type": "execute_result"
    }
   ],
   "source": [
    "# 1. 그냥\n",
    "res_success=ols('daily_average_amount ~social_share_total+char_age +logstorylength+total_photos+ update_counts +total_comments+logcomlength+campaign_hearts',df4_1).fit()\n",
    "res_success.summary()"
   ]
  },
  {
   "cell_type": "code",
   "execution_count": 21,
   "metadata": {
    "collapsed": true
   },
   "outputs": [
    {
     "data": {
      "text/html": [
       "<table class=\"simpletable\">\n",
       "<caption>OLS Regression Results</caption>\n",
       "<tr>\n",
       "  <th>Dep. Variable:</th>      <td>log_daily_am</td>   <th>  R-squared:         </th> <td>   0.625</td>\n",
       "</tr>\n",
       "<tr>\n",
       "  <th>Model:</th>                   <td>OLS</td>       <th>  Adj. R-squared:    </th> <td>   0.624</td>\n",
       "</tr>\n",
       "<tr>\n",
       "  <th>Method:</th>             <td>Least Squares</td>  <th>  F-statistic:       </th> <td>   786.5</td>\n",
       "</tr>\n",
       "<tr>\n",
       "  <th>Date:</th>             <td>Sun, 29 Nov 2020</td> <th>  Prob (F-statistic):</th>  <td>  0.00</td> \n",
       "</tr>\n",
       "<tr>\n",
       "  <th>Time:</th>                 <td>18:06:25</td>     <th>  Log-Likelihood:    </th> <td> -4118.0</td>\n",
       "</tr>\n",
       "<tr>\n",
       "  <th>No. Observations:</th>      <td>  3791</td>      <th>  AIC:               </th> <td>   8254.</td>\n",
       "</tr>\n",
       "<tr>\n",
       "  <th>Df Residuals:</th>          <td>  3782</td>      <th>  BIC:               </th> <td>   8310.</td>\n",
       "</tr>\n",
       "<tr>\n",
       "  <th>Df Model:</th>              <td>     8</td>      <th>                     </th>     <td> </td>   \n",
       "</tr>\n",
       "<tr>\n",
       "  <th>Covariance Type:</th>      <td>nonrobust</td>    <th>                     </th>     <td> </td>   \n",
       "</tr>\n",
       "</table>\n",
       "<table class=\"simpletable\">\n",
       "<tr>\n",
       "           <td></td>             <th>coef</th>     <th>std err</th>      <th>t</th>      <th>P>|t|</th>  <th>[0.025</th>    <th>0.975]</th>  \n",
       "</tr>\n",
       "<tr>\n",
       "  <th>Intercept</th>          <td>    6.8183</td> <td>    0.120</td> <td>   56.634</td> <td> 0.000</td> <td>    6.582</td> <td>    7.054</td>\n",
       "</tr>\n",
       "<tr>\n",
       "  <th>social_share_total</th> <td> 6.896e-06</td> <td> 2.28e-06</td> <td>    3.023</td> <td> 0.003</td> <td> 2.42e-06</td> <td> 1.14e-05</td>\n",
       "</tr>\n",
       "<tr>\n",
       "  <th>char_age</th>           <td>   -0.0090</td> <td>    0.000</td> <td>  -70.803</td> <td> 0.000</td> <td>   -0.009</td> <td>   -0.009</td>\n",
       "</tr>\n",
       "<tr>\n",
       "  <th>logstorylength</th>     <td>    0.0501</td> <td>    0.015</td> <td>    3.442</td> <td> 0.001</td> <td>    0.022</td> <td>    0.079</td>\n",
       "</tr>\n",
       "<tr>\n",
       "  <th>total_photos</th>       <td>   -0.0039</td> <td>    0.001</td> <td>   -3.546</td> <td> 0.000</td> <td>   -0.006</td> <td>   -0.002</td>\n",
       "</tr>\n",
       "<tr>\n",
       "  <th>update_counts</th>      <td>    0.0187</td> <td>    0.003</td> <td>    6.415</td> <td> 0.000</td> <td>    0.013</td> <td>    0.024</td>\n",
       "</tr>\n",
       "<tr>\n",
       "  <th>total_comments</th>     <td>    0.0068</td> <td>    0.000</td> <td>   27.981</td> <td> 0.000</td> <td>    0.006</td> <td>    0.007</td>\n",
       "</tr>\n",
       "<tr>\n",
       "  <th>logcomlength</th>       <td>    0.0011</td> <td>    0.012</td> <td>    0.090</td> <td> 0.928</td> <td>   -0.023</td> <td>    0.025</td>\n",
       "</tr>\n",
       "<tr>\n",
       "  <th>campaign_hearts</th>    <td> 4.161e-05</td> <td> 5.59e-06</td> <td>    7.443</td> <td> 0.000</td> <td> 3.07e-05</td> <td> 5.26e-05</td>\n",
       "</tr>\n",
       "</table>\n",
       "<table class=\"simpletable\">\n",
       "<tr>\n",
       "  <th>Omnibus:</th>       <td>1040.025</td> <th>  Durbin-Watson:     </th> <td>   1.968</td> \n",
       "</tr>\n",
       "<tr>\n",
       "  <th>Prob(Omnibus):</th>  <td> 0.000</td>  <th>  Jarque-Bera (JB):  </th> <td>20335.668</td>\n",
       "</tr>\n",
       "<tr>\n",
       "  <th>Skew:</th>           <td>-0.811</td>  <th>  Prob(JB):          </th> <td>    0.00</td> \n",
       "</tr>\n",
       "<tr>\n",
       "  <th>Kurtosis:</th>       <td>14.230</td>  <th>  Cond. No.          </th> <td>7.69e+04</td> \n",
       "</tr>\n",
       "</table><br/><br/>Warnings:<br/>[1] Standard Errors assume that the covariance matrix of the errors is correctly specified.<br/>[2] The condition number is large, 7.69e+04. This might indicate that there are<br/>strong multicollinearity or other numerical problems."
      ],
      "text/plain": [
       "<class 'statsmodels.iolib.summary.Summary'>\n",
       "\"\"\"\n",
       "                            OLS Regression Results                            \n",
       "==============================================================================\n",
       "Dep. Variable:           log_daily_am   R-squared:                       0.625\n",
       "Model:                            OLS   Adj. R-squared:                  0.624\n",
       "Method:                 Least Squares   F-statistic:                     786.5\n",
       "Date:                Sun, 29 Nov 2020   Prob (F-statistic):               0.00\n",
       "Time:                        18:06:25   Log-Likelihood:                -4118.0\n",
       "No. Observations:                3791   AIC:                             8254.\n",
       "Df Residuals:                    3782   BIC:                             8310.\n",
       "Df Model:                           8                                         \n",
       "Covariance Type:            nonrobust                                         \n",
       "======================================================================================\n",
       "                         coef    std err          t      P>|t|      [0.025      0.975]\n",
       "--------------------------------------------------------------------------------------\n",
       "Intercept              6.8183      0.120     56.634      0.000       6.582       7.054\n",
       "social_share_total  6.896e-06   2.28e-06      3.023      0.003    2.42e-06    1.14e-05\n",
       "char_age              -0.0090      0.000    -70.803      0.000      -0.009      -0.009\n",
       "logstorylength         0.0501      0.015      3.442      0.001       0.022       0.079\n",
       "total_photos          -0.0039      0.001     -3.546      0.000      -0.006      -0.002\n",
       "update_counts          0.0187      0.003      6.415      0.000       0.013       0.024\n",
       "total_comments         0.0068      0.000     27.981      0.000       0.006       0.007\n",
       "logcomlength           0.0011      0.012      0.090      0.928      -0.023       0.025\n",
       "campaign_hearts     4.161e-05   5.59e-06      7.443      0.000    3.07e-05    5.26e-05\n",
       "==============================================================================\n",
       "Omnibus:                     1040.025   Durbin-Watson:                   1.968\n",
       "Prob(Omnibus):                  0.000   Jarque-Bera (JB):            20335.668\n",
       "Skew:                          -0.811   Prob(JB):                         0.00\n",
       "Kurtosis:                      14.230   Cond. No.                     7.69e+04\n",
       "==============================================================================\n",
       "\n",
       "Warnings:\n",
       "[1] Standard Errors assume that the covariance matrix of the errors is correctly specified.\n",
       "[2] The condition number is large, 7.69e+04. This might indicate that there are\n",
       "strong multicollinearity or other numerical problems.\n",
       "\"\"\""
      ]
     },
     "execution_count": 21,
     "metadata": {},
     "output_type": "execute_result"
    }
   ],
   "source": [
    "# 2. 로그\n",
    "res_success=ols('log_daily_am ~social_share_total+char_age +logstorylength+total_photos+ update_counts +total_comments+logcomlength+campaign_hearts',df4_1).fit()\n",
    "res_success.summary()"
   ]
  },
  {
   "cell_type": "code",
   "execution_count": 22,
   "metadata": {
    "collapsed": true
   },
   "outputs": [
    {
     "data": {
      "text/html": [
       "<table class=\"simpletable\">\n",
       "<caption>OLS Regression Results</caption>\n",
       "<tr>\n",
       "  <th>Dep. Variable:</th>        <td>catraise</td>     <th>  R-squared:         </th> <td>   0.598</td>\n",
       "</tr>\n",
       "<tr>\n",
       "  <th>Model:</th>                   <td>OLS</td>       <th>  Adj. R-squared:    </th> <td>   0.597</td>\n",
       "</tr>\n",
       "<tr>\n",
       "  <th>Method:</th>             <td>Least Squares</td>  <th>  F-statistic:       </th> <td>   703.0</td>\n",
       "</tr>\n",
       "<tr>\n",
       "  <th>Date:</th>             <td>Sun, 29 Nov 2020</td> <th>  Prob (F-statistic):</th>  <td>  0.00</td> \n",
       "</tr>\n",
       "<tr>\n",
       "  <th>Time:</th>                 <td>18:06:26</td>     <th>  Log-Likelihood:    </th> <td> -4081.3</td>\n",
       "</tr>\n",
       "<tr>\n",
       "  <th>No. Observations:</th>      <td>  3792</td>      <th>  AIC:               </th> <td>   8181.</td>\n",
       "</tr>\n",
       "<tr>\n",
       "  <th>Df Residuals:</th>          <td>  3783</td>      <th>  BIC:               </th> <td>   8237.</td>\n",
       "</tr>\n",
       "<tr>\n",
       "  <th>Df Model:</th>              <td>     8</td>      <th>                     </th>     <td> </td>   \n",
       "</tr>\n",
       "<tr>\n",
       "  <th>Covariance Type:</th>      <td>nonrobust</td>    <th>                     </th>     <td> </td>   \n",
       "</tr>\n",
       "</table>\n",
       "<table class=\"simpletable\">\n",
       "<tr>\n",
       "           <td></td>             <th>coef</th>     <th>std err</th>      <th>t</th>      <th>P>|t|</th>  <th>[0.025</th>    <th>0.975]</th>  \n",
       "</tr>\n",
       "<tr>\n",
       "  <th>Intercept</th>          <td>    3.2726</td> <td>    0.119</td> <td>   27.457</td> <td> 0.000</td> <td>    3.039</td> <td>    3.506</td>\n",
       "</tr>\n",
       "<tr>\n",
       "  <th>social_share_total</th> <td>  8.01e-06</td> <td> 2.26e-06</td> <td>    3.546</td> <td> 0.000</td> <td> 3.58e-06</td> <td> 1.24e-05</td>\n",
       "</tr>\n",
       "<tr>\n",
       "  <th>logstorylength</th>     <td>    0.0468</td> <td>    0.014</td> <td>    3.247</td> <td> 0.001</td> <td>    0.019</td> <td>    0.075</td>\n",
       "</tr>\n",
       "<tr>\n",
       "  <th>char_age</th>           <td>   -0.0087</td> <td>    0.000</td> <td>  -69.510</td> <td> 0.000</td> <td>   -0.009</td> <td>   -0.008</td>\n",
       "</tr>\n",
       "<tr>\n",
       "  <th>total_photos</th>       <td>   -0.0042</td> <td>    0.001</td> <td>   -3.801</td> <td> 0.000</td> <td>   -0.006</td> <td>   -0.002</td>\n",
       "</tr>\n",
       "<tr>\n",
       "  <th>update_counts</th>      <td>    0.0253</td> <td>    0.003</td> <td>    8.781</td> <td> 0.000</td> <td>    0.020</td> <td>    0.031</td>\n",
       "</tr>\n",
       "<tr>\n",
       "  <th>total_comments</th>     <td>    0.0060</td> <td>    0.000</td> <td>   25.201</td> <td> 0.000</td> <td>    0.006</td> <td>    0.006</td>\n",
       "</tr>\n",
       "<tr>\n",
       "  <th>logcomlength</th>       <td>   -0.0005</td> <td>    0.012</td> <td>   -0.040</td> <td> 0.968</td> <td>   -0.024</td> <td>    0.023</td>\n",
       "</tr>\n",
       "<tr>\n",
       "  <th>campaign_hearts</th>    <td> 9.833e-06</td> <td> 5.53e-06</td> <td>    1.777</td> <td> 0.076</td> <td>-1.02e-06</td> <td> 2.07e-05</td>\n",
       "</tr>\n",
       "</table>\n",
       "<table class=\"simpletable\">\n",
       "<tr>\n",
       "  <th>Omnibus:</th>       <td>13.657</td> <th>  Durbin-Watson:     </th> <td>   1.971</td>\n",
       "</tr>\n",
       "<tr>\n",
       "  <th>Prob(Omnibus):</th> <td> 0.001</td> <th>  Jarque-Bera (JB):  </th> <td>  15.332</td>\n",
       "</tr>\n",
       "<tr>\n",
       "  <th>Skew:</th>          <td>-0.092</td> <th>  Prob(JB):          </th> <td>0.000469</td>\n",
       "</tr>\n",
       "<tr>\n",
       "  <th>Kurtosis:</th>      <td> 3.251</td> <th>  Cond. No.          </th> <td>7.69e+04</td>\n",
       "</tr>\n",
       "</table><br/><br/>Warnings:<br/>[1] Standard Errors assume that the covariance matrix of the errors is correctly specified.<br/>[2] The condition number is large, 7.69e+04. This might indicate that there are<br/>strong multicollinearity or other numerical problems."
      ],
      "text/plain": [
       "<class 'statsmodels.iolib.summary.Summary'>\n",
       "\"\"\"\n",
       "                            OLS Regression Results                            \n",
       "==============================================================================\n",
       "Dep. Variable:               catraise   R-squared:                       0.598\n",
       "Model:                            OLS   Adj. R-squared:                  0.597\n",
       "Method:                 Least Squares   F-statistic:                     703.0\n",
       "Date:                Sun, 29 Nov 2020   Prob (F-statistic):               0.00\n",
       "Time:                        18:06:26   Log-Likelihood:                -4081.3\n",
       "No. Observations:                3792   AIC:                             8181.\n",
       "Df Residuals:                    3783   BIC:                             8237.\n",
       "Df Model:                           8                                         \n",
       "Covariance Type:            nonrobust                                         \n",
       "======================================================================================\n",
       "                         coef    std err          t      P>|t|      [0.025      0.975]\n",
       "--------------------------------------------------------------------------------------\n",
       "Intercept              3.2726      0.119     27.457      0.000       3.039       3.506\n",
       "social_share_total   8.01e-06   2.26e-06      3.546      0.000    3.58e-06    1.24e-05\n",
       "logstorylength         0.0468      0.014      3.247      0.001       0.019       0.075\n",
       "char_age              -0.0087      0.000    -69.510      0.000      -0.009      -0.008\n",
       "total_photos          -0.0042      0.001     -3.801      0.000      -0.006      -0.002\n",
       "update_counts          0.0253      0.003      8.781      0.000       0.020       0.031\n",
       "total_comments         0.0060      0.000     25.201      0.000       0.006       0.006\n",
       "logcomlength          -0.0005      0.012     -0.040      0.968      -0.024       0.023\n",
       "campaign_hearts     9.833e-06   5.53e-06      1.777      0.076   -1.02e-06    2.07e-05\n",
       "==============================================================================\n",
       "Omnibus:                       13.657   Durbin-Watson:                   1.971\n",
       "Prob(Omnibus):                  0.001   Jarque-Bera (JB):               15.332\n",
       "Skew:                          -0.092   Prob(JB):                     0.000469\n",
       "Kurtosis:                       3.251   Cond. No.                     7.69e+04\n",
       "==============================================================================\n",
       "\n",
       "Warnings:\n",
       "[1] Standard Errors assume that the covariance matrix of the errors is correctly specified.\n",
       "[2] The condition number is large, 7.69e+04. This might indicate that there are\n",
       "strong multicollinearity or other numerical problems.\n",
       "\"\"\""
      ]
     },
     "execution_count": 22,
     "metadata": {},
     "output_type": "execute_result"
    }
   ],
   "source": [
    "# 3. 사분위\n",
    "res_success=ols('catraise ~social_share_total +logstorylength+char_age+total_photos+ update_counts +total_comments+logcomlength+campaign_hearts',df4_1).fit()\n",
    "res_success.summary()"
   ]
  },
  {
   "cell_type": "code",
   "execution_count": 23,
   "metadata": {},
   "outputs": [],
   "source": [
    "# robust scale방법\n",
    "\n",
    "##q = pd.DataFrame(q, columns=['odometer_reading'])\n",
    "\n",
    "#robust import\n",
    "##from sklearn.preprocessing import RobustScaler\n",
    "\n",
    "# create a scaler object\n",
    "##scaler = RobustScaler()\n",
    "# fit and transform the data\n",
    "##df_robust = pd.DataFrame(scaler.fit_transform(q), columns=q.columns)\n",
    "##df_robust.describe()"
   ]
  },
  {
   "cell_type": "markdown",
   "metadata": {},
   "source": [
    "### 코로나분석?"
   ]
  },
  {
   "cell_type": "code",
   "execution_count": 5,
   "metadata": {},
   "outputs": [],
   "source": [
    "conditionlist = [\n",
    "    (df3_1['created_date'] <= '2020-02-28') ,\n",
    "    (df3_1['created_date'] >= '2020-03-01') & (df3_1['created_date'] <= '2020-06-30'),\n",
    "    (df3_1['created_date'] >= '2020-07-01') & (df3_1['created_date'] <= '2020-11-04')]\n",
    "choicelist = ['before_covid', 'during_covid', 'after_covid']\n",
    "df3_1['period'] = np.select(conditionlist, choicelist, default='Not Specified')"
   ]
  },
  {
   "cell_type": "code",
   "execution_count": 7,
   "metadata": {},
   "outputs": [],
   "source": [
    "bc = df3_1[df3_1['period'] == 'before_covid']\n",
    "dc = df3_1[df3_1['period'] == 'during_covid']\n",
    "ac = df3_1[df3_1['period'] == 'after_covid']"
   ]
  },
  {
   "cell_type": "code",
   "execution_count": 13,
   "metadata": {},
   "outputs": [
    {
     "name": "stdout",
     "output_type": "stream",
     "text": [
      "Optimization terminated successfully.\n",
      "         Current function value: 0.659954\n",
      "         Iterations 5\n"
     ]
    },
    {
     "data": {
      "text/html": [
       "<table class=\"simpletable\">\n",
       "<caption>Logit Regression Results</caption>\n",
       "<tr>\n",
       "  <th>Dep. Variable:</th>      <td>dum_success</td>   <th>  No. Observations:  </th>  <td>   752</td>  \n",
       "</tr>\n",
       "<tr>\n",
       "  <th>Model:</th>                 <td>Logit</td>      <th>  Df Residuals:      </th>  <td>   743</td>  \n",
       "</tr>\n",
       "<tr>\n",
       "  <th>Method:</th>                 <td>MLE</td>       <th>  Df Model:          </th>  <td>     8</td>  \n",
       "</tr>\n",
       "<tr>\n",
       "  <th>Date:</th>            <td>Tue, 01 Dec 2020</td> <th>  Pseudo R-squ.:     </th>  <td>0.03400</td> \n",
       "</tr>\n",
       "<tr>\n",
       "  <th>Time:</th>                <td>17:59:39</td>     <th>  Log-Likelihood:    </th> <td> -496.29</td> \n",
       "</tr>\n",
       "<tr>\n",
       "  <th>converged:</th>             <td>True</td>       <th>  LL-Null:           </th> <td> -513.75</td> \n",
       "</tr>\n",
       "<tr>\n",
       "  <th>Covariance Type:</th>     <td>nonrobust</td>    <th>  LLR p-value:       </th> <td>2.753e-05</td>\n",
       "</tr>\n",
       "</table>\n",
       "<table class=\"simpletable\">\n",
       "<tr>\n",
       "           <td></td>             <th>coef</th>     <th>std err</th>      <th>z</th>      <th>P>|z|</th>  <th>[0.025</th>    <th>0.975]</th>  \n",
       "</tr>\n",
       "<tr>\n",
       "  <th>Intercept</th>          <td>    0.8108</td> <td>    1.072</td> <td>    0.756</td> <td> 0.450</td> <td>   -1.291</td> <td>    2.913</td>\n",
       "</tr>\n",
       "<tr>\n",
       "  <th>social_share_total</th> <td> 1.678e-05</td> <td> 1.94e-05</td> <td>    0.866</td> <td> 0.386</td> <td>-2.12e-05</td> <td> 5.47e-05</td>\n",
       "</tr>\n",
       "<tr>\n",
       "  <th>char_age</th>           <td>    0.0002</td> <td>    0.002</td> <td>    0.072</td> <td> 0.943</td> <td>   -0.005</td> <td>    0.005</td>\n",
       "</tr>\n",
       "<tr>\n",
       "  <th>logstorylength</th>     <td>   -0.2764</td> <td>    0.096</td> <td>   -2.882</td> <td> 0.004</td> <td>   -0.464</td> <td>   -0.088</td>\n",
       "</tr>\n",
       "<tr>\n",
       "  <th>total_photos</th>       <td>   -0.0103</td> <td>    0.012</td> <td>   -0.875</td> <td> 0.382</td> <td>   -0.033</td> <td>    0.013</td>\n",
       "</tr>\n",
       "<tr>\n",
       "  <th>update_counts</th>      <td>   -0.0327</td> <td>    0.022</td> <td>   -1.489</td> <td> 0.136</td> <td>   -0.076</td> <td>    0.010</td>\n",
       "</tr>\n",
       "<tr>\n",
       "  <th>total_comments</th>     <td>    0.0037</td> <td>    0.002</td> <td>    2.373</td> <td> 0.018</td> <td>    0.001</td> <td>    0.007</td>\n",
       "</tr>\n",
       "<tr>\n",
       "  <th>logcomlength</th>       <td>    0.1727</td> <td>    0.083</td> <td>    2.081</td> <td> 0.037</td> <td>    0.010</td> <td>    0.335</td>\n",
       "</tr>\n",
       "<tr>\n",
       "  <th>campaign_hearts</th>    <td>-5.319e-05</td> <td> 8.63e-05</td> <td>   -0.616</td> <td> 0.538</td> <td>   -0.000</td> <td>    0.000</td>\n",
       "</tr>\n",
       "</table>"
      ],
      "text/plain": [
       "<class 'statsmodels.iolib.summary.Summary'>\n",
       "\"\"\"\n",
       "                           Logit Regression Results                           \n",
       "==============================================================================\n",
       "Dep. Variable:            dum_success   No. Observations:                  752\n",
       "Model:                          Logit   Df Residuals:                      743\n",
       "Method:                           MLE   Df Model:                            8\n",
       "Date:                Tue, 01 Dec 2020   Pseudo R-squ.:                 0.03400\n",
       "Time:                        17:59:39   Log-Likelihood:                -496.29\n",
       "converged:                       True   LL-Null:                       -513.75\n",
       "Covariance Type:            nonrobust   LLR p-value:                 2.753e-05\n",
       "======================================================================================\n",
       "                         coef    std err          z      P>|z|      [0.025      0.975]\n",
       "--------------------------------------------------------------------------------------\n",
       "Intercept              0.8108      1.072      0.756      0.450      -1.291       2.913\n",
       "social_share_total  1.678e-05   1.94e-05      0.866      0.386   -2.12e-05    5.47e-05\n",
       "char_age               0.0002      0.002      0.072      0.943      -0.005       0.005\n",
       "logstorylength        -0.2764      0.096     -2.882      0.004      -0.464      -0.088\n",
       "total_photos          -0.0103      0.012     -0.875      0.382      -0.033       0.013\n",
       "update_counts         -0.0327      0.022     -1.489      0.136      -0.076       0.010\n",
       "total_comments         0.0037      0.002      2.373      0.018       0.001       0.007\n",
       "logcomlength           0.1727      0.083      2.081      0.037       0.010       0.335\n",
       "campaign_hearts    -5.319e-05   8.63e-05     -0.616      0.538      -0.000       0.000\n",
       "======================================================================================\n",
       "\"\"\""
      ]
     },
     "execution_count": 13,
     "metadata": {},
     "output_type": "execute_result"
    }
   ],
   "source": [
    "res_success=logit('dum_success ~social_share_total +char_age +logstorylength+total_photos+ update_counts +total_comments+logcomlength+campaign_hearts',bc).fit()\n",
    "res_success.summary()"
   ]
  },
  {
   "cell_type": "code",
   "execution_count": null,
   "metadata": {},
   "outputs": [],
   "source": []
  },
  {
   "cell_type": "code",
   "execution_count": null,
   "metadata": {},
   "outputs": [],
   "source": []
  },
  {
   "cell_type": "code",
   "execution_count": null,
   "metadata": {},
   "outputs": [],
   "source": []
  },
  {
   "cell_type": "code",
   "execution_count": null,
   "metadata": {},
   "outputs": [],
   "source": []
  },
  {
   "cell_type": "code",
   "execution_count": null,
   "metadata": {},
   "outputs": [],
   "source": []
  },
  {
   "cell_type": "code",
   "execution_count": null,
   "metadata": {},
   "outputs": [],
   "source": []
  },
  {
   "cell_type": "code",
   "execution_count": null,
   "metadata": {},
   "outputs": [],
   "source": [
    "# 전처리 후 story NULL 번호 보기\n",
    "a = general[general['story'].isnull()]\n",
    "a.chid#.tolist"
   ]
  },
  {
   "cell_type": "markdown",
   "metadata": {},
   "source": [
    "### chid별 general['total_donations'] vs. donations.groupby('chid') 개수 상이\n",
    "1.  대표값은 groupby로 하자.\n",
    "     - 그 전에, total_donations의 row수(3904)에서 groupby한 후 row수(3900)가 줄어드는데, 뭐가 줄어들었는지 확인해보자.\n",
    "     - 그리고 줄어든 row가 문제가 될 지 파악해보자.\n",
    "     - chid: 1721, 1783, 1893, 2744가 donations에 없다. 그런데, general 'funds_raised'금액은 있네? 뭐야!!\n",
    "     - 사이트 들어가봤더니, 'funds_raised'는 0이어야하고, 'funds_target'이 'funds_raised'에 있는 금액이어야 한다.\n",
    "     - 그래서 general파일 바꿔주도록 하자."
   ]
  },
  {
   "cell_type": "code",
   "execution_count": null,
   "metadata": {},
   "outputs": [],
   "source": [
    "# general 파일 내용 수정하기\n",
    "general.loc[general.chid==1721, 'funds_raised'] = 0\n",
    "general.loc[general.chid==1783, 'funds_raised'] = 0\n",
    "general.loc[general.chid==1893, 'funds_raised'] = 0\n",
    "general.loc[general.chid==2744, 'funds_raised'] = 0\n",
    "general.loc[general.chid==1721, 'funds_target'] = 1000\n",
    "general.loc[general.chid==1783, 'funds_target'] = 1000\n",
    "general.loc[general.chid==1893, 'funds_target'] = 3000\n",
    "general.loc[general.chid==2744, 'funds_target'] = 900"
   ]
  },
  {
   "cell_type": "code",
   "execution_count": null,
   "metadata": {},
   "outputs": [],
   "source": [
    "# csv로 내보내기\n",
    "general.to_csv('general_new.csv', header= True ,index= False)"
   ]
  },
  {
   "cell_type": "code",
   "execution_count": null,
   "metadata": {},
   "outputs": [],
   "source": [
    "# 줄어든 4개의 row 확인작업 \n",
    "a = general#[['chid','total_donations']]\n",
    "b = donations.groupby('chid').count()\n",
    "b = b.reset_index()\n",
    "c = b[['chid']]\n",
    "d = a.merge(b, on='chid', how='left')\n",
    "#d\n",
    "d[d['donation_id'].isnull()]"
   ]
  },
  {
   "cell_type": "markdown",
   "metadata": {},
   "source": [
    "## Currency별 모금액 알아보기\n",
    "### 1. 기부자 기준"
   ]
  },
  {
   "cell_type": "code",
   "execution_count": null,
   "metadata": {
    "scrolled": false
   },
   "outputs": [],
   "source": [
    "#전체 기부자의 익명/기명 수 (False = 기명, True = 익명)\n",
    "anonymous = donations['is_anonymous']\n",
    "anonymous.value_counts()"
   ]
  },
  {
   "cell_type": "code",
   "execution_count": null,
   "metadata": {
    "scrolled": true
   },
   "outputs": [],
   "source": [
    "# 원하는 컬럼 추출\n",
    "currency = donations[['chid','donation_id','currency','amount','is_anonymous','name']]\n",
    "currency.head()"
   ]
  },
  {
   "cell_type": "code",
   "execution_count": null,
   "metadata": {
    "scrolled": true
   },
   "outputs": [],
   "source": [
    "# currency별 기부자의 비율\n",
    "currency_counts = currency['currency'].value_counts()\n",
    "donation_counts = currency['currency'].count()\n",
    "currency_percentage = pd.DataFrame((round((currency_counts / donation_counts),3)*100))\n",
    "currency_percentage = currency_percentage.reset_index()\n",
    "currency_percentage.columns=['currency','percentage']\n",
    "currency_percentage"
   ]
  },
  {
   "cell_type": "code",
   "execution_count": null,
   "metadata": {},
   "outputs": [],
   "source": [
    "#currency별 기부자 수\n",
    "cu_counts = pd.DataFrame(currency_counts)\n",
    "cu_counts = cu_counts.reset_index()\n",
    "cu_counts.columns = ['currency','counts']\n",
    "cu_counts"
   ]
  },
  {
   "cell_type": "code",
   "execution_count": null,
   "metadata": {
    "scrolled": true
   },
   "outputs": [],
   "source": [
    "#currency별 기부금 총액\n",
    "currency_amount = currency.groupby('currency').agg({'amount':'sum'})\n",
    "currency_amount = currency_amount.reset_index()\n",
    "currency_amount"
   ]
  },
  {
   "cell_type": "code",
   "execution_count": null,
   "metadata": {
    "scrolled": false
   },
   "outputs": [],
   "source": [
    "#currency별 기부자수, 기부자비율, 기부총액 합치기\n",
    "currency_per = cu_counts.merge(currency_percentage, on='currency', how='left')\n",
    "currency_all = currency_per.merge(currency_amount, on='currency', how='left')\n",
    "currency_all"
   ]
  },
  {
   "cell_type": "code",
   "execution_count": null,
   "metadata": {
    "scrolled": false
   },
   "outputs": [],
   "source": [
    "# Currency별 기부자 비율 파이차트 그리기!!\n",
    "\n",
    "from matplotlib import font_manager, rc\n",
    "from matplotlib import style\n",
    "'''\n",
    "한글 라벨링에 필요\n",
    "font_name = font_manager.FontProperties(fname=\"c:/Windows/Fonts/malgun.ttf\").get_name()\n",
    "rc('font', family=font_name)\n",
    "style.use('ggplot')\n",
    "'''\n",
    "colors = ['gold', 'yellowgreen', 'lightcoral', 'lightskyblue', 'white']\n",
    "labels = currency_all['currency']\n",
    "ratio = currency_all['percentage']\n",
    "# explode = (0.0, 0.0, 0.0, 0.0, 0.0)\n",
    "\n",
    "fig = plt.figure(figsize=(8,8)) ## 캔버스 생성\n",
    "fig.set_facecolor('white') ## 캔버스 배경색을 하얀색으로 설정\n",
    "ax = fig.add_subplot() ## 프레임생성\n",
    "\n",
    "pie = ax.pie(ratio, colors=colors, startangle=90, counterclock=False) \n",
    "    #, explode=explode, labels=labels,  autopct='%1.1f%%', shadow=True, textprops={'fontsize':13})\n",
    "\n",
    "total = np.sum(ratio) ## 빈도수 합\n",
    "\n",
    "threshold = 5 ## 상한선 비율\n",
    "sum_pct = 0 ## 퍼센티지\n",
    " \n",
    "bbox_props = dict(boxstyle='square',fc='w',ec='w',alpha=0) ## annotation 박스 스타일\n",
    " \n",
    "## annotation 설정\n",
    "config = dict(arrowprops=dict(arrowstyle='-', color='b'),bbox=bbox_props,va='center') #퍼센트 선 속성변경\n",
    " \n",
    "for i,l in enumerate(labels):\n",
    "    ang1, ang2 = ax.patches[i].theta1, ax.patches[i].theta2 ## 파이의 시작 각도와 끝 각도\n",
    "    center, r = ax.patches[i].center, ax.patches[i].r ## 원의 중심 좌표와 반지름길이\n",
    "    \n",
    "    if i < len(labels) - 1:\n",
    "        sum_pct += float(f'{ratio[i]/total*100:.2f}')\n",
    "        text = f'{ratio[i]/total*100:.2f}%'\n",
    "    else: ## 마지막 파이 조각은 퍼센티지의 합이 100이 되도록 비율을 조절\n",
    "        text = f'{100-sum_pct:.2f}%'\n",
    "    \n",
    "    ## 비율 상한선보다 작은 것들은 Annotation으로 만든다.\n",
    "    if ratio[i]/total*100 < threshold:\n",
    "        ang = (ang1+ang2)/2 ## 중심각\n",
    "        x = np.cos(np.deg2rad(ang2-0.5)) ## Annotation의 끝점에 해당하는 x좌표\n",
    "        y = np.sin(np.deg2rad(ang)) ## Annotation의 끝점에 해당하는 y좌표\n",
    "        \n",
    "        ## x좌표가 양수이면 즉 y축을 중심으로 오른쪽에 있으면 왼쪽 정렬\n",
    "        ## x좌표가 음수이면 즉 y축을 중심으로 왼쪽에 있으면 오른쪽 정렬\n",
    "        horizontalalignment = {-1: \"right\", 1: \"left\"}[int(np.sign(x))]\n",
    "        connectionstyle = \"angle,angleA=0,angleB={}\".format(ang) ## 시작점과 끝점 연결 스타일 (A:각도 변경)\n",
    "        config[\"arrowprops\"].update({\"connectionstyle\": connectionstyle}) ## \n",
    "        ax.annotate(text, xy=(x, y), xytext=(5*x, 1.2*y),\n",
    "                    horizontalalignment=horizontalalignment, **config)\n",
    "    else:\n",
    "        x = (r/2)*np.cos(np.pi/180*((ang1+ang2)/2)) + center[0] ## 텍스트 x좌표\n",
    "        y = (r/2)*np.sin(np.pi/180*((ang1+ang2)/2)) + center[1] ## 텍스트 y좌표\n",
    "        ax.text(x,y,text,ha='center',va='center',fontsize=12)\n",
    "    \n",
    "plt.legend(pie[0],labels,loc='upper right', fontsize=11) ## 범례\n",
    "plt.title('Percentage of Donors by Currency (counts)', fontsize=16)\n",
    "plt.show()\n"
   ]
  },
  {
   "cell_type": "markdown",
   "metadata": {},
   "source": [
    "### 2. 캠페인기준"
   ]
  },
  {
   "cell_type": "code",
   "execution_count": null,
   "metadata": {
    "scrolled": true
   },
   "outputs": [],
   "source": [
    "# currency별 캠페인 비율\n",
    "currency_counts_g = general['currency'].value_counts()\n",
    "donation_counts_g = general['currency'].count()\n",
    "currency_percentage_g = pd.DataFrame((round((currency_counts_g / donation_counts_g),3)*100))\n",
    "currency_percentage_g = currency_percentage_g.reset_index()\n",
    "currency_percentage_g.columns=['currency','percentage']\n",
    "currency_percentage_g"
   ]
  },
  {
   "cell_type": "code",
   "execution_count": null,
   "metadata": {
    "scrolled": true
   },
   "outputs": [],
   "source": [
    "#currency별 캠페인건 수\n",
    "cu_counts_g = pd.DataFrame(currency_counts_g)\n",
    "cu_counts_g = cu_counts_g.reset_index()\n",
    "cu_counts_g.columns = ['currency','counts']\n",
    "cu_counts_g"
   ]
  },
  {
   "cell_type": "code",
   "execution_count": null,
   "metadata": {
    "scrolled": false
   },
   "outputs": [],
   "source": [
    "#currency별 기부자수, 기부자비율, 기부총액 합치기\n",
    "currency_all_g = cu_counts_g.merge(currency_percentage_g, on='currency', how='left')\n",
    "currency_all_g"
   ]
  },
  {
   "cell_type": "code",
   "execution_count": null,
   "metadata": {
    "scrolled": true
   },
   "outputs": [],
   "source": [
    "# currency별 캠페인 수 비율 차트 그리기!!\n",
    "\n",
    "from matplotlib import font_manager, rc\n",
    "from matplotlib import style\n",
    "colors = ['gold', 'yellowgreen', 'lightcoral', 'lightskyblue', 'white']\n",
    "labels = currency_all_g['currency']\n",
    "ratio = currency_all_g['percentage']\n",
    "# explode = (0.0, 0.0, 0.0, 0.0, 0.0)\n",
    "\n",
    "fig = plt.figure(figsize=(8,8)) ## 캔버스 생성\n",
    "fig.set_facecolor('white') ## 캔버스 배경색을 하얀색으로 설정\n",
    "ax = fig.add_subplot() ## 프레임생성\n",
    "\n",
    "pie = ax.pie(ratio, colors=colors, startangle=90, counterclock=False) \n",
    "    #, explode=explode, labels=labels,  autopct='%1.1f%%', shadow=True, textprops={'fontsize':13})\n",
    "\n",
    "total = np.sum(ratio) ## 빈도수 합\n",
    "\n",
    "threshold = 3 ## 상한선 비율\n",
    "sum_pct = 0 ## 퍼센티지\n",
    " \n",
    "bbox_props = dict(boxstyle='square',fc='w',ec='w',alpha=0) ## annotation 박스 스타일\n",
    " \n",
    "## annotation 설정\n",
    "config = dict(arrowprops=dict(arrowstyle='-', color='b'),bbox=bbox_props,va='center') #퍼센트 선 속성변경\n",
    "spacing = 0.1\n",
    "for i,l in enumerate(labels):\n",
    "    ang1, ang2 = ax.patches[i].theta1, ax.patches[i].theta2 ## 파이의 시작 각도와 끝 각도\n",
    "    center, r = ax.patches[i].center, ax.patches[i].r ## 원의 중심 좌표와 반지름길이\n",
    "    \n",
    "    if i < len(labels) - 1:\n",
    "        sum_pct += float(f'{ratio[i]/total*100:.2f}')\n",
    "        text = f'{ratio[i]/total*100:.2f}%'\n",
    "    else: ## 마지막 파이 조각은 퍼센티지의 합이 100이 되도록 비율을 조절\n",
    "        text = f'{100-sum_pct:.2f}%'\n",
    "    \n",
    "    ## 비율 상한선보다 작은 것들은 Annotation으로 만든다.\n",
    "    if ratio[i]/total*100 < threshold:\n",
    "        ang = (ang1+ang2)/2 ## 중심각\n",
    "        x = np.cos(np.deg2rad(ang2-0.5)) ## Annotation의 끝점에 해당하는 x좌표\n",
    "        y = np.sin(np.deg2rad(ang)) ## Annotation의 끝점에 해당하는 y좌표\n",
    "        \n",
    "        ## x좌표가 양수이면 즉 y축을 중심으로 오른쪽에 있으면 왼쪽 정렬\n",
    "        ## x좌표가 음수이면 즉 y축을 중심으로 왼쪽에 있으면 오른쪽 정렬\n",
    "        horizontalalignment = {-1: \"right\", 1: \"left\"}[int(np.sign(x))]\n",
    "        connectionstyle = \"angle,angleA=0,angleB={}\".format(ang) ## 시작점과 끝점 연결 스타일 (A:각도 변경)\n",
    "        config[\"arrowprops\"].update({\"connectionstyle\": connectionstyle}) ## \n",
    "        ax.annotate(text, xy=(x, y), xytext=(3*x, 1.2*y),\n",
    "                    horizontalalignment=horizontalalignment, **config)\n",
    "    else:\n",
    "        x = (r/2)*np.cos(np.pi/180*((ang1+ang2)/2)) + center[0] ## 텍스트 x좌표\n",
    "        y = (r/2)*np.sin(np.pi/180*((ang1+ang2)/2)) + center[1] ## 텍스트 y좌표\n",
    "        ax.text(x,y,text,ha='center',va='center',fontsize=10)\n",
    "    \n",
    "plt.legend(pie[0],labels,loc='upper right', fontsize=12) ## 범례\n",
    "plt.title('Percentage of Donations by Currency (counts)', fontsize=16)\n",
    "plt.show()"
   ]
  },
  {
   "cell_type": "markdown",
   "metadata": {},
   "source": [
    "## 통화별 성공 건수 비교"
   ]
  },
  {
   "cell_type": "code",
   "execution_count": null,
   "metadata": {},
   "outputs": [],
   "source": [
    "# general과 donations 테이블 LEFT JOIN\n",
    "donation_gen = donations.merge(general, on='chid', how='left')"
   ]
  },
  {
   "cell_type": "code",
   "execution_count": null,
   "metadata": {},
   "outputs": [],
   "source": [
    "donation_gen.columns"
   ]
  },
  {
   "cell_type": "code",
   "execution_count": null,
   "metadata": {
    "scrolled": false
   },
   "outputs": [],
   "source": [
    "# 원하는 컬럼 추출\n",
    "succ = donation_gen[['chid','donation_id','currency_x','amount','is_anonymous','name','success','dum_success']]\n",
    "succ.head()"
   ]
  },
  {
   "cell_type": "code",
   "execution_count": null,
   "metadata": {},
   "outputs": [],
   "source": [
    "#currency별로 성공건수 구하기\n",
    "cu_succ = succ.groupby(['currency_x', 'success']).size().unstack(fill_value=0)\n",
    "cu_succ = cu_succ.reset_index()\n",
    "cu_succ.columns = ['currency','Fail','Success']\n",
    "cu_succ[['currency','Success']].sort_values(by='Success', ascending = False)"
   ]
  },
  {
   "cell_type": "markdown",
   "metadata": {},
   "source": [
    "### currency별 anonymous 기부 건수 & 금액의 차이 확인"
   ]
  },
  {
   "cell_type": "code",
   "execution_count": null,
   "metadata": {
    "scrolled": true
   },
   "outputs": [],
   "source": [
    "# currency별 기명, 무기명 기부 건수 컬럼 만들기\n",
    "an_count = currency.groupby(['currency', 'is_anonymous']).size().unstack(fill_value=0) # anonymous 0과 1을 컬럼으로 빼기\n",
    "an_count = pd.DataFrame(an_count)\n",
    "an_count = an_count.reset_index()\n",
    "an_count.columns = ['currency','identified','anonymous']\n",
    "count_percentage = an_count.assign(identified_percentage = \n",
    "                                             round(an_count['identified']/\n",
    "                                                   (an_count['identified']+an_count['anonymous']),2)*100,\n",
    "                                             anonymous_percentage = \n",
    "                                             round(an_count['anonymous']/\n",
    "                                                   (an_count['anonymous']+an_count['identified']),2)*100)\n",
    "count_percentage"
   ]
  },
  {
   "cell_type": "code",
   "execution_count": null,
   "metadata": {},
   "outputs": [],
   "source": [
    "# currency별 기명, 무기명 기부 건수 비율 그래프 그리기 (버전1)\n",
    "count_percentage.index=count_percentage['currency'] #currency를 index로 만들기\n",
    "count_bar = count_percentage[['identified_percentage','anonymous_percentage']]\n",
    "count_bar.reset_index()\n",
    "count_bar.columns = ['identified','anonymous']\n",
    "count_bar = count_bar.sort_values(by=['identified'])\n",
    "count_bar.plot(kind='barh', stacked = True)\n",
    "plt.title('Percentage of Anonymous by Currency (counts)', fontsize=16)"
   ]
  },
  {
   "cell_type": "code",
   "execution_count": null,
   "metadata": {
    "scrolled": true
   },
   "outputs": [],
   "source": [
    "# currency별 기명, 무기명 기부 건수 비율 그래프 그리기 (버전2)\n",
    "count_bar.plot(kind='barh')\n",
    "plt.title('Percentage of Anonymous by Currency (counts)', fontsize=16)"
   ]
  },
  {
   "cell_type": "code",
   "execution_count": null,
   "metadata": {},
   "outputs": [],
   "source": [
    "# currency별 기명, 무기명 기부 금액 컬럼 만들기\n",
    "an_amount = currency.groupby(['currency', 'is_anonymous']).agg({'amount':'sum'}).unstack(fill_value=0)\n",
    "an_amount.reset_index()\n",
    "an_amount.columns=['identified','anonymous']\n",
    "amount_percentage = an_amount.assign(identified_percentage = \n",
    "                                             round(an_amount['identified']/\n",
    "                                                   (an_amount['identified']+an_amount['anonymous']),2)*100,\n",
    "                                             anonymous_percentage = \n",
    "                                             round(an_amount['anonymous']/\n",
    "                                                   (an_amount['anonymous']+an_amount['identified']),2)*100)\n",
    "\n",
    "amount_percentage"
   ]
  },
  {
   "cell_type": "code",
   "execution_count": null,
   "metadata": {
    "scrolled": true
   },
   "outputs": [],
   "source": [
    "# currency별 기명, 무기명 기부 금액 비율 그래프 그리기 (버전1)\n",
    "#amount_percentage.index=amount_percentage['currency'] #currency를 index로 만들기\n",
    "amount_bar = amount_percentage[['identified_percentage','anonymous_percentage']]\n",
    "amount_bar.reset_index()\n",
    "amount_bar.columns = ['identified','anonymous']\n",
    "amount_bar = amount_bar.sort_values(by=['identified'])\n",
    "amount_bar.plot(kind='barh', stacked = True)\n",
    "plt.title('Percentage of Anonymous by Currency (amount)', fontsize=16)"
   ]
  },
  {
   "cell_type": "code",
   "execution_count": null,
   "metadata": {},
   "outputs": [],
   "source": [
    "# currency별 기명, 무기명 기부 금액 비율 그래프 그리기 (버전2)\n",
    "amount_bar.plot(kind='barh')\n",
    "plt.title('Percentage of Anonymous by Currency (amount)', fontsize=16)"
   ]
  },
  {
   "cell_type": "code",
   "execution_count": null,
   "metadata": {},
   "outputs": [],
   "source": [
    "# currency별 기명, 무기명 기부 금액 범위 정하기 전 정보 알아보기 (describe)\n",
    "amount_df = currency[['currency','amount']]\n",
    "amount_desc = amount_df.describe()\n",
    "amount_desc.loc['count'] = amount_desc.loc['count'].astype(int).astype(str)\n",
    "amount_desc.iloc[1:] = amount_desc.iloc[1:].applymap('{:.1f}'.format)\n",
    "print(amount_desc)\n",
    "#amount_cu = currency.groupby(['currency']).size()\n",
    "#amount_cu`"
   ]
  },
  {
   "cell_type": "code",
   "execution_count": null,
   "metadata": {},
   "outputs": [],
   "source": [
    "## currency별 기명, 무기명 기부 금액 범위 정하기 전 정보 알아보기 (scatter)\n",
    "sns.regplot(x=currency['amount'], \n",
    "\n",
    "           y=currency['donation_id'], \n",
    "\n",
    "           fit_reg=False) # no regression line\n",
    "\n",
    "plt.title('Scatter Plot of iris by regplot()', fontsize=20)\n",
    "\n",
    "plt.xlabel('Petal Length', fontsize=14)\n",
    "\n",
    "plt.ylabel('Petal Width', fontsize=14)\n",
    "#plt.xlim([0,50000])\n",
    "plt.show()"
   ]
  },
  {
   "cell_type": "code",
   "execution_count": null,
   "metadata": {
    "scrolled": false
   },
   "outputs": [],
   "source": [
    "#currency별 금액대 기부건수 (index: currency)\n",
    "amount_df['amount_cut']=pd.cut(amount_df.amount, bins=[0,10,20,30,40,50,60,70,80,90,100,400000], \n",
    "                               labels=['a','b','c','d','e','f','g','h','i','j','k']) # 금액대 나눠서 라벨링\n",
    "amount_range_cu = amount_df.groupby(['currency','amount_cut']).size().unstack(fill_value=0) # 라벨링한 것 그룹별 합산\n",
    "amount_range_cu.columns = ['1~10','11~20','21~30','31~40,','41~50','51~60','61~70','71~80','81~90','91~100','100~'] #컬럼명지정\n",
    "amount_range_cu\n"
   ]
  },
  {
   "cell_type": "code",
   "execution_count": null,
   "metadata": {},
   "outputs": [],
   "source": [
    "#currency별 금액대 기부건수 (index: range)\n",
    "amount_df['amount_cut']=pd.cut(amount_df.amount, bins=[0,10,20,30,40,50,60,70,80,90,100,400000], \n",
    "                               labels=['1~10','11~20','21~30','31~40,','41~50','51~60','61~70','71~80','81~90','91~100','100~']) # 금액대 나눠서 라벨링\n",
    "amount_range_ra = amount_df.groupby(['amount_cut','currency']).size().unstack(fill_value=0) # 라벨링한 것 그룹별 합산\n",
    "amount_range_ra\n"
   ]
  },
  {
   "cell_type": "code",
   "execution_count": null,
   "metadata": {
    "scrolled": false
   },
   "outputs": [],
   "source": [
    "#dollar의 금액대 기부건수 그래프(index: currency)\n",
    "dollar_range = amount_range_cu.loc[['dollar']]\n",
    "dollar_range.plot(kind='bar')\n",
    "plt.title('Number of donation by dollar amount range (currency)', fontsize=16)"
   ]
  },
  {
   "cell_type": "code",
   "execution_count": null,
   "metadata": {
    "scrolled": true
   },
   "outputs": [],
   "source": [
    "#dollar의 금액대 기부건수 그래프(index: amount_cut)\n",
    "amount_range_ra['dollar'].plot(kind='bar')\n",
    "plt.title('Number of donation by dollar amount range (range)', fontsize=16)"
   ]
  },
  {
   "cell_type": "code",
   "execution_count": null,
   "metadata": {
    "scrolled": true
   },
   "outputs": [],
   "source": [
    "#euro의 금액대 기부건수 그래프(index: amount_cut)\n",
    "amount_range_ra['euro'].plot(kind='bar')\n",
    "plt.title('Number of donation by euro amount range (range)', fontsize=16)"
   ]
  },
  {
   "cell_type": "code",
   "execution_count": null,
   "metadata": {},
   "outputs": [],
   "source": [
    "#pound의 금액대 기부건수 그래프(index: amount_cut)\n",
    "amount_range_ra['pound'].plot(kind='bar')\n",
    "plt.title('Number of donation by pound amount range (range)', fontsize=16)"
   ]
  },
  {
   "cell_type": "code",
   "execution_count": null,
   "metadata": {},
   "outputs": [],
   "source": [
    "#krona의 금액대 기부건수 그래프(index: amount_cut)\n",
    "amount_range_ra['krona'].plot(kind='bar')\n",
    "plt.title('Number of donation by krona amount range (range)', fontsize=16)"
   ]
  },
  {
   "cell_type": "code",
   "execution_count": null,
   "metadata": {},
   "outputs": [],
   "source": [
    "#franc의 금액대 기부건수 그래프(index: amount_cut)\n",
    "amount_range_ra['franc'].plot(kind='bar')\n",
    "plt.title('Number of donation by franc amount range (range)', fontsize=16)"
   ]
  },
  {
   "cell_type": "code",
   "execution_count": null,
   "metadata": {
    "scrolled": true
   },
   "outputs": [],
   "source": [
    "donation_chid = donations['amount'].value_counts().sort_values(ascending=False)\n",
    "donation_chid.head(20)"
   ]
  },
  {
   "cell_type": "code",
   "execution_count": null,
   "metadata": {},
   "outputs": [],
   "source": [
    "donation_amount_top20 = donation_chid.head(20)"
   ]
  },
  {
   "cell_type": "code",
   "execution_count": null,
   "metadata": {},
   "outputs": [],
   "source": [
    "top20_donation_amount = donation_amount_top20.index"
   ]
  },
  {
   "cell_type": "code",
   "execution_count": null,
   "metadata": {},
   "outputs": [],
   "source": [
    "for index, amount in enumerate(list(top20_donation_amount)):\n",
    "    print (\"TOP\", index + 1, \":\", amount)"
   ]
  },
  {
   "cell_type": "code",
   "execution_count": null,
   "metadata": {},
   "outputs": [],
   "source": [
    "import numpy as np\n",
    "import chart_studio.plotly as py\n",
    "import cufflinks as cf\n",
    "cf.go_offline(connected=True)"
   ]
  },
  {
   "cell_type": "code",
   "execution_count": null,
   "metadata": {
    "scrolled": true
   },
   "outputs": [],
   "source": [
    "donation_chid.iplot(kind='line', theme='white')"
   ]
  },
  {
   "cell_type": "code",
   "execution_count": null,
   "metadata": {},
   "outputs": [],
   "source": []
  }
 ],
 "metadata": {
  "kernelspec": {
   "display_name": "Python 3",
   "language": "python",
   "name": "python3"
  },
  "language_info": {
   "codemirror_mode": {
    "name": "ipython",
    "version": 3
   },
   "file_extension": ".py",
   "mimetype": "text/x-python",
   "name": "python",
   "nbconvert_exporter": "python",
   "pygments_lexer": "ipython3",
   "version": "3.8.3"
  }
 },
 "nbformat": 4,
 "nbformat_minor": 4
}
