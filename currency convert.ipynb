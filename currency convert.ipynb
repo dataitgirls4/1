{
 "cells": [
  {
   "cell_type": "code",
   "execution_count": 2,
   "metadata": {},
   "outputs": [],
   "source": [
    "import pandas as pd\n",
    "#import seaborn as sns\n",
    "#import numpy as np"
   ]
  },
  {
   "cell_type": "code",
   "execution_count": 3,
   "metadata": {},
   "outputs": [],
   "source": [
    "general=pd.read_csv('general_new.csv')\n",
    "#organizer=pd.read_csv('organizer_new.csv')\n",
    "#updates=pd.read_csv('updates_new.csv')\n",
    "#comments=pd.read_csv('comments_new.csv')\n",
    "#donations=pd.read_csv('donations_new.csv')"
   ]
  },
  {
   "cell_type": "markdown",
   "metadata": {},
   "source": [
    "# 통화 통일하기 \n",
    "## 환율 기준 (하나은행 2020.11.04 기준)\n",
    "### 미화환산율\n",
    "- dollar(USD) :1.0000\n",
    "- euro(EUR) : 1.1694\n",
    "- pound(GBP) : 1.3007\n",
    "- franc(CHF) : 1.0946\n",
    "- krona (SEK) : 0.1130"
   ]
  },
  {
   "cell_type": "markdown",
   "metadata": {},
   "source": [
    "### 1. general\n",
    "- funds_raised\n",
    "- funds_target\n",
    "- amount_raised_unattributed"
   ]
  },
  {
   "cell_type": "code",
   "execution_count": 4,
   "metadata": {},
   "outputs": [
    {
     "name": "stderr",
     "output_type": "stream",
     "text": [
      "<ipython-input-4-31048d5079ac>:8: SettingWithCopyWarning: \n",
      "A value is trying to be set on a copy of a slice from a DataFrame.\n",
      "Try using .loc[row_indexer,col_indexer] = value instead\n",
      "\n",
      "See the caveats in the documentation: https://pandas.pydata.org/pandas-docs/stable/user_guide/indexing.html#returning-a-view-versus-a-copy\n",
      "  general_df['funds_raised'] = general_df['funds_raised'].astype(pd.Int64Dtype())\n",
      "<ipython-input-4-31048d5079ac>:9: SettingWithCopyWarning: \n",
      "A value is trying to be set on a copy of a slice from a DataFrame.\n",
      "Try using .loc[row_indexer,col_indexer] = value instead\n",
      "\n",
      "See the caveats in the documentation: https://pandas.pydata.org/pandas-docs/stable/user_guide/indexing.html#returning-a-view-versus-a-copy\n",
      "  general_df['funds_target'] = general_df['funds_target'].astype(pd.Int64Dtype())\n",
      "<ipython-input-4-31048d5079ac>:10: SettingWithCopyWarning: \n",
      "A value is trying to be set on a copy of a slice from a DataFrame.\n",
      "Try using .loc[row_indexer,col_indexer] = value instead\n",
      "\n",
      "See the caveats in the documentation: https://pandas.pydata.org/pandas-docs/stable/user_guide/indexing.html#returning-a-view-versus-a-copy\n",
      "  general_df['amount_raised_unattributed'] = general_df['amount_raised_unattributed'].astype(pd.Int64Dtype())\n"
     ]
    }
   ],
   "source": [
    "#작업할 컬럼만 뽑기\n",
    "general_df = general[['chid','currency','funds_raised','funds_target','amount_raised_unattributed']]\n",
    "general_df.insert(5, 'funds_raised_dollar', 0)\n",
    "general_df.insert(6, 'funds_target_dollar', 0)\n",
    "general_df.insert(7, 'amount_raised_unattributed_dollar', 0)\n",
    "\n",
    "# float을 int로 변경하기 (밑에 계산하기 위해)\n",
    "general_df['funds_raised'] = general_df['funds_raised'].astype(pd.Int64Dtype())\n",
    "general_df['funds_target'] = general_df['funds_target'].astype(pd.Int64Dtype())\n",
    "general_df['amount_raised_unattributed'] = general_df['amount_raised_unattributed'].astype(pd.Int64Dtype())\n",
    "#general_df"
   ]
  },
  {
   "cell_type": "code",
   "execution_count": 390,
   "metadata": {},
   "outputs": [],
   "source": [
    "# 조건문 참고용\n",
    "df=pd.DataFrame({'a':['사과','배','바나나','키위','참외'],'b':[6,7,8,9,10]})\n",
    "df.insert(1, 'calculated', np.nan)\n",
    "\n",
    "def myfunc(row):\n",
    "    if row['a'] == '사과':\n",
    "        return row['b'] * 2\n",
    "    else:\n",
    "        return row['b']\n",
    "df['calculated'] = df.apply(lambda x : myfunc(x), axis=1)\n",
    "#df"
   ]
  },
  {
   "cell_type": "code",
   "execution_count": 5,
   "metadata": {},
   "outputs": [
    {
     "name": "stderr",
     "output_type": "stream",
     "text": [
      "<ipython-input-5-94fcc9b36658>:13: SettingWithCopyWarning: \n",
      "A value is trying to be set on a copy of a slice from a DataFrame.\n",
      "Try using .loc[row_indexer,col_indexer] = value instead\n",
      "\n",
      "See the caveats in the documentation: https://pandas.pydata.org/pandas-docs/stable/user_guide/indexing.html#returning-a-view-versus-a-copy\n",
      "  general_df['funds_raised_dollar'] = general_df.apply(lambda x : myfunc(x), axis=1)\n"
     ]
    }
   ],
   "source": [
    "# funds_raised_dollar로 통일하고 새컬럼에 추가\n",
    "def myfunc(row):\n",
    "    if row['currency'] == 'euro':\n",
    "        return round(row['funds_raised'] * 1.1694)\n",
    "    elif row['currency'] == 'pound':\n",
    "        return round(row['funds_raised'] * 1.3007)\n",
    "    elif row['currency'] == 'franc':\n",
    "        return round(row['funds_raised'] * 1.0946)\n",
    "    elif row['currency'] == 'krona':\n",
    "        return round(row['funds_raised'] * 0.1130)\n",
    "    else:\n",
    "        return row['funds_raised']\n",
    "general_df['funds_raised_dollar'] = general_df.apply(lambda x : myfunc(x), axis=1)"
   ]
  },
  {
   "cell_type": "code",
   "execution_count": 6,
   "metadata": {
    "scrolled": true
   },
   "outputs": [
    {
     "name": "stderr",
     "output_type": "stream",
     "text": [
      "<ipython-input-6-fcc604f8fe51>:13: SettingWithCopyWarning: \n",
      "A value is trying to be set on a copy of a slice from a DataFrame.\n",
      "Try using .loc[row_indexer,col_indexer] = value instead\n",
      "\n",
      "See the caveats in the documentation: https://pandas.pydata.org/pandas-docs/stable/user_guide/indexing.html#returning-a-view-versus-a-copy\n",
      "  general_df['funds_target_dollar'] = general_df.apply(lambda x : myfunc(x), axis=1)\n"
     ]
    }
   ],
   "source": [
    "# funds_total_dollar로 통일하고 새컬럼에 추가\n",
    "def myfunc(row):\n",
    "    if row['currency'] == 'euro':\n",
    "        return row['funds_target'] * 1.1694\n",
    "    elif row['currency'] == 'pound':\n",
    "        return row['funds_target'] * 1.3007\n",
    "    elif row['currency'] == 'franc':\n",
    "        return row['funds_target'] * 1.0946\n",
    "    elif row['currency'] == 'krona':\n",
    "        return row['funds_target'] * 0.1130\n",
    "    else:\n",
    "        return row['funds_target']\n",
    "general_df['funds_target_dollar'] = general_df.apply(lambda x : myfunc(x), axis=1)"
   ]
  },
  {
   "cell_type": "code",
   "execution_count": 7,
   "metadata": {
    "scrolled": false
   },
   "outputs": [
    {
     "name": "stderr",
     "output_type": "stream",
     "text": [
      "<ipython-input-7-eab92e1f996e>:13: SettingWithCopyWarning: \n",
      "A value is trying to be set on a copy of a slice from a DataFrame.\n",
      "Try using .loc[row_indexer,col_indexer] = value instead\n",
      "\n",
      "See the caveats in the documentation: https://pandas.pydata.org/pandas-docs/stable/user_guide/indexing.html#returning-a-view-versus-a-copy\n",
      "  general_df['amount_raised_unattributed_dollar'] = general_df.apply(lambda x : myfunc(x), axis=1)\n"
     ]
    }
   ],
   "source": [
    "# amount_raised_unattributed_dollar로 통일하고 새컬럼에 추가\n",
    "def myfunc(row):\n",
    "    if row['currency'] == 'euro':\n",
    "        return row['amount_raised_unattributed'] * 1.1694\n",
    "    elif row['currency'] == 'pound':\n",
    "        return row['amount_raised_unattributed'] * 1.3007\n",
    "    elif row['currency'] == 'franc':\n",
    "        return row['amount_raised_unattributed'] * 1.0946\n",
    "    elif row['currency'] == 'krona':\n",
    "        return row['amount_raised_unattributed'] * 0.1130\n",
    "    else:\n",
    "        return row['amount_raised_unattributed']\n",
    "general_df['amount_raised_unattributed_dollar'] = general_df.apply(lambda x : myfunc(x), axis=1)"
   ]
  },
  {
   "cell_type": "code",
   "execution_count": 8,
   "metadata": {},
   "outputs": [],
   "source": [
    "# 통화 통일한 것 general에 JOIN\n",
    "general_df1 = general_df[['chid','funds_raised_dollar','funds_target_dollar','amount_raised_unattributed_dollar']]\n",
    "general_conv = general.merge(general_df1, on='chid', how='left')"
   ]
  },
  {
   "cell_type": "code",
   "execution_count": 9,
   "metadata": {},
   "outputs": [],
   "source": [
    "# csv로 내보내기\n",
    "general_conv.to_csv('general_dollar.csv', header= True ,index= False)"
   ]
  },
  {
   "cell_type": "markdown",
   "metadata": {},
   "source": [
    "### 2. organizer\n",
    "- raised"
   ]
  },
  {
   "cell_type": "code",
   "execution_count": 323,
   "metadata": {
    "collapsed": true
   },
   "outputs": [
    {
     "name": "stderr",
     "output_type": "stream",
     "text": [
      "<ipython-input-323-5e8a271b7ff2>:10: SettingWithCopyWarning: \n",
      "A value is trying to be set on a copy of a slice from a DataFrame.\n",
      "Try using .loc[row_indexer,col_indexer] = value instead\n",
      "\n",
      "See the caveats in the documentation: https://pandas.pydata.org/pandas-docs/stable/user_guide/indexing.html#returning-a-view-versus-a-copy\n",
      "  organizer_df['raised'] = organizer_df['raised'].astype(pd.Int64Dtype())\n"
     ]
    },
    {
     "data": {
      "text/html": [
       "<div>\n",
       "<style scoped>\n",
       "    .dataframe tbody tr th:only-of-type {\n",
       "        vertical-align: middle;\n",
       "    }\n",
       "\n",
       "    .dataframe tbody tr th {\n",
       "        vertical-align: top;\n",
       "    }\n",
       "\n",
       "    .dataframe thead th {\n",
       "        text-align: right;\n",
       "    }\n",
       "</style>\n",
       "<table border=\"1\" class=\"dataframe\">\n",
       "  <thead>\n",
       "    <tr style=\"text-align: right;\">\n",
       "      <th></th>\n",
       "      <th>org_id</th>\n",
       "      <th>currency</th>\n",
       "      <th>raised</th>\n",
       "      <th>raised_dollar</th>\n",
       "    </tr>\n",
       "  </thead>\n",
       "  <tbody>\n",
       "    <tr>\n",
       "      <th>0</th>\n",
       "      <td>0</td>\n",
       "      <td>dollar</td>\n",
       "      <td>&lt;NA&gt;</td>\n",
       "      <td>0</td>\n",
       "    </tr>\n",
       "    <tr>\n",
       "      <th>1</th>\n",
       "      <td>1</td>\n",
       "      <td>dollar</td>\n",
       "      <td>&lt;NA&gt;</td>\n",
       "      <td>0</td>\n",
       "    </tr>\n",
       "    <tr>\n",
       "      <th>2</th>\n",
       "      <td>2</td>\n",
       "      <td>krona</td>\n",
       "      <td>&lt;NA&gt;</td>\n",
       "      <td>0</td>\n",
       "    </tr>\n",
       "    <tr>\n",
       "      <th>3</th>\n",
       "      <td>3</td>\n",
       "      <td>dollar</td>\n",
       "      <td>&lt;NA&gt;</td>\n",
       "      <td>0</td>\n",
       "    </tr>\n",
       "    <tr>\n",
       "      <th>4</th>\n",
       "      <td>4</td>\n",
       "      <td>dollar</td>\n",
       "      <td>&lt;NA&gt;</td>\n",
       "      <td>0</td>\n",
       "    </tr>\n",
       "    <tr>\n",
       "      <th>...</th>\n",
       "      <td>...</td>\n",
       "      <td>...</td>\n",
       "      <td>...</td>\n",
       "      <td>...</td>\n",
       "    </tr>\n",
       "    <tr>\n",
       "      <th>8199</th>\n",
       "      <td>8199</td>\n",
       "      <td>dollar</td>\n",
       "      <td>&lt;NA&gt;</td>\n",
       "      <td>0</td>\n",
       "    </tr>\n",
       "    <tr>\n",
       "      <th>8200</th>\n",
       "      <td>8200</td>\n",
       "      <td>dollar</td>\n",
       "      <td>&lt;NA&gt;</td>\n",
       "      <td>0</td>\n",
       "    </tr>\n",
       "    <tr>\n",
       "      <th>8201</th>\n",
       "      <td>8201</td>\n",
       "      <td>dollar</td>\n",
       "      <td>&lt;NA&gt;</td>\n",
       "      <td>0</td>\n",
       "    </tr>\n",
       "    <tr>\n",
       "      <th>8202</th>\n",
       "      <td>8202</td>\n",
       "      <td>dollar</td>\n",
       "      <td>&lt;NA&gt;</td>\n",
       "      <td>0</td>\n",
       "    </tr>\n",
       "    <tr>\n",
       "      <th>8203</th>\n",
       "      <td>8203</td>\n",
       "      <td>dollar</td>\n",
       "      <td>&lt;NA&gt;</td>\n",
       "      <td>0</td>\n",
       "    </tr>\n",
       "  </tbody>\n",
       "</table>\n",
       "<p>8204 rows × 4 columns</p>\n",
       "</div>"
      ],
      "text/plain": [
       "      org_id currency  raised  raised_dollar\n",
       "0          0   dollar    <NA>              0\n",
       "1          1   dollar    <NA>              0\n",
       "2          2    krona    <NA>              0\n",
       "3          3   dollar    <NA>              0\n",
       "4          4   dollar    <NA>              0\n",
       "...      ...      ...     ...            ...\n",
       "8199    8199   dollar    <NA>              0\n",
       "8200    8200   dollar    <NA>              0\n",
       "8201    8201   dollar    <NA>              0\n",
       "8202    8202   dollar    <NA>              0\n",
       "8203    8203   dollar    <NA>              0\n",
       "\n",
       "[8204 rows x 4 columns]"
      ]
     },
     "execution_count": 323,
     "metadata": {},
     "output_type": "execute_result"
    }
   ],
   "source": [
    "#general과 organizer JOIN (currency 사용하려면)\n",
    "gen_cu = general[['chid','currency']]\n",
    "orga_gen = organizer.merge(gen_cu, on='chid', how='left')\n",
    "\n",
    "#필요한 컬럼만 뽑고, 새컬럼 삽입\n",
    "organizer_df = orga_gen[['org_id','currency','raised']]\n",
    "organizer_df.insert(3, 'raised_dollar', 0)\n",
    "\n",
    "# float을 int로 변경하기 (밑에 계산하기 위해)\n",
    "organizer_df['raised'] = organizer_df['raised'].astype(pd.Int64Dtype())\n",
    "organizer_df"
   ]
  },
  {
   "cell_type": "code",
   "execution_count": 324,
   "metadata": {
    "collapsed": true
   },
   "outputs": [
    {
     "name": "stderr",
     "output_type": "stream",
     "text": [
      "<ipython-input-324-135d636cbc6b>:13: SettingWithCopyWarning: \n",
      "A value is trying to be set on a copy of a slice from a DataFrame.\n",
      "Try using .loc[row_indexer,col_indexer] = value instead\n",
      "\n",
      "See the caveats in the documentation: https://pandas.pydata.org/pandas-docs/stable/user_guide/indexing.html#returning-a-view-versus-a-copy\n",
      "  organizer_df['raised_dollar'] = organizer_df.apply(lambda x : myfunc(x), axis=1)\n"
     ]
    }
   ],
   "source": [
    "# raised_dollar로 통일하고 새컬럼에 추가\n",
    "def myfunc(row):\n",
    "    if row['currency'] == 'euro':\n",
    "        return row['raised'] * 1.1694\n",
    "    elif row['currency'] == 'pound':\n",
    "        return row['raised'] * 1.3007\n",
    "    elif row['currency'] == 'franc':\n",
    "        return row['raised'] * 1.0946\n",
    "    elif row['currency'] == 'krona':\n",
    "        return row['raised'] * 0.1130\n",
    "    else:\n",
    "        return row['raised']\n",
    "organizer_df['raised_dollar'] = organizer_df.apply(lambda x : myfunc(x), axis=1)"
   ]
  },
  {
   "cell_type": "code",
   "execution_count": 325,
   "metadata": {},
   "outputs": [],
   "source": [
    "# 통화 통일한 것 organizer에 JOIN\n",
    "organizer_df1 = organizer_df[['org_id','currency','raised_dollar']]\n",
    "organizer_conv = organizer.merge(organizer_df1, on='org_id', how='left')"
   ]
  },
  {
   "cell_type": "code",
   "execution_count": 326,
   "metadata": {},
   "outputs": [],
   "source": [
    "# csv로 내보내기\n",
    "organizer_conv.to_csv('organizer_dollar.csv', header= True ,index= False)"
   ]
  },
  {
   "cell_type": "markdown",
   "metadata": {},
   "source": [
    "### 3. comments\n",
    "- amount"
   ]
  },
  {
   "cell_type": "code",
   "execution_count": 327,
   "metadata": {
    "collapsed": true
   },
   "outputs": [
    {
     "name": "stderr",
     "output_type": "stream",
     "text": [
      "<ipython-input-327-e24d3dff2d8f>:10: SettingWithCopyWarning: \n",
      "A value is trying to be set on a copy of a slice from a DataFrame.\n",
      "Try using .loc[row_indexer,col_indexer] = value instead\n",
      "\n",
      "See the caveats in the documentation: https://pandas.pydata.org/pandas-docs/stable/user_guide/indexing.html#returning-a-view-versus-a-copy\n",
      "  comments_df['amount'] = comments_df['amount'].astype(pd.Int64Dtype())\n"
     ]
    },
    {
     "data": {
      "text/html": [
       "<div>\n",
       "<style scoped>\n",
       "    .dataframe tbody tr th:only-of-type {\n",
       "        vertical-align: middle;\n",
       "    }\n",
       "\n",
       "    .dataframe tbody tr th {\n",
       "        vertical-align: top;\n",
       "    }\n",
       "\n",
       "    .dataframe thead th {\n",
       "        text-align: right;\n",
       "    }\n",
       "</style>\n",
       "<table border=\"1\" class=\"dataframe\">\n",
       "  <thead>\n",
       "    <tr style=\"text-align: right;\">\n",
       "      <th></th>\n",
       "      <th>comment_id</th>\n",
       "      <th>currency</th>\n",
       "      <th>amount</th>\n",
       "      <th>amount_dollar</th>\n",
       "    </tr>\n",
       "  </thead>\n",
       "  <tbody>\n",
       "    <tr>\n",
       "      <th>0</th>\n",
       "      <td>0</td>\n",
       "      <td>dollar</td>\n",
       "      <td>1000</td>\n",
       "      <td>0</td>\n",
       "    </tr>\n",
       "    <tr>\n",
       "      <th>1</th>\n",
       "      <td>1</td>\n",
       "      <td>dollar</td>\n",
       "      <td>50</td>\n",
       "      <td>0</td>\n",
       "    </tr>\n",
       "    <tr>\n",
       "      <th>2</th>\n",
       "      <td>2</td>\n",
       "      <td>dollar</td>\n",
       "      <td>50</td>\n",
       "      <td>0</td>\n",
       "    </tr>\n",
       "    <tr>\n",
       "      <th>3</th>\n",
       "      <td>3</td>\n",
       "      <td>dollar</td>\n",
       "      <td>770</td>\n",
       "      <td>0</td>\n",
       "    </tr>\n",
       "    <tr>\n",
       "      <th>4</th>\n",
       "      <td>4</td>\n",
       "      <td>dollar</td>\n",
       "      <td>100</td>\n",
       "      <td>0</td>\n",
       "    </tr>\n",
       "    <tr>\n",
       "      <th>...</th>\n",
       "      <td>...</td>\n",
       "      <td>...</td>\n",
       "      <td>...</td>\n",
       "      <td>...</td>\n",
       "    </tr>\n",
       "    <tr>\n",
       "      <th>169914</th>\n",
       "      <td>169914</td>\n",
       "      <td>dollar</td>\n",
       "      <td>500</td>\n",
       "      <td>0</td>\n",
       "    </tr>\n",
       "    <tr>\n",
       "      <th>169915</th>\n",
       "      <td>169915</td>\n",
       "      <td>dollar</td>\n",
       "      <td>100</td>\n",
       "      <td>0</td>\n",
       "    </tr>\n",
       "    <tr>\n",
       "      <th>169916</th>\n",
       "      <td>169916</td>\n",
       "      <td>dollar</td>\n",
       "      <td>250</td>\n",
       "      <td>0</td>\n",
       "    </tr>\n",
       "    <tr>\n",
       "      <th>169917</th>\n",
       "      <td>169917</td>\n",
       "      <td>dollar</td>\n",
       "      <td>100</td>\n",
       "      <td>0</td>\n",
       "    </tr>\n",
       "    <tr>\n",
       "      <th>169918</th>\n",
       "      <td>169918</td>\n",
       "      <td>dollar</td>\n",
       "      <td>50</td>\n",
       "      <td>0</td>\n",
       "    </tr>\n",
       "  </tbody>\n",
       "</table>\n",
       "<p>169919 rows × 4 columns</p>\n",
       "</div>"
      ],
      "text/plain": [
       "        comment_id currency  amount  amount_dollar\n",
       "0                0   dollar    1000              0\n",
       "1                1   dollar      50              0\n",
       "2                2   dollar      50              0\n",
       "3                3   dollar     770              0\n",
       "4                4   dollar     100              0\n",
       "...            ...      ...     ...            ...\n",
       "169914      169914   dollar     500              0\n",
       "169915      169915   dollar     100              0\n",
       "169916      169916   dollar     250              0\n",
       "169917      169917   dollar     100              0\n",
       "169918      169918   dollar      50              0\n",
       "\n",
       "[169919 rows x 4 columns]"
      ]
     },
     "execution_count": 327,
     "metadata": {},
     "output_type": "execute_result"
    }
   ],
   "source": [
    "#general과 comments JOIN (currency 사용하려면)\n",
    "gen_cu = general[['chid','currency']]\n",
    "comm_gen = comments.merge(gen_cu, on='chid', how='left')\n",
    "\n",
    "#필요한 컬럼만 뽑고, 새컬럼 삽입\n",
    "comments_df = comm_gen[['comment_id','currency','amount']]\n",
    "comments_df.insert(3, 'amount_dollar', 0)\n",
    "\n",
    "# float을 int로 변경하기 (밑에 계산하기 위해)\n",
    "comments_df['amount'] = comments_df['amount'].astype(pd.Int64Dtype())\n",
    "comments_df"
   ]
  },
  {
   "cell_type": "code",
   "execution_count": 330,
   "metadata": {
    "collapsed": true
   },
   "outputs": [
    {
     "name": "stderr",
     "output_type": "stream",
     "text": [
      "<ipython-input-330-9c8e0853cde1>:13: SettingWithCopyWarning: \n",
      "A value is trying to be set on a copy of a slice from a DataFrame.\n",
      "Try using .loc[row_indexer,col_indexer] = value instead\n",
      "\n",
      "See the caveats in the documentation: https://pandas.pydata.org/pandas-docs/stable/user_guide/indexing.html#returning-a-view-versus-a-copy\n",
      "  comments_df['amount_dollar'] = comments_df.apply(lambda x : myfunc(x), axis=1)\n"
     ]
    }
   ],
   "source": [
    "# amount_dollar로 통일하고 새컬럼에 추가\n",
    "def myfunc(row):\n",
    "    if row['currency'] == 'euro':\n",
    "        return row['amount'] * 1.1694\n",
    "    elif row['currency'] == 'pound':\n",
    "        return row['amount'] * 1.3007\n",
    "    elif row['currency'] == 'franc':\n",
    "        return row['amount'] * 1.0946\n",
    "    elif row['currency'] == 'krona':\n",
    "        return row['amount'] * 0.1130\n",
    "    else:\n",
    "        return row['amount']\n",
    "comments_df['amount_dollar'] = comments_df.apply(lambda x : myfunc(x), axis=1)"
   ]
  },
  {
   "cell_type": "code",
   "execution_count": 331,
   "metadata": {},
   "outputs": [],
   "source": [
    "# 통화 통일한 것 comments에 JOIN\n",
    "comments_df1 = comments_df[['comment_id','currency','amount_dollar']]\n",
    "comments_conv = comments.merge(comments_df1, on='comment_id', how='left')"
   ]
  },
  {
   "cell_type": "code",
   "execution_count": 332,
   "metadata": {},
   "outputs": [],
   "source": [
    "# csv로 내보내기\n",
    "comments_conv.to_csv('comments_dollar.csv', header= True ,index= False)"
   ]
  },
  {
   "cell_type": "markdown",
   "metadata": {},
   "source": [
    "### 4. donations\n",
    "- amount"
   ]
  },
  {
   "cell_type": "code",
   "execution_count": 342,
   "metadata": {},
   "outputs": [
    {
     "name": "stderr",
     "output_type": "stream",
     "text": [
      "<ipython-input-342-78f43527e4c3>:10: SettingWithCopyWarning: \n",
      "A value is trying to be set on a copy of a slice from a DataFrame.\n",
      "Try using .loc[row_indexer,col_indexer] = value instead\n",
      "\n",
      "See the caveats in the documentation: https://pandas.pydata.org/pandas-docs/stable/user_guide/indexing.html#returning-a-view-versus-a-copy\n",
      "  donations_df['amount'] = donations_df['amount'].astype(pd.Int64Dtype())\n"
     ]
    },
    {
     "data": {
      "text/html": [
       "<div>\n",
       "<style scoped>\n",
       "    .dataframe tbody tr th:only-of-type {\n",
       "        vertical-align: middle;\n",
       "    }\n",
       "\n",
       "    .dataframe tbody tr th {\n",
       "        vertical-align: top;\n",
       "    }\n",
       "\n",
       "    .dataframe thead th {\n",
       "        text-align: right;\n",
       "    }\n",
       "</style>\n",
       "<table border=\"1\" class=\"dataframe\">\n",
       "  <thead>\n",
       "    <tr style=\"text-align: right;\">\n",
       "      <th></th>\n",
       "      <th>donation_id</th>\n",
       "      <th>currency</th>\n",
       "      <th>amount</th>\n",
       "      <th>amount_dollar</th>\n",
       "    </tr>\n",
       "  </thead>\n",
       "  <tbody>\n",
       "    <tr>\n",
       "      <th>0</th>\n",
       "      <td>0</td>\n",
       "      <td>dollar</td>\n",
       "      <td>480</td>\n",
       "      <td>0</td>\n",
       "    </tr>\n",
       "    <tr>\n",
       "      <th>1</th>\n",
       "      <td>1</td>\n",
       "      <td>dollar</td>\n",
       "      <td>10</td>\n",
       "      <td>0</td>\n",
       "    </tr>\n",
       "    <tr>\n",
       "      <th>2</th>\n",
       "      <td>2</td>\n",
       "      <td>dollar</td>\n",
       "      <td>50</td>\n",
       "      <td>0</td>\n",
       "    </tr>\n",
       "    <tr>\n",
       "      <th>3</th>\n",
       "      <td>3</td>\n",
       "      <td>dollar</td>\n",
       "      <td>100</td>\n",
       "      <td>0</td>\n",
       "    </tr>\n",
       "    <tr>\n",
       "      <th>4</th>\n",
       "      <td>4</td>\n",
       "      <td>dollar</td>\n",
       "      <td>100</td>\n",
       "      <td>0</td>\n",
       "    </tr>\n",
       "    <tr>\n",
       "      <th>...</th>\n",
       "      <td>...</td>\n",
       "      <td>...</td>\n",
       "      <td>...</td>\n",
       "      <td>...</td>\n",
       "    </tr>\n",
       "    <tr>\n",
       "      <th>2191672</th>\n",
       "      <td>2191672</td>\n",
       "      <td>dollar</td>\n",
       "      <td>150</td>\n",
       "      <td>0</td>\n",
       "    </tr>\n",
       "    <tr>\n",
       "      <th>2191673</th>\n",
       "      <td>2191673</td>\n",
       "      <td>dollar</td>\n",
       "      <td>25</td>\n",
       "      <td>0</td>\n",
       "    </tr>\n",
       "    <tr>\n",
       "      <th>2191674</th>\n",
       "      <td>2191674</td>\n",
       "      <td>dollar</td>\n",
       "      <td>100</td>\n",
       "      <td>0</td>\n",
       "    </tr>\n",
       "    <tr>\n",
       "      <th>2191675</th>\n",
       "      <td>2191675</td>\n",
       "      <td>dollar</td>\n",
       "      <td>250</td>\n",
       "      <td>0</td>\n",
       "    </tr>\n",
       "    <tr>\n",
       "      <th>2191676</th>\n",
       "      <td>2191676</td>\n",
       "      <td>dollar</td>\n",
       "      <td>50</td>\n",
       "      <td>0</td>\n",
       "    </tr>\n",
       "  </tbody>\n",
       "</table>\n",
       "<p>2191677 rows × 4 columns</p>\n",
       "</div>"
      ],
      "text/plain": [
       "         donation_id currency  amount  amount_dollar\n",
       "0                  0   dollar     480              0\n",
       "1                  1   dollar      10              0\n",
       "2                  2   dollar      50              0\n",
       "3                  3   dollar     100              0\n",
       "4                  4   dollar     100              0\n",
       "...              ...      ...     ...            ...\n",
       "2191672      2191672   dollar     150              0\n",
       "2191673      2191673   dollar      25              0\n",
       "2191674      2191674   dollar     100              0\n",
       "2191675      2191675   dollar     250              0\n",
       "2191676      2191676   dollar      50              0\n",
       "\n",
       "[2191677 rows x 4 columns]"
      ]
     },
     "execution_count": 342,
     "metadata": {},
     "output_type": "execute_result"
    }
   ],
   "source": [
    "#general과 donations JOIN (currency 사용하려면)\n",
    "gen_cu = general[['chid','currency']]\n",
    "don_gen = donations.merge(gen_cu, on='chid', how='left')\n",
    "\n",
    "#필요한 컬럼만 뽑고, 새컬럼 삽입\n",
    "donations_df = don_gen[['donation_id','currency','amount']]\n",
    "donations_df.insert(3, 'amount_dollar', 0)\n",
    "\n",
    "# float을 int로 변경하기 (밑에 계산하기 위해)\n",
    "donations_df['amount'] = donations_df['amount'].astype(pd.Int64Dtype())\n",
    "donations_df"
   ]
  },
  {
   "cell_type": "code",
   "execution_count": 343,
   "metadata": {},
   "outputs": [
    {
     "name": "stderr",
     "output_type": "stream",
     "text": [
      "<ipython-input-343-0d21f5b12a67>:13: SettingWithCopyWarning: \n",
      "A value is trying to be set on a copy of a slice from a DataFrame.\n",
      "Try using .loc[row_indexer,col_indexer] = value instead\n",
      "\n",
      "See the caveats in the documentation: https://pandas.pydata.org/pandas-docs/stable/user_guide/indexing.html#returning-a-view-versus-a-copy\n",
      "  donations_df['amount_dollar'] = donations_df.apply(lambda x : myfunc(x), axis=1)\n"
     ]
    }
   ],
   "source": [
    "# amount_dollar로 통일하고 새컬럼에 추가\n",
    "def myfunc(row):\n",
    "    if row['currency'] == 'euro':\n",
    "        return row['amount'] * 1.1694\n",
    "    elif row['currency'] == 'pound':\n",
    "        return row['amount'] * 1.3007\n",
    "    elif row['currency'] == 'franc':\n",
    "        return row['amount'] * 1.0946\n",
    "    elif row['currency'] == 'krona':\n",
    "        return row['amount'] * 0.1130\n",
    "    else:\n",
    "        return row['amount']\n",
    "donations_df['amount_dollar'] = donations_df.apply(lambda x : myfunc(x), axis=1)"
   ]
  },
  {
   "cell_type": "code",
   "execution_count": 345,
   "metadata": {},
   "outputs": [],
   "source": [
    "# 통화 통일한 것 donations에 JOIN\n",
    "donations_df1 = donations_df[['donation_id','currency','amount_dollar']]\n",
    "donations_conv = donations.merge(donations_df1, on='donation_id', how='left')"
   ]
  },
  {
   "cell_type": "code",
   "execution_count": 346,
   "metadata": {},
   "outputs": [],
   "source": [
    "# csv로 내보내기\n",
    "donations_conv.to_csv('donations_dollar.csv', header= True ,index= False)"
   ]
  },
  {
   "cell_type": "code",
   "execution_count": 410,
   "metadata": {},
   "outputs": [],
   "source": [
    "df1 = pd.read_csv('general_dollar.csv')\n",
    "#df2 = pd.read_csv('organizer_dollar.csv')\n",
    "#df3 = pd.read_csv('comments_dollar.csv')\n",
    "#df4 = pd.read_csv('donations_dollar.csv')"
   ]
  },
  {
   "cell_type": "code",
   "execution_count": 412,
   "metadata": {},
   "outputs": [
    {
     "name": "stdout",
     "output_type": "stream",
     "text": [
      "<class 'pandas.core.frame.DataFrame'>\n",
      "RangeIndex: 3904 entries, 0 to 3903\n",
      "Data columns (total 35 columns):\n",
      " #   Column                             Non-Null Count  Dtype  \n",
      "---  ------                             --------------  -----  \n",
      " 0   chid                               3904 non-null   int64  \n",
      " 1   url                                3904 non-null   object \n",
      " 2   scrape_date                        3904 non-null   object \n",
      " 3   title                              3904 non-null   object \n",
      " 4   created_date                       3904 non-null   object \n",
      " 5   funds_raised                       3904 non-null   float64\n",
      " 6   funds_target                       3853 non-null   float64\n",
      " 7   picture                            3904 non-null   bool   \n",
      " 8   org_picture                        3904 non-null   bool   \n",
      " 9   counts_status_code                 3904 non-null   int64  \n",
      " 10  velocity_status_code               3904 non-null   int64  \n",
      " 11  updates_status_code                3904 non-null   int64  \n",
      " 12  comments_status_code               3904 non-null   int64  \n",
      " 13  donations_status_code              3904 non-null   int64  \n",
      " 14  currency                           3904 non-null   object \n",
      " 15  tags                               3904 non-null   object \n",
      " 16  story                              3852 non-null   object \n",
      " 17  receiver_name                      992 non-null    object \n",
      " 18  receiver_tax                       992 non-null    object \n",
      " 19  total_photos                       3831 non-null   float64\n",
      " 20  total_co_photos                    3831 non-null   float64\n",
      " 21  total_community_photos             3831 non-null   float64\n",
      " 22  total_comments                     3831 non-null   float64\n",
      " 23  total_updates                      3831 non-null   float64\n",
      " 24  total_donations                    3831 non-null   float64\n",
      " 25  total_unique_donors                3831 non-null   float64\n",
      " 26  amount_raised_unattributed         3831 non-null   float64\n",
      " 27  number_of_donations_unattributed   3831 non-null   float64\n",
      " 28  campaign_hearts                    3831 non-null   float64\n",
      " 29  social_share_total                 3831 non-null   float64\n",
      " 30  num_recent_donations               3856 non-null   float64\n",
      " 31  recent_time_window                 3856 non-null   object \n",
      " 32  funds_raised_dollar                3904 non-null   int64  \n",
      " 33  funds_target_dollar                3853 non-null   float64\n",
      " 34  amount_raised_unattributed_dollar  3831 non-null   float64\n",
      "dtypes: bool(2), float64(16), int64(7), object(10)\n",
      "memory usage: 1014.2+ KB\n"
     ]
    }
   ],
   "source": [
    "df1.info()\n",
    "#df1[df1['currency'] == 'euro']"
   ]
  },
  {
   "cell_type": "code",
   "execution_count": 370,
   "metadata": {},
   "outputs": [
    {
     "data": {
      "text/plain": [
       "chid                0\n",
       "org_id              0\n",
       "org_name            0\n",
       "org_type            0\n",
       "location         4434\n",
       "raised           5925\n",
       "num_donations    5925\n",
       "currency            0\n",
       "raised_dollar    5925\n",
       "dtype: int64"
      ]
     },
     "execution_count": 370,
     "metadata": {},
     "output_type": "execute_result"
    }
   ],
   "source": [
    "#df2\n",
    "df2.isnull().sum()"
   ]
  },
  {
   "cell_type": "code",
   "execution_count": 373,
   "metadata": {},
   "outputs": [
    {
     "data": {
      "text/plain": [
       "chid                  0\n",
       "comment_id            0\n",
       "name                  9\n",
       "timestamp           189\n",
       "profile_url      161719\n",
       "photos           167247\n",
       "amount              460\n",
       "is_anonymous        700\n",
       "created_at          700\n",
       "comment            1919\n",
       "currency              0\n",
       "amount_dollar       460\n",
       "dtype: int64"
      ]
     },
     "execution_count": 373,
     "metadata": {},
     "output_type": "execute_result"
    }
   ],
   "source": [
    "df3.isnull().sum()"
   ]
  },
  {
   "cell_type": "code",
   "execution_count": 374,
   "metadata": {},
   "outputs": [
    {
     "data": {
      "text/plain": [
       "chid                   0\n",
       "donation_id            0\n",
       "amount                 0\n",
       "is_anonymous           0\n",
       "name                  24\n",
       "created_at             0\n",
       "profile_url      2145959\n",
       "currency               0\n",
       "amount_dollar          0\n",
       "dtype: int64"
      ]
     },
     "execution_count": 374,
     "metadata": {},
     "output_type": "execute_result"
    }
   ],
   "source": [
    "df4.isnull().sum()"
   ]
  },
  {
   "cell_type": "code",
   "execution_count": null,
   "metadata": {},
   "outputs": [],
   "source": []
  }
 ],
 "metadata": {
  "kernelspec": {
   "display_name": "Python 3",
   "language": "python",
   "name": "python3"
  },
  "language_info": {
   "codemirror_mode": {
    "name": "ipython",
    "version": 3
   },
   "file_extension": ".py",
   "mimetype": "text/x-python",
   "name": "python",
   "nbconvert_exporter": "python",
   "pygments_lexer": "ipython3",
   "version": "3.8.3"
  }
 },
 "nbformat": 4,
 "nbformat_minor": 4
}
