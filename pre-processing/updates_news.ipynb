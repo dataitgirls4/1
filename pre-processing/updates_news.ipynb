{
 "cells": [
  {
   "cell_type": "code",
   "execution_count": 1,
   "metadata": {},
   "outputs": [],
   "source": [
    "import pandas as pd \n",
    "import numpy as np \n",
    "from datetime import datetime "
   ]
  },
  {
   "cell_type": "code",
   "execution_count": 2,
   "metadata": {},
   "outputs": [],
   "source": [
    "updates= pd.read_csv('origin_data/updates.csv',encoding= 'cp949')"
   ]
  },
  {
   "cell_type": "code",
   "execution_count": 3,
   "metadata": {},
   "outputs": [
    {
     "data": {
      "text/html": [
       "<div>\n",
       "<style scoped>\n",
       "    .dataframe tbody tr th:only-of-type {\n",
       "        vertical-align: middle;\n",
       "    }\n",
       "\n",
       "    .dataframe tbody tr th {\n",
       "        vertical-align: top;\n",
       "    }\n",
       "\n",
       "    .dataframe thead th {\n",
       "        text-align: right;\n",
       "    }\n",
       "</style>\n",
       "<table border=\"1\" class=\"dataframe\">\n",
       "  <thead>\n",
       "    <tr style=\"text-align: right;\">\n",
       "      <th></th>\n",
       "      <th>chid</th>\n",
       "      <th>update_id</th>\n",
       "      <th>author</th>\n",
       "      <th>author_type</th>\n",
       "      <th>user_profile_url</th>\n",
       "      <th>media_type</th>\n",
       "      <th>status</th>\n",
       "      <th>text</th>\n",
       "      <th>photos</th>\n",
       "      <th>created_at</th>\n",
       "    </tr>\n",
       "  </thead>\n",
       "  <tbody>\n",
       "    <tr>\n",
       "      <th>0</th>\n",
       "      <td>1</td>\n",
       "      <td>24893752</td>\n",
       "      <td>Jared Thomas</td>\n",
       "      <td>ORGANIZER</td>\n",
       "      <td>NaN</td>\n",
       "      <td>1</td>\n",
       "      <td>1</td>\n",
       "      <td>Thank you to everyone who donated to Chris’ Go...</td>\n",
       "      <td>False</td>\n",
       "      <td>2020-06-18 16:24</td>\n",
       "    </tr>\n",
       "    <tr>\n",
       "      <th>1</th>\n",
       "      <td>3</td>\n",
       "      <td>25518194</td>\n",
       "      <td>Gus Jacobson</td>\n",
       "      <td>ORGANIZER</td>\n",
       "      <td>https://graph.facebook.com/v7.0/10156402123230...</td>\n",
       "      <td>1</td>\n",
       "      <td>1</td>\n",
       "      <td>We have raised over $12k for our computers! Th...</td>\n",
       "      <td>False</td>\n",
       "      <td>2020-08-30 10:27</td>\n",
       "    </tr>\n",
       "    <tr>\n",
       "      <th>2</th>\n",
       "      <td>3</td>\n",
       "      <td>25184752</td>\n",
       "      <td>Gus Jacobson</td>\n",
       "      <td>ORGANIZER</td>\n",
       "      <td>https://graph.facebook.com/v7.0/10156402123230...</td>\n",
       "      <td>1</td>\n",
       "      <td>1</td>\n",
       "      <td>No matter what school looks like in September ...</td>\n",
       "      <td>False</td>\n",
       "      <td>2020-07-22 16:36</td>\n",
       "    </tr>\n",
       "    <tr>\n",
       "      <th>3</th>\n",
       "      <td>3</td>\n",
       "      <td>25010100</td>\n",
       "      <td>Gus Jacobson</td>\n",
       "      <td>ORGANIZER</td>\n",
       "      <td>https://graph.facebook.com/v7.0/10156402123230...</td>\n",
       "      <td>1</td>\n",
       "      <td>1</td>\n",
       "      <td>Our campaign is 25% there! Thank you so much t...</td>\n",
       "      <td>False</td>\n",
       "      <td>2020-07-02 11:18</td>\n",
       "    </tr>\n",
       "    <tr>\n",
       "      <th>4</th>\n",
       "      <td>3</td>\n",
       "      <td>24922594</td>\n",
       "      <td>Gus Jacobson</td>\n",
       "      <td>ORGANIZER</td>\n",
       "      <td>https://graph.facebook.com/v7.0/10156402123230...</td>\n",
       "      <td>1</td>\n",
       "      <td>1</td>\n",
       "      <td>We&amp;#039;ve raised $4k towards our goal since F...</td>\n",
       "      <td>True</td>\n",
       "      <td>2020-06-22 11:36</td>\n",
       "    </tr>\n",
       "  </tbody>\n",
       "</table>\n",
       "</div>"
      ],
      "text/plain": [
       "   chid  update_id        author author_type  \\\n",
       "0     1   24893752  Jared Thomas   ORGANIZER   \n",
       "1     3   25518194  Gus Jacobson   ORGANIZER   \n",
       "2     3   25184752  Gus Jacobson   ORGANIZER   \n",
       "3     3   25010100  Gus Jacobson   ORGANIZER   \n",
       "4     3   24922594  Gus Jacobson   ORGANIZER   \n",
       "\n",
       "                                    user_profile_url  media_type  status  \\\n",
       "0                                                NaN           1       1   \n",
       "1  https://graph.facebook.com/v7.0/10156402123230...           1       1   \n",
       "2  https://graph.facebook.com/v7.0/10156402123230...           1       1   \n",
       "3  https://graph.facebook.com/v7.0/10156402123230...           1       1   \n",
       "4  https://graph.facebook.com/v7.0/10156402123230...           1       1   \n",
       "\n",
       "                                                text  photos        created_at  \n",
       "0  Thank you to everyone who donated to Chris’ Go...   False  2020-06-18 16:24  \n",
       "1  We have raised over $12k for our computers! Th...   False  2020-08-30 10:27  \n",
       "2  No matter what school looks like in September ...   False  2020-07-22 16:36  \n",
       "3  Our campaign is 25% there! Thank you so much t...   False  2020-07-02 11:18  \n",
       "4  We&#039;ve raised $4k towards our goal since F...    True  2020-06-22 11:36  "
      ]
     },
     "execution_count": 3,
     "metadata": {},
     "output_type": "execute_result"
    }
   ],
   "source": [
    "updates.head()"
   ]
  },
  {
   "cell_type": "markdown",
   "metadata": {},
   "source": [
    "# 컬럼 삭제 "
   ]
  },
  {
   "cell_type": "code",
   "execution_count": 4,
   "metadata": {},
   "outputs": [],
   "source": [
    "updates.drop(['media_type','status'], axis = 1, inplace = True)"
   ]
  },
  {
   "cell_type": "code",
   "execution_count": 5,
   "metadata": {},
   "outputs": [
    {
     "data": {
      "text/html": [
       "<div>\n",
       "<style scoped>\n",
       "    .dataframe tbody tr th:only-of-type {\n",
       "        vertical-align: middle;\n",
       "    }\n",
       "\n",
       "    .dataframe tbody tr th {\n",
       "        vertical-align: top;\n",
       "    }\n",
       "\n",
       "    .dataframe thead th {\n",
       "        text-align: right;\n",
       "    }\n",
       "</style>\n",
       "<table border=\"1\" class=\"dataframe\">\n",
       "  <thead>\n",
       "    <tr style=\"text-align: right;\">\n",
       "      <th></th>\n",
       "      <th>chid</th>\n",
       "      <th>update_id</th>\n",
       "      <th>author</th>\n",
       "      <th>author_type</th>\n",
       "      <th>user_profile_url</th>\n",
       "      <th>text</th>\n",
       "      <th>photos</th>\n",
       "      <th>created_at</th>\n",
       "    </tr>\n",
       "  </thead>\n",
       "  <tbody>\n",
       "    <tr>\n",
       "      <th>0</th>\n",
       "      <td>1</td>\n",
       "      <td>24893752</td>\n",
       "      <td>Jared Thomas</td>\n",
       "      <td>ORGANIZER</td>\n",
       "      <td>NaN</td>\n",
       "      <td>Thank you to everyone who donated to Chris’ Go...</td>\n",
       "      <td>False</td>\n",
       "      <td>2020-06-18 16:24</td>\n",
       "    </tr>\n",
       "    <tr>\n",
       "      <th>1</th>\n",
       "      <td>3</td>\n",
       "      <td>25518194</td>\n",
       "      <td>Gus Jacobson</td>\n",
       "      <td>ORGANIZER</td>\n",
       "      <td>https://graph.facebook.com/v7.0/10156402123230...</td>\n",
       "      <td>We have raised over $12k for our computers! Th...</td>\n",
       "      <td>False</td>\n",
       "      <td>2020-08-30 10:27</td>\n",
       "    </tr>\n",
       "    <tr>\n",
       "      <th>2</th>\n",
       "      <td>3</td>\n",
       "      <td>25184752</td>\n",
       "      <td>Gus Jacobson</td>\n",
       "      <td>ORGANIZER</td>\n",
       "      <td>https://graph.facebook.com/v7.0/10156402123230...</td>\n",
       "      <td>No matter what school looks like in September ...</td>\n",
       "      <td>False</td>\n",
       "      <td>2020-07-22 16:36</td>\n",
       "    </tr>\n",
       "    <tr>\n",
       "      <th>3</th>\n",
       "      <td>3</td>\n",
       "      <td>25010100</td>\n",
       "      <td>Gus Jacobson</td>\n",
       "      <td>ORGANIZER</td>\n",
       "      <td>https://graph.facebook.com/v7.0/10156402123230...</td>\n",
       "      <td>Our campaign is 25% there! Thank you so much t...</td>\n",
       "      <td>False</td>\n",
       "      <td>2020-07-02 11:18</td>\n",
       "    </tr>\n",
       "    <tr>\n",
       "      <th>4</th>\n",
       "      <td>3</td>\n",
       "      <td>24922594</td>\n",
       "      <td>Gus Jacobson</td>\n",
       "      <td>ORGANIZER</td>\n",
       "      <td>https://graph.facebook.com/v7.0/10156402123230...</td>\n",
       "      <td>We&amp;#039;ve raised $4k towards our goal since F...</td>\n",
       "      <td>True</td>\n",
       "      <td>2020-06-22 11:36</td>\n",
       "    </tr>\n",
       "  </tbody>\n",
       "</table>\n",
       "</div>"
      ],
      "text/plain": [
       "   chid  update_id        author author_type  \\\n",
       "0     1   24893752  Jared Thomas   ORGANIZER   \n",
       "1     3   25518194  Gus Jacobson   ORGANIZER   \n",
       "2     3   25184752  Gus Jacobson   ORGANIZER   \n",
       "3     3   25010100  Gus Jacobson   ORGANIZER   \n",
       "4     3   24922594  Gus Jacobson   ORGANIZER   \n",
       "\n",
       "                                    user_profile_url  \\\n",
       "0                                                NaN   \n",
       "1  https://graph.facebook.com/v7.0/10156402123230...   \n",
       "2  https://graph.facebook.com/v7.0/10156402123230...   \n",
       "3  https://graph.facebook.com/v7.0/10156402123230...   \n",
       "4  https://graph.facebook.com/v7.0/10156402123230...   \n",
       "\n",
       "                                                text  photos        created_at  \n",
       "0  Thank you to everyone who donated to Chris’ Go...   False  2020-06-18 16:24  \n",
       "1  We have raised over $12k for our computers! Th...   False  2020-08-30 10:27  \n",
       "2  No matter what school looks like in September ...   False  2020-07-22 16:36  \n",
       "3  Our campaign is 25% there! Thank you so much t...   False  2020-07-02 11:18  \n",
       "4  We&#039;ve raised $4k towards our goal since F...    True  2020-06-22 11:36  "
      ]
     },
     "execution_count": 5,
     "metadata": {},
     "output_type": "execute_result"
    }
   ],
   "source": [
    "updates.head()"
   ]
  },
  {
   "cell_type": "code",
   "execution_count": 6,
   "metadata": {},
   "outputs": [
    {
     "name": "stdout",
     "output_type": "stream",
     "text": [
      "<class 'pandas.core.frame.DataFrame'>\n",
      "RangeIndex: 13032 entries, 0 to 13031\n",
      "Data columns (total 8 columns):\n",
      " #   Column            Non-Null Count  Dtype \n",
      "---  ------            --------------  ----- \n",
      " 0   chid              13032 non-null  int64 \n",
      " 1   update_id         13032 non-null  int64 \n",
      " 2   author            13032 non-null  object\n",
      " 3   author_type       13032 non-null  object\n",
      " 4   user_profile_url  5688 non-null   object\n",
      " 5   text              12594 non-null  object\n",
      " 6   photos            13032 non-null  bool  \n",
      " 7   created_at        13032 non-null  object\n",
      "dtypes: bool(1), int64(2), object(5)\n",
      "memory usage: 725.5+ KB\n"
     ]
    }
   ],
   "source": [
    "updates.info()"
   ]
  },
  {
   "cell_type": "code",
   "execution_count": 7,
   "metadata": {},
   "outputs": [
    {
     "data": {
      "text/plain": [
       "(13032, 8)"
      ]
     },
     "execution_count": 7,
     "metadata": {},
     "output_type": "execute_result"
    }
   ],
   "source": [
    "updates.shape"
   ]
  },
  {
   "cell_type": "markdown",
   "metadata": {},
   "source": [
    "# author_type 칼럼 정리 "
   ]
  },
  {
   "cell_type": "markdown",
   "metadata": {},
   "source": [
    "## 대소문자 변환 및 문자 변환 "
   ]
  },
  {
   "cell_type": "code",
   "execution_count": 8,
   "metadata": {},
   "outputs": [],
   "source": [
    "updates.author = updates.author_type.str.capitalize()"
   ]
  },
  {
   "cell_type": "code",
   "execution_count": 9,
   "metadata": {},
   "outputs": [],
   "source": [
    "updates.author = updates.author.replace('Team_member', 'Team member')"
   ]
  },
  {
   "cell_type": "code",
   "execution_count": 10,
   "metadata": {},
   "outputs": [
    {
     "data": {
      "text/plain": [
       "Organizer      11061\n",
       "Beneficiary     1078\n",
       "Team member      893\n",
       "Name: author, dtype: int64"
      ]
     },
     "execution_count": 10,
     "metadata": {},
     "output_type": "execute_result"
    }
   ],
   "source": [
    "updates.author.value_counts()"
   ]
  },
  {
   "cell_type": "markdown",
   "metadata": {},
   "source": [
    "# created_at 칼럼 정리 "
   ]
  },
  {
   "cell_type": "code",
   "execution_count": 11,
   "metadata": {},
   "outputs": [],
   "source": [
    "updates.created_at = pd.to_datetime(updates.created_at, utc= True) "
   ]
  },
  {
   "cell_type": "code",
   "execution_count": 12,
   "metadata": {},
   "outputs": [
    {
     "data": {
      "text/plain": [
       "0       2020-06-18 16:24:00+00:00\n",
       "1       2020-08-30 10:27:00+00:00\n",
       "2       2020-07-22 16:36:00+00:00\n",
       "3       2020-07-02 11:18:00+00:00\n",
       "4       2020-06-22 11:36:00+00:00\n",
       "                   ...           \n",
       "13027   2020-04-30 08:01:00+00:00\n",
       "13028   2020-09-18 13:35:00+00:00\n",
       "13029   2020-09-07 22:24:00+00:00\n",
       "13030   2020-08-30 09:51:00+00:00\n",
       "13031   2020-10-29 13:20:00+00:00\n",
       "Name: created_at, Length: 13032, dtype: datetime64[ns, UTC]"
      ]
     },
     "execution_count": 12,
     "metadata": {},
     "output_type": "execute_result"
    }
   ],
   "source": [
    "updates.created_at"
   ]
  },
  {
   "cell_type": "markdown",
   "metadata": {},
   "source": [
    "# 데이터 확인 "
   ]
  },
  {
   "cell_type": "code",
   "execution_count": 13,
   "metadata": {},
   "outputs": [
    {
     "data": {
      "text/plain": [
       "(13032, 8)"
      ]
     },
     "execution_count": 13,
     "metadata": {},
     "output_type": "execute_result"
    }
   ],
   "source": [
    "updates.shape"
   ]
  },
  {
   "cell_type": "code",
   "execution_count": 14,
   "metadata": {},
   "outputs": [
    {
     "name": "stdout",
     "output_type": "stream",
     "text": [
      "<class 'pandas.core.frame.DataFrame'>\n",
      "RangeIndex: 13032 entries, 0 to 13031\n",
      "Data columns (total 8 columns):\n",
      " #   Column            Non-Null Count  Dtype              \n",
      "---  ------            --------------  -----              \n",
      " 0   chid              13032 non-null  int64              \n",
      " 1   update_id         13032 non-null  int64              \n",
      " 2   author            13032 non-null  object             \n",
      " 3   author_type       13032 non-null  object             \n",
      " 4   user_profile_url  5688 non-null   object             \n",
      " 5   text              12594 non-null  object             \n",
      " 6   photos            13032 non-null  bool               \n",
      " 7   created_at        13032 non-null  datetime64[ns, UTC]\n",
      "dtypes: bool(1), datetime64[ns, UTC](1), int64(2), object(4)\n",
      "memory usage: 725.5+ KB\n"
     ]
    }
   ],
   "source": [
    "updates.info()"
   ]
  },
  {
   "cell_type": "markdown",
   "metadata": {},
   "source": [
    "# 파일 만들기 "
   ]
  },
  {
   "cell_type": "code",
   "execution_count": 15,
   "metadata": {},
   "outputs": [],
   "source": [
    "updates.to_csv('updates_new.csv', header= True, index= False)"
   ]
  }
 ],
 "metadata": {
  "hide_input": false,
  "kernelspec": {
   "display_name": "Python 3",
   "language": "python",
   "name": "python3"
  },
  "language_info": {
   "codemirror_mode": {
    "name": "ipython",
    "version": 3
   },
   "file_extension": ".py",
   "mimetype": "text/x-python",
   "name": "python",
   "nbconvert_exporter": "python",
   "pygments_lexer": "ipython3",
   "version": "3.8.3"
  },
  "toc": {
   "base_numbering": 1,
   "nav_menu": {},
   "number_sections": true,
   "sideBar": true,
   "skip_h1_title": false,
   "title_cell": "Table of Contents",
   "title_sidebar": "Contents",
   "toc_cell": false,
   "toc_position": {},
   "toc_section_display": true,
   "toc_window_display": false
  }
 },
 "nbformat": 4,
 "nbformat_minor": 4
}
