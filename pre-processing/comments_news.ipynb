{
 "cells": [
  {
   "cell_type": "code",
   "execution_count": 1,
   "metadata": {},
   "outputs": [],
   "source": [
    "import pandas as pd \n",
    "import numpy as np \n",
    "from datetime import datetime "
   ]
  },
  {
   "cell_type": "code",
   "execution_count": 2,
   "metadata": {},
   "outputs": [],
   "source": [
    "comments= pd.read_csv('origin_data/comments.csv')"
   ]
  },
  {
   "cell_type": "code",
   "execution_count": 3,
   "metadata": {},
   "outputs": [
    {
     "data": {
      "text/html": [
       "<div>\n",
       "<style scoped>\n",
       "    .dataframe tbody tr th:only-of-type {\n",
       "        vertical-align: middle;\n",
       "    }\n",
       "\n",
       "    .dataframe tbody tr th {\n",
       "        vertical-align: top;\n",
       "    }\n",
       "\n",
       "    .dataframe thead th {\n",
       "        text-align: right;\n",
       "    }\n",
       "</style>\n",
       "<table border=\"1\" class=\"dataframe\">\n",
       "  <thead>\n",
       "    <tr style=\"text-align: right;\">\n",
       "      <th></th>\n",
       "      <th>chid</th>\n",
       "      <th>comment_id</th>\n",
       "      <th>comment_id_old</th>\n",
       "      <th>ugc_id</th>\n",
       "      <th>ugc_root_id</th>\n",
       "      <th>name</th>\n",
       "      <th>status</th>\n",
       "      <th>timestamp</th>\n",
       "      <th>profile_url</th>\n",
       "      <th>photos</th>\n",
       "      <th>amount</th>\n",
       "      <th>is_offline</th>\n",
       "      <th>is_anonymous</th>\n",
       "      <th>created_at</th>\n",
       "      <th>comment</th>\n",
       "      <th>deny_delete</th>\n",
       "    </tr>\n",
       "  </thead>\n",
       "  <tbody>\n",
       "    <tr>\n",
       "      <th>0</th>\n",
       "      <td>1</td>\n",
       "      <td>0</td>\n",
       "      <td>110193038.0</td>\n",
       "      <td>411106794</td>\n",
       "      <td>411893230</td>\n",
       "      <td>NIAH FULFORD</td>\n",
       "      <td>1.0</td>\n",
       "      <td>2020-08-17T00:29:34</td>\n",
       "      <td>NaN</td>\n",
       "      <td>True</td>\n",
       "      <td>1000.0</td>\n",
       "      <td>False</td>\n",
       "      <td>False</td>\n",
       "      <td>2020-08-17T00:27:14-05:00</td>\n",
       "      <td>This donation is from the Black Alum Council o...</td>\n",
       "      <td>False</td>\n",
       "    </tr>\n",
       "    <tr>\n",
       "      <th>1</th>\n",
       "      <td>1</td>\n",
       "      <td>1</td>\n",
       "      <td>109466392.0</td>\n",
       "      <td>395193422</td>\n",
       "      <td>395979858</td>\n",
       "      <td>Kurt Nauenburg</td>\n",
       "      <td>1.0</td>\n",
       "      <td>2020-07-05T10:17:37</td>\n",
       "      <td>NaN</td>\n",
       "      <td>NaN</td>\n",
       "      <td>50.0</td>\n",
       "      <td>False</td>\n",
       "      <td>False</td>\n",
       "      <td>2020-07-05T10:12:15-05:00</td>\n",
       "      <td>Justice for Chris!</td>\n",
       "      <td>False</td>\n",
       "    </tr>\n",
       "    <tr>\n",
       "      <th>2</th>\n",
       "      <td>1</td>\n",
       "      <td>2</td>\n",
       "      <td>109368876.0</td>\n",
       "      <td>392956072</td>\n",
       "      <td>393742508</td>\n",
       "      <td>Alfonzo Thurman</td>\n",
       "      <td>1.0</td>\n",
       "      <td>2020-06-29T14:19:29</td>\n",
       "      <td>NaN</td>\n",
       "      <td>NaN</td>\n",
       "      <td>50.0</td>\n",
       "      <td>False</td>\n",
       "      <td>False</td>\n",
       "      <td>2020-06-29T14:15:16-05:00</td>\n",
       "      <td>I didn't know Chris personally but he clearly ...</td>\n",
       "      <td>False</td>\n",
       "    </tr>\n",
       "    <tr>\n",
       "      <th>3</th>\n",
       "      <td>1</td>\n",
       "      <td>3</td>\n",
       "      <td>109339718.0</td>\n",
       "      <td>392238386</td>\n",
       "      <td>393024822</td>\n",
       "      <td>Courtney Whistler</td>\n",
       "      <td>1.0</td>\n",
       "      <td>2020-06-27T17:14:21</td>\n",
       "      <td>NaN</td>\n",
       "      <td>NaN</td>\n",
       "      <td>770.0</td>\n",
       "      <td>False</td>\n",
       "      <td>False</td>\n",
       "      <td>2020-06-27T17:12:11-05:00</td>\n",
       "      <td>Doug Bright/ Binkley's Kitchen and Bar</td>\n",
       "      <td>False</td>\n",
       "    </tr>\n",
       "    <tr>\n",
       "      <th>4</th>\n",
       "      <td>1</td>\n",
       "      <td>4</td>\n",
       "      <td>109103830.0</td>\n",
       "      <td>386048640</td>\n",
       "      <td>386835076</td>\n",
       "      <td>Kevin Emberton</td>\n",
       "      <td>1.0</td>\n",
       "      <td>2020-06-13T19:15:44</td>\n",
       "      <td>NaN</td>\n",
       "      <td>NaN</td>\n",
       "      <td>100.0</td>\n",
       "      <td>False</td>\n",
       "      <td>False</td>\n",
       "      <td>2020-06-13T19:14:57-05:00</td>\n",
       "      <td>Thoughts and prayers to family</td>\n",
       "      <td>False</td>\n",
       "    </tr>\n",
       "  </tbody>\n",
       "</table>\n",
       "</div>"
      ],
      "text/plain": [
       "   chid  comment_id  comment_id_old     ugc_id  ugc_root_id  \\\n",
       "0     1           0     110193038.0  411106794    411893230   \n",
       "1     1           1     109466392.0  395193422    395979858   \n",
       "2     1           2     109368876.0  392956072    393742508   \n",
       "3     1           3     109339718.0  392238386    393024822   \n",
       "4     1           4     109103830.0  386048640    386835076   \n",
       "\n",
       "                name  status            timestamp profile_url photos  amount  \\\n",
       "0       NIAH FULFORD     1.0  2020-08-17T00:29:34         NaN   True  1000.0   \n",
       "1     Kurt Nauenburg     1.0  2020-07-05T10:17:37         NaN    NaN    50.0   \n",
       "2    Alfonzo Thurman     1.0  2020-06-29T14:19:29         NaN    NaN    50.0   \n",
       "3  Courtney Whistler     1.0  2020-06-27T17:14:21         NaN    NaN   770.0   \n",
       "4     Kevin Emberton     1.0  2020-06-13T19:15:44         NaN    NaN   100.0   \n",
       "\n",
       "  is_offline is_anonymous                 created_at  \\\n",
       "0      False        False  2020-08-17T00:27:14-05:00   \n",
       "1      False        False  2020-07-05T10:12:15-05:00   \n",
       "2      False        False  2020-06-29T14:15:16-05:00   \n",
       "3      False        False  2020-06-27T17:12:11-05:00   \n",
       "4      False        False  2020-06-13T19:14:57-05:00   \n",
       "\n",
       "                                             comment  deny_delete  \n",
       "0  This donation is from the Black Alum Council o...        False  \n",
       "1                                 Justice for Chris!        False  \n",
       "2  I didn't know Chris personally but he clearly ...        False  \n",
       "3             Doug Bright/ Binkley's Kitchen and Bar        False  \n",
       "4                     Thoughts and prayers to family        False  "
      ]
     },
     "execution_count": 3,
     "metadata": {},
     "output_type": "execute_result"
    }
   ],
   "source": [
    "comments.head()"
   ]
  },
  {
   "cell_type": "markdown",
   "metadata": {},
   "source": [
    "# 컬럼 삭제 "
   ]
  },
  {
   "cell_type": "code",
   "execution_count": 4,
   "metadata": {},
   "outputs": [],
   "source": [
    "comments.drop(['comment_id_old','ugc_id', 'ugc_root_id', 'status','is_offline', 'deny_delete' ], axis =1, inplace = True )"
   ]
  },
  {
   "cell_type": "code",
   "execution_count": 5,
   "metadata": {},
   "outputs": [
    {
     "data": {
      "text/html": [
       "<div>\n",
       "<style scoped>\n",
       "    .dataframe tbody tr th:only-of-type {\n",
       "        vertical-align: middle;\n",
       "    }\n",
       "\n",
       "    .dataframe tbody tr th {\n",
       "        vertical-align: top;\n",
       "    }\n",
       "\n",
       "    .dataframe thead th {\n",
       "        text-align: right;\n",
       "    }\n",
       "</style>\n",
       "<table border=\"1\" class=\"dataframe\">\n",
       "  <thead>\n",
       "    <tr style=\"text-align: right;\">\n",
       "      <th></th>\n",
       "      <th>chid</th>\n",
       "      <th>comment_id</th>\n",
       "      <th>name</th>\n",
       "      <th>timestamp</th>\n",
       "      <th>profile_url</th>\n",
       "      <th>photos</th>\n",
       "      <th>amount</th>\n",
       "      <th>is_anonymous</th>\n",
       "      <th>created_at</th>\n",
       "      <th>comment</th>\n",
       "    </tr>\n",
       "  </thead>\n",
       "  <tbody>\n",
       "    <tr>\n",
       "      <th>0</th>\n",
       "      <td>1</td>\n",
       "      <td>0</td>\n",
       "      <td>NIAH FULFORD</td>\n",
       "      <td>2020-08-17T00:29:34</td>\n",
       "      <td>NaN</td>\n",
       "      <td>True</td>\n",
       "      <td>1000.0</td>\n",
       "      <td>False</td>\n",
       "      <td>2020-08-17T00:27:14-05:00</td>\n",
       "      <td>This donation is from the Black Alum Council o...</td>\n",
       "    </tr>\n",
       "    <tr>\n",
       "      <th>1</th>\n",
       "      <td>1</td>\n",
       "      <td>1</td>\n",
       "      <td>Kurt Nauenburg</td>\n",
       "      <td>2020-07-05T10:17:37</td>\n",
       "      <td>NaN</td>\n",
       "      <td>NaN</td>\n",
       "      <td>50.0</td>\n",
       "      <td>False</td>\n",
       "      <td>2020-07-05T10:12:15-05:00</td>\n",
       "      <td>Justice for Chris!</td>\n",
       "    </tr>\n",
       "    <tr>\n",
       "      <th>2</th>\n",
       "      <td>1</td>\n",
       "      <td>2</td>\n",
       "      <td>Alfonzo Thurman</td>\n",
       "      <td>2020-06-29T14:19:29</td>\n",
       "      <td>NaN</td>\n",
       "      <td>NaN</td>\n",
       "      <td>50.0</td>\n",
       "      <td>False</td>\n",
       "      <td>2020-06-29T14:15:16-05:00</td>\n",
       "      <td>I didn't know Chris personally but he clearly ...</td>\n",
       "    </tr>\n",
       "    <tr>\n",
       "      <th>3</th>\n",
       "      <td>1</td>\n",
       "      <td>3</td>\n",
       "      <td>Courtney Whistler</td>\n",
       "      <td>2020-06-27T17:14:21</td>\n",
       "      <td>NaN</td>\n",
       "      <td>NaN</td>\n",
       "      <td>770.0</td>\n",
       "      <td>False</td>\n",
       "      <td>2020-06-27T17:12:11-05:00</td>\n",
       "      <td>Doug Bright/ Binkley's Kitchen and Bar</td>\n",
       "    </tr>\n",
       "    <tr>\n",
       "      <th>4</th>\n",
       "      <td>1</td>\n",
       "      <td>4</td>\n",
       "      <td>Kevin Emberton</td>\n",
       "      <td>2020-06-13T19:15:44</td>\n",
       "      <td>NaN</td>\n",
       "      <td>NaN</td>\n",
       "      <td>100.0</td>\n",
       "      <td>False</td>\n",
       "      <td>2020-06-13T19:14:57-05:00</td>\n",
       "      <td>Thoughts and prayers to family</td>\n",
       "    </tr>\n",
       "  </tbody>\n",
       "</table>\n",
       "</div>"
      ],
      "text/plain": [
       "   chid  comment_id               name            timestamp profile_url  \\\n",
       "0     1           0       NIAH FULFORD  2020-08-17T00:29:34         NaN   \n",
       "1     1           1     Kurt Nauenburg  2020-07-05T10:17:37         NaN   \n",
       "2     1           2    Alfonzo Thurman  2020-06-29T14:19:29         NaN   \n",
       "3     1           3  Courtney Whistler  2020-06-27T17:14:21         NaN   \n",
       "4     1           4     Kevin Emberton  2020-06-13T19:15:44         NaN   \n",
       "\n",
       "  photos  amount is_anonymous                 created_at  \\\n",
       "0   True  1000.0        False  2020-08-17T00:27:14-05:00   \n",
       "1    NaN    50.0        False  2020-07-05T10:12:15-05:00   \n",
       "2    NaN    50.0        False  2020-06-29T14:15:16-05:00   \n",
       "3    NaN   770.0        False  2020-06-27T17:12:11-05:00   \n",
       "4    NaN   100.0        False  2020-06-13T19:14:57-05:00   \n",
       "\n",
       "                                             comment  \n",
       "0  This donation is from the Black Alum Council o...  \n",
       "1                                 Justice for Chris!  \n",
       "2  I didn't know Chris personally but he clearly ...  \n",
       "3             Doug Bright/ Binkley's Kitchen and Bar  \n",
       "4                     Thoughts and prayers to family  "
      ]
     },
     "execution_count": 5,
     "metadata": {},
     "output_type": "execute_result"
    }
   ],
   "source": [
    "comments.head()"
   ]
  },
  {
   "cell_type": "code",
   "execution_count": 6,
   "metadata": {},
   "outputs": [
    {
     "data": {
      "text/plain": [
       "(169919, 10)"
      ]
     },
     "execution_count": 6,
     "metadata": {},
     "output_type": "execute_result"
    }
   ],
   "source": [
    "comments.shape"
   ]
  },
  {
   "cell_type": "code",
   "execution_count": 7,
   "metadata": {
    "scrolled": true
   },
   "outputs": [
    {
     "name": "stdout",
     "output_type": "stream",
     "text": [
      "<class 'pandas.core.frame.DataFrame'>\n",
      "RangeIndex: 169919 entries, 0 to 169918\n",
      "Data columns (total 10 columns):\n",
      " #   Column        Non-Null Count   Dtype  \n",
      "---  ------        --------------   -----  \n",
      " 0   chid          169919 non-null  int64  \n",
      " 1   comment_id    169919 non-null  int64  \n",
      " 2   name          169910 non-null  object \n",
      " 3   timestamp     169730 non-null  object \n",
      " 4   profile_url   8200 non-null    object \n",
      " 5   photos        2672 non-null    object \n",
      " 6   amount        169459 non-null  float64\n",
      " 7   is_anonymous  169219 non-null  object \n",
      " 8   created_at    169219 non-null  object \n",
      " 9   comment       168000 non-null  object \n",
      "dtypes: float64(1), int64(2), object(7)\n",
      "memory usage: 13.0+ MB\n"
     ]
    }
   ],
   "source": [
    "comments.info()"
   ]
  },
  {
   "cell_type": "markdown",
   "metadata": {},
   "source": [
    "# timestamp 칼럼 변경\n"
   ]
  },
  {
   "cell_type": "code",
   "execution_count": 8,
   "metadata": {},
   "outputs": [],
   "source": [
    "comments.timestamp = pd.to_datetime(comments.timestamp, utc=True)"
   ]
  },
  {
   "cell_type": "code",
   "execution_count": 9,
   "metadata": {
    "scrolled": true
   },
   "outputs": [
    {
     "data": {
      "text/plain": [
       "0        2020-08-17 00:29:34+00:00\n",
       "1        2020-07-05 10:17:37+00:00\n",
       "2        2020-06-29 14:19:29+00:00\n",
       "3        2020-06-27 17:14:21+00:00\n",
       "4        2020-06-13 19:15:44+00:00\n",
       "                    ...           \n",
       "169914   2020-09-09 14:48:10+00:00\n",
       "169915   2020-09-08 13:51:11+00:00\n",
       "169916   2020-09-08 08:16:27+00:00\n",
       "169917   2020-09-07 19:46:47+00:00\n",
       "169918   2020-09-07 16:46:55+00:00\n",
       "Name: timestamp, Length: 169919, dtype: datetime64[ns, UTC]"
      ]
     },
     "execution_count": 9,
     "metadata": {},
     "output_type": "execute_result"
    }
   ],
   "source": [
    "comments.timestamp"
   ]
  },
  {
   "cell_type": "markdown",
   "metadata": {},
   "source": [
    "# created_at 칼럼 변경 "
   ]
  },
  {
   "cell_type": "code",
   "execution_count": 10,
   "metadata": {},
   "outputs": [],
   "source": [
    "comments.created_at= pd.to_datetime(comments.created_at, utc=True)"
   ]
  },
  {
   "cell_type": "code",
   "execution_count": 11,
   "metadata": {},
   "outputs": [
    {
     "data": {
      "text/plain": [
       "0        2020-08-17 05:27:14+00:00\n",
       "1        2020-07-05 15:12:15+00:00\n",
       "2        2020-06-29 19:15:16+00:00\n",
       "3        2020-06-27 22:12:11+00:00\n",
       "4        2020-06-14 00:14:57+00:00\n",
       "                    ...           \n",
       "169914   2020-09-09 19:47:08+00:00\n",
       "169915   2020-09-08 18:49:22+00:00\n",
       "169916   2020-09-08 13:13:44+00:00\n",
       "169917   2020-09-08 00:45:05+00:00\n",
       "169918   2020-09-07 21:46:28+00:00\n",
       "Name: created_at, Length: 169919, dtype: datetime64[ns, UTC]"
      ]
     },
     "execution_count": 11,
     "metadata": {},
     "output_type": "execute_result"
    }
   ],
   "source": [
    "comments.created_at"
   ]
  },
  {
   "cell_type": "markdown",
   "metadata": {},
   "source": [
    "# 데이터 확인 "
   ]
  },
  {
   "cell_type": "code",
   "execution_count": 12,
   "metadata": {},
   "outputs": [
    {
     "data": {
      "text/plain": [
       "(169919, 10)"
      ]
     },
     "execution_count": 12,
     "metadata": {},
     "output_type": "execute_result"
    }
   ],
   "source": [
    "comments.shape"
   ]
  },
  {
   "cell_type": "code",
   "execution_count": 13,
   "metadata": {
    "scrolled": false
   },
   "outputs": [
    {
     "name": "stdout",
     "output_type": "stream",
     "text": [
      "<class 'pandas.core.frame.DataFrame'>\n",
      "RangeIndex: 169919 entries, 0 to 169918\n",
      "Data columns (total 10 columns):\n",
      " #   Column        Non-Null Count   Dtype              \n",
      "---  ------        --------------   -----              \n",
      " 0   chid          169919 non-null  int64              \n",
      " 1   comment_id    169919 non-null  int64              \n",
      " 2   name          169910 non-null  object             \n",
      " 3   timestamp     169730 non-null  datetime64[ns, UTC]\n",
      " 4   profile_url   8200 non-null    object             \n",
      " 5   photos        2672 non-null    object             \n",
      " 6   amount        169459 non-null  float64            \n",
      " 7   is_anonymous  169219 non-null  object             \n",
      " 8   created_at    169219 non-null  datetime64[ns, UTC]\n",
      " 9   comment       168000 non-null  object             \n",
      "dtypes: datetime64[ns, UTC](2), float64(1), int64(2), object(5)\n",
      "memory usage: 13.0+ MB\n"
     ]
    }
   ],
   "source": [
    "comments.info()"
   ]
  },
  {
   "cell_type": "markdown",
   "metadata": {},
   "source": [
    "# 데이터 파일 만들기 "
   ]
  },
  {
   "cell_type": "code",
   "execution_count": 14,
   "metadata": {},
   "outputs": [],
   "source": [
    "comments.to_csv('comments_new.csv', header= True, index= False)"
   ]
  }
 ],
 "metadata": {
  "hide_input": false,
  "kernelspec": {
   "display_name": "Python 3",
   "language": "python",
   "name": "python3"
  },
  "language_info": {
   "codemirror_mode": {
    "name": "ipython",
    "version": 3
   },
   "file_extension": ".py",
   "mimetype": "text/x-python",
   "name": "python",
   "nbconvert_exporter": "python",
   "pygments_lexer": "ipython3",
   "version": "3.8.3"
  },
  "toc": {
   "base_numbering": 1,
   "nav_menu": {},
   "number_sections": true,
   "sideBar": true,
   "skip_h1_title": false,
   "title_cell": "Table of Contents",
   "title_sidebar": "Contents",
   "toc_cell": false,
   "toc_position": {},
   "toc_section_display": true,
   "toc_window_display": true
  }
 },
 "nbformat": 4,
 "nbformat_minor": 4
}
