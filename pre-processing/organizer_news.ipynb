{
 "cells": [
  {
   "cell_type": "code",
   "execution_count": 1,
   "metadata": {},
   "outputs": [],
   "source": [
    "import pandas as pd\n",
    "import numpy as np\n",
    "from datetime import datetime "
   ]
  },
  {
   "cell_type": "code",
   "execution_count": 2,
   "metadata": {},
   "outputs": [],
   "source": [
    "organizer = pd.read_csv('origin_data/organizers.csv')"
   ]
  },
  {
   "cell_type": "code",
   "execution_count": 3,
   "metadata": {},
   "outputs": [
    {
     "data": {
      "text/html": [
       "<div>\n",
       "<style scoped>\n",
       "    .dataframe tbody tr th:only-of-type {\n",
       "        vertical-align: middle;\n",
       "    }\n",
       "\n",
       "    .dataframe tbody tr th {\n",
       "        vertical-align: top;\n",
       "    }\n",
       "\n",
       "    .dataframe thead th {\n",
       "        text-align: right;\n",
       "    }\n",
       "</style>\n",
       "<table border=\"1\" class=\"dataframe\">\n",
       "  <thead>\n",
       "    <tr style=\"text-align: right;\">\n",
       "      <th></th>\n",
       "      <th>chid</th>\n",
       "      <th>org_id</th>\n",
       "      <th>org_name</th>\n",
       "      <th>org_type</th>\n",
       "      <th>location</th>\n",
       "      <th>raised</th>\n",
       "      <th>num_donations</th>\n",
       "    </tr>\n",
       "  </thead>\n",
       "  <tbody>\n",
       "    <tr>\n",
       "      <th>0</th>\n",
       "      <td>1</td>\n",
       "      <td>0</td>\n",
       "      <td>Jared Thomas</td>\n",
       "      <td>Organizer</td>\n",
       "      <td>Indianapolis, IN</td>\n",
       "      <td>NaN</td>\n",
       "      <td>NaN</td>\n",
       "    </tr>\n",
       "    <tr>\n",
       "      <th>1</th>\n",
       "      <td>1</td>\n",
       "      <td>1</td>\n",
       "      <td>Chris Beaty Memorial Fund</td>\n",
       "      <td>Beneficiary</td>\n",
       "      <td>NaN</td>\n",
       "      <td>NaN</td>\n",
       "      <td>NaN</td>\n",
       "    </tr>\n",
       "    <tr>\n",
       "      <th>2</th>\n",
       "      <td>2</td>\n",
       "      <td>2</td>\n",
       "      <td>Saha Heirati</td>\n",
       "      <td>Organizer</td>\n",
       "      <td>NaN</td>\n",
       "      <td>NaN</td>\n",
       "      <td>NaN</td>\n",
       "    </tr>\n",
       "    <tr>\n",
       "      <th>3</th>\n",
       "      <td>3</td>\n",
       "      <td>3</td>\n",
       "      <td>Gus Jacobson</td>\n",
       "      <td>Organizer</td>\n",
       "      <td>Forest Hills, NY</td>\n",
       "      <td>NaN</td>\n",
       "      <td>NaN</td>\n",
       "    </tr>\n",
       "    <tr>\n",
       "      <th>4</th>\n",
       "      <td>3</td>\n",
       "      <td>4</td>\n",
       "      <td>Kathleen Scarpa</td>\n",
       "      <td>Team member</td>\n",
       "      <td>NaN</td>\n",
       "      <td>NaN</td>\n",
       "      <td>NaN</td>\n",
       "    </tr>\n",
       "  </tbody>\n",
       "</table>\n",
       "</div>"
      ],
      "text/plain": [
       "   chid  org_id                   org_name     org_type          location  \\\n",
       "0     1       0               Jared Thomas    Organizer  Indianapolis, IN   \n",
       "1     1       1  Chris Beaty Memorial Fund  Beneficiary               NaN   \n",
       "2     2       2               Saha Heirati    Organizer               NaN   \n",
       "3     3       3               Gus Jacobson    Organizer  Forest Hills, NY   \n",
       "4     3       4            Kathleen Scarpa  Team member               NaN   \n",
       "\n",
       "  raised num_donations  \n",
       "0    NaN           NaN  \n",
       "1    NaN           NaN  \n",
       "2    NaN           NaN  \n",
       "3    NaN           NaN  \n",
       "4    NaN           NaN  "
      ]
     },
     "execution_count": 3,
     "metadata": {},
     "output_type": "execute_result"
    }
   ],
   "source": [
    "organizer.head()"
   ]
  },
  {
   "cell_type": "code",
   "execution_count": 4,
   "metadata": {},
   "outputs": [
    {
     "data": {
      "text/plain": [
       "(8204, 7)"
      ]
     },
     "execution_count": 4,
     "metadata": {},
     "output_type": "execute_result"
    }
   ],
   "source": [
    "organizer.shape"
   ]
  },
  {
   "cell_type": "code",
   "execution_count": 5,
   "metadata": {},
   "outputs": [
    {
     "name": "stdout",
     "output_type": "stream",
     "text": [
      "<class 'pandas.core.frame.DataFrame'>\n",
      "RangeIndex: 8204 entries, 0 to 8203\n",
      "Data columns (total 7 columns):\n",
      " #   Column         Non-Null Count  Dtype \n",
      "---  ------         --------------  ----- \n",
      " 0   chid           8204 non-null   int64 \n",
      " 1   org_id         8204 non-null   int64 \n",
      " 2   org_name       8204 non-null   object\n",
      " 3   org_type       8204 non-null   object\n",
      " 4   location       3770 non-null   object\n",
      " 5   raised         2279 non-null   object\n",
      " 6   num_donations  2279 non-null   object\n",
      "dtypes: int64(2), object(5)\n",
      "memory usage: 448.8+ KB\n"
     ]
    }
   ],
   "source": [
    "organizer.info()"
   ]
  },
  {
   "cell_type": "markdown",
   "metadata": {},
   "source": [
    "# org_name 이상한거 바꾸기 "
   ]
  },
  {
   "cell_type": "code",
   "execution_count": 6,
   "metadata": {},
   "outputs": [
    {
     "data": {
      "text/html": [
       "<div>\n",
       "<style scoped>\n",
       "    .dataframe tbody tr th:only-of-type {\n",
       "        vertical-align: middle;\n",
       "    }\n",
       "\n",
       "    .dataframe tbody tr th {\n",
       "        vertical-align: top;\n",
       "    }\n",
       "\n",
       "    .dataframe thead th {\n",
       "        text-align: right;\n",
       "    }\n",
       "</style>\n",
       "<table border=\"1\" class=\"dataframe\">\n",
       "  <thead>\n",
       "    <tr style=\"text-align: right;\">\n",
       "      <th></th>\n",
       "      <th>chid</th>\n",
       "      <th>org_id</th>\n",
       "      <th>org_name</th>\n",
       "      <th>org_type</th>\n",
       "      <th>location</th>\n",
       "      <th>raised</th>\n",
       "      <th>num_donations</th>\n",
       "    </tr>\n",
       "  </thead>\n",
       "  <tbody>\n",
       "    <tr>\n",
       "      <th>892</th>\n",
       "      <td>416</td>\n",
       "      <td>892</td>\n",
       "      <td>John Peel</td>\n",
       "      <td>Organizer</td>\n",
       "      <td>Scottsdale, AZ</td>\n",
       "      <td>$105,948</td>\n",
       "      <td>1794</td>\n",
       "    </tr>\n",
       "    <tr>\n",
       "      <th>893</th>\n",
       "      <td>416</td>\n",
       "      <td>893</td>\n",
       "      <td>Stephanie Catudal</td>\n",
       "      <td>Beneficiary</td>\n",
       "      <td>NaN</td>\n",
       "      <td>NaN</td>\n",
       "      <td>NaN</td>\n",
       "    </tr>\n",
       "    <tr>\n",
       "      <th>894</th>\n",
       "      <td>416</td>\n",
       "      <td>894</td>\n",
       "      <td>✨</td>\n",
       "      <td>Team member</td>\n",
       "      <td>NaN</td>\n",
       "      <td>$47,269</td>\n",
       "      <td>713</td>\n",
       "    </tr>\n",
       "    <tr>\n",
       "      <th>895</th>\n",
       "      <td>416</td>\n",
       "      <td>895</td>\n",
       "      <td>Kim W</td>\n",
       "      <td>Team member</td>\n",
       "      <td>NaN</td>\n",
       "      <td>$1,848</td>\n",
       "      <td>36</td>\n",
       "    </tr>\n",
       "    <tr>\n",
       "      <th>896</th>\n",
       "      <td>416</td>\n",
       "      <td>896</td>\n",
       "      <td>Steven Doxey</td>\n",
       "      <td>Team member</td>\n",
       "      <td>NaN</td>\n",
       "      <td>$1,510</td>\n",
       "      <td>22</td>\n",
       "    </tr>\n",
       "    <tr>\n",
       "      <th>897</th>\n",
       "      <td>416</td>\n",
       "      <td>897</td>\n",
       "      <td>Brian Allen-Aguilar</td>\n",
       "      <td>Team member</td>\n",
       "      <td>NaN</td>\n",
       "      <td>$1,492</td>\n",
       "      <td>25</td>\n",
       "    </tr>\n",
       "  </tbody>\n",
       "</table>\n",
       "</div>"
      ],
      "text/plain": [
       "     chid  org_id             org_name     org_type        location    raised  \\\n",
       "892   416     892            John Peel    Organizer  Scottsdale, AZ  $105,948   \n",
       "893   416     893    Stephanie Catudal  Beneficiary             NaN       NaN   \n",
       "894   416     894                    ✨  Team member             NaN   $47,269   \n",
       "895   416     895                Kim W  Team member             NaN    $1,848   \n",
       "896   416     896         Steven Doxey  Team member             NaN    $1,510   \n",
       "897   416     897  Brian Allen-Aguilar  Team member             NaN    $1,492   \n",
       "\n",
       "    num_donations  \n",
       "892          1794  \n",
       "893           NaN  \n",
       "894           713  \n",
       "895            36  \n",
       "896            22  \n",
       "897            25  "
      ]
     },
     "execution_count": 6,
     "metadata": {},
     "output_type": "execute_result"
    }
   ],
   "source": [
    "organizer[organizer.chid == 416]"
   ]
  },
  {
   "cell_type": "code",
   "execution_count": 7,
   "metadata": {},
   "outputs": [],
   "source": [
    "organizer.org_name= organizer.org_name.replace('✨','picture_man')"
   ]
  },
  {
   "cell_type": "code",
   "execution_count": 8,
   "metadata": {},
   "outputs": [
    {
     "data": {
      "text/html": [
       "<div>\n",
       "<style scoped>\n",
       "    .dataframe tbody tr th:only-of-type {\n",
       "        vertical-align: middle;\n",
       "    }\n",
       "\n",
       "    .dataframe tbody tr th {\n",
       "        vertical-align: top;\n",
       "    }\n",
       "\n",
       "    .dataframe thead th {\n",
       "        text-align: right;\n",
       "    }\n",
       "</style>\n",
       "<table border=\"1\" class=\"dataframe\">\n",
       "  <thead>\n",
       "    <tr style=\"text-align: right;\">\n",
       "      <th></th>\n",
       "      <th>chid</th>\n",
       "      <th>org_id</th>\n",
       "      <th>org_name</th>\n",
       "      <th>org_type</th>\n",
       "      <th>location</th>\n",
       "      <th>raised</th>\n",
       "      <th>num_donations</th>\n",
       "    </tr>\n",
       "  </thead>\n",
       "  <tbody>\n",
       "    <tr>\n",
       "      <th>892</th>\n",
       "      <td>416</td>\n",
       "      <td>892</td>\n",
       "      <td>John Peel</td>\n",
       "      <td>Organizer</td>\n",
       "      <td>Scottsdale, AZ</td>\n",
       "      <td>$105,948</td>\n",
       "      <td>1794</td>\n",
       "    </tr>\n",
       "    <tr>\n",
       "      <th>893</th>\n",
       "      <td>416</td>\n",
       "      <td>893</td>\n",
       "      <td>Stephanie Catudal</td>\n",
       "      <td>Beneficiary</td>\n",
       "      <td>NaN</td>\n",
       "      <td>NaN</td>\n",
       "      <td>NaN</td>\n",
       "    </tr>\n",
       "    <tr>\n",
       "      <th>894</th>\n",
       "      <td>416</td>\n",
       "      <td>894</td>\n",
       "      <td>picture_man</td>\n",
       "      <td>Team member</td>\n",
       "      <td>NaN</td>\n",
       "      <td>$47,269</td>\n",
       "      <td>713</td>\n",
       "    </tr>\n",
       "    <tr>\n",
       "      <th>895</th>\n",
       "      <td>416</td>\n",
       "      <td>895</td>\n",
       "      <td>Kim W</td>\n",
       "      <td>Team member</td>\n",
       "      <td>NaN</td>\n",
       "      <td>$1,848</td>\n",
       "      <td>36</td>\n",
       "    </tr>\n",
       "    <tr>\n",
       "      <th>896</th>\n",
       "      <td>416</td>\n",
       "      <td>896</td>\n",
       "      <td>Steven Doxey</td>\n",
       "      <td>Team member</td>\n",
       "      <td>NaN</td>\n",
       "      <td>$1,510</td>\n",
       "      <td>22</td>\n",
       "    </tr>\n",
       "    <tr>\n",
       "      <th>897</th>\n",
       "      <td>416</td>\n",
       "      <td>897</td>\n",
       "      <td>Brian Allen-Aguilar</td>\n",
       "      <td>Team member</td>\n",
       "      <td>NaN</td>\n",
       "      <td>$1,492</td>\n",
       "      <td>25</td>\n",
       "    </tr>\n",
       "  </tbody>\n",
       "</table>\n",
       "</div>"
      ],
      "text/plain": [
       "     chid  org_id             org_name     org_type        location    raised  \\\n",
       "892   416     892            John Peel    Organizer  Scottsdale, AZ  $105,948   \n",
       "893   416     893    Stephanie Catudal  Beneficiary             NaN       NaN   \n",
       "894   416     894          picture_man  Team member             NaN   $47,269   \n",
       "895   416     895                Kim W  Team member             NaN    $1,848   \n",
       "896   416     896         Steven Doxey  Team member             NaN    $1,510   \n",
       "897   416     897  Brian Allen-Aguilar  Team member             NaN    $1,492   \n",
       "\n",
       "    num_donations  \n",
       "892          1794  \n",
       "893           NaN  \n",
       "894           713  \n",
       "895            36  \n",
       "896            22  \n",
       "897            25  "
      ]
     },
     "execution_count": 8,
     "metadata": {},
     "output_type": "execute_result"
    }
   ],
   "source": [
    "organizer[organizer.chid == 416]"
   ]
  },
  {
   "cell_type": "markdown",
   "metadata": {},
   "source": [
    "# raised 형 변환 "
   ]
  },
  {
   "cell_type": "code",
   "execution_count": 9,
   "metadata": {},
   "outputs": [],
   "source": [
    "import re"
   ]
  },
  {
   "cell_type": "code",
   "execution_count": 10,
   "metadata": {},
   "outputs": [],
   "source": [
    "def money(x):\n",
    "    if not isinstance(x,str): return np.NaN\n",
    "    else: \n",
    "        new = re.sub(\"[^0-9]\", \"\", str(x))\n",
    "        if new == '': return np.NaN\n",
    "        else: return float(new)"
   ]
  },
  {
   "cell_type": "code",
   "execution_count": 11,
   "metadata": {},
   "outputs": [],
   "source": [
    "organizer['raised'] = organizer['raised'].apply(money)"
   ]
  },
  {
   "cell_type": "code",
   "execution_count": 12,
   "metadata": {},
   "outputs": [],
   "source": [
    "organizer['raised']= organizer.raised.astype('float')"
   ]
  },
  {
   "cell_type": "code",
   "execution_count": 13,
   "metadata": {},
   "outputs": [
    {
     "data": {
      "text/plain": [
       "dtype('float64')"
      ]
     },
     "execution_count": 13,
     "metadata": {},
     "output_type": "execute_result"
    }
   ],
   "source": [
    "organizer.raised.dtype"
   ]
  },
  {
   "cell_type": "markdown",
   "metadata": {},
   "source": [
    "# 데이터 확인 "
   ]
  },
  {
   "cell_type": "code",
   "execution_count": 14,
   "metadata": {},
   "outputs": [
    {
     "data": {
      "text/plain": [
       "(8204, 7)"
      ]
     },
     "execution_count": 14,
     "metadata": {},
     "output_type": "execute_result"
    }
   ],
   "source": [
    "organizer.shape"
   ]
  },
  {
   "cell_type": "code",
   "execution_count": 15,
   "metadata": {},
   "outputs": [
    {
     "name": "stdout",
     "output_type": "stream",
     "text": [
      "<class 'pandas.core.frame.DataFrame'>\n",
      "RangeIndex: 8204 entries, 0 to 8203\n",
      "Data columns (total 7 columns):\n",
      " #   Column         Non-Null Count  Dtype  \n",
      "---  ------         --------------  -----  \n",
      " 0   chid           8204 non-null   int64  \n",
      " 1   org_id         8204 non-null   int64  \n",
      " 2   org_name       8204 non-null   object \n",
      " 3   org_type       8204 non-null   object \n",
      " 4   location       3770 non-null   object \n",
      " 5   raised         2279 non-null   float64\n",
      " 6   num_donations  2279 non-null   object \n",
      "dtypes: float64(1), int64(2), object(4)\n",
      "memory usage: 448.8+ KB\n"
     ]
    }
   ],
   "source": [
    "organizer.info()"
   ]
  },
  {
   "cell_type": "markdown",
   "metadata": {},
   "source": [
    "# 파일 만들기 "
   ]
  },
  {
   "cell_type": "code",
   "execution_count": 16,
   "metadata": {},
   "outputs": [],
   "source": [
    "organizer.to_csv('organizer_new.csv', header= True ,index= False)"
   ]
  }
 ],
 "metadata": {
  "hide_input": false,
  "kernelspec": {
   "display_name": "Python 3",
   "language": "python",
   "name": "python3"
  },
  "language_info": {
   "codemirror_mode": {
    "name": "ipython",
    "version": 3
   },
   "file_extension": ".py",
   "mimetype": "text/x-python",
   "name": "python",
   "nbconvert_exporter": "python",
   "pygments_lexer": "ipython3",
   "version": "3.8.3"
  },
  "toc": {
   "base_numbering": 1,
   "nav_menu": {},
   "number_sections": true,
   "sideBar": true,
   "skip_h1_title": false,
   "title_cell": "Table of Contents",
   "title_sidebar": "Contents",
   "toc_cell": false,
   "toc_position": {},
   "toc_section_display": true,
   "toc_window_display": false
  }
 },
 "nbformat": 4,
 "nbformat_minor": 4
}
