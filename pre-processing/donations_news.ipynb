{
 "cells": [
  {
   "cell_type": "code",
   "execution_count": 1,
   "metadata": {},
   "outputs": [],
   "source": [
    "import pandas as pd \n",
    "import numpy as np \n",
    "from datetime import datetime "
   ]
  },
  {
   "cell_type": "code",
   "execution_count": 2,
   "metadata": {
    "scrolled": true
   },
   "outputs": [],
   "source": [
    "donations = pd.read_csv('origin_data/donations.csv',)"
   ]
  },
  {
   "cell_type": "code",
   "execution_count": 3,
   "metadata": {},
   "outputs": [
    {
     "data": {
      "text/html": [
       "<div>\n",
       "<style scoped>\n",
       "    .dataframe tbody tr th:only-of-type {\n",
       "        vertical-align: middle;\n",
       "    }\n",
       "\n",
       "    .dataframe tbody tr th {\n",
       "        vertical-align: top;\n",
       "    }\n",
       "\n",
       "    .dataframe thead th {\n",
       "        text-align: right;\n",
       "    }\n",
       "</style>\n",
       "<table border=\"1\" class=\"dataframe\">\n",
       "  <thead>\n",
       "    <tr style=\"text-align: right;\">\n",
       "      <th></th>\n",
       "      <th>chid</th>\n",
       "      <th>donation_id</th>\n",
       "      <th>donation_id_old</th>\n",
       "      <th>amount</th>\n",
       "      <th>is_offline</th>\n",
       "      <th>is_anonymous</th>\n",
       "      <th>name</th>\n",
       "      <th>created_at</th>\n",
       "      <th>profile_url</th>\n",
       "      <th>verified</th>\n",
       "    </tr>\n",
       "  </thead>\n",
       "  <tbody>\n",
       "    <tr>\n",
       "      <th>0</th>\n",
       "      <td>1</td>\n",
       "      <td>0</td>\n",
       "      <td>627174336</td>\n",
       "      <td>480.0</td>\n",
       "      <td>False</td>\n",
       "      <td>False</td>\n",
       "      <td>Pedal For Peace Bike Ride T-shirt Sales</td>\n",
       "      <td>2020-10-14T06:43:12-05:00</td>\n",
       "      <td>NaN</td>\n",
       "      <td>True</td>\n",
       "    </tr>\n",
       "    <tr>\n",
       "      <th>1</th>\n",
       "      <td>1</td>\n",
       "      <td>1</td>\n",
       "      <td>608485162</td>\n",
       "      <td>10.0</td>\n",
       "      <td>False</td>\n",
       "      <td>False</td>\n",
       "      <td>Jacquelin Pabon</td>\n",
       "      <td>2020-09-14T23:51:30-05:00</td>\n",
       "      <td>NaN</td>\n",
       "      <td>True</td>\n",
       "    </tr>\n",
       "    <tr>\n",
       "      <th>2</th>\n",
       "      <td>1</td>\n",
       "      <td>2</td>\n",
       "      <td>605443204</td>\n",
       "      <td>50.0</td>\n",
       "      <td>False</td>\n",
       "      <td>False</td>\n",
       "      <td>Mindy Bemis</td>\n",
       "      <td>2020-09-09T19:52:25-05:00</td>\n",
       "      <td>NaN</td>\n",
       "      <td>True</td>\n",
       "    </tr>\n",
       "    <tr>\n",
       "      <th>3</th>\n",
       "      <td>1</td>\n",
       "      <td>3</td>\n",
       "      <td>604989018</td>\n",
       "      <td>100.0</td>\n",
       "      <td>False</td>\n",
       "      <td>False</td>\n",
       "      <td>Dana Severs</td>\n",
       "      <td>2020-09-09T00:03:36-05:00</td>\n",
       "      <td>NaN</td>\n",
       "      <td>True</td>\n",
       "    </tr>\n",
       "    <tr>\n",
       "      <th>4</th>\n",
       "      <td>1</td>\n",
       "      <td>4</td>\n",
       "      <td>604456134</td>\n",
       "      <td>100.0</td>\n",
       "      <td>False</td>\n",
       "      <td>False</td>\n",
       "      <td>Linsey Fraser</td>\n",
       "      <td>2020-09-07T23:05:18-05:00</td>\n",
       "      <td>NaN</td>\n",
       "      <td>True</td>\n",
       "    </tr>\n",
       "  </tbody>\n",
       "</table>\n",
       "</div>"
      ],
      "text/plain": [
       "   chid  donation_id  donation_id_old  amount  is_offline  is_anonymous  \\\n",
       "0     1            0        627174336   480.0       False         False   \n",
       "1     1            1        608485162    10.0       False         False   \n",
       "2     1            2        605443204    50.0       False         False   \n",
       "3     1            3        604989018   100.0       False         False   \n",
       "4     1            4        604456134   100.0       False         False   \n",
       "\n",
       "                                      name                 created_at  \\\n",
       "0  Pedal For Peace Bike Ride T-shirt Sales  2020-10-14T06:43:12-05:00   \n",
       "1                          Jacquelin Pabon  2020-09-14T23:51:30-05:00   \n",
       "2                              Mindy Bemis  2020-09-09T19:52:25-05:00   \n",
       "3                              Dana Severs  2020-09-09T00:03:36-05:00   \n",
       "4                            Linsey Fraser  2020-09-07T23:05:18-05:00   \n",
       "\n",
       "  profile_url  verified  \n",
       "0         NaN      True  \n",
       "1         NaN      True  \n",
       "2         NaN      True  \n",
       "3         NaN      True  \n",
       "4         NaN      True  "
      ]
     },
     "execution_count": 3,
     "metadata": {},
     "output_type": "execute_result"
    }
   ],
   "source": [
    "donations.head()"
   ]
  },
  {
   "cell_type": "code",
   "execution_count": 4,
   "metadata": {},
   "outputs": [
    {
     "data": {
      "text/plain": [
       "(2191677, 10)"
      ]
     },
     "execution_count": 4,
     "metadata": {},
     "output_type": "execute_result"
    }
   ],
   "source": [
    "donations.shape"
   ]
  },
  {
   "cell_type": "code",
   "execution_count": 5,
   "metadata": {},
   "outputs": [
    {
     "name": "stdout",
     "output_type": "stream",
     "text": [
      "<class 'pandas.core.frame.DataFrame'>\n",
      "RangeIndex: 2191677 entries, 0 to 2191676\n",
      "Data columns (total 10 columns):\n",
      " #   Column           Dtype  \n",
      "---  ------           -----  \n",
      " 0   chid             int64  \n",
      " 1   donation_id      int64  \n",
      " 2   donation_id_old  int64  \n",
      " 3   amount           float64\n",
      " 4   is_offline       bool   \n",
      " 5   is_anonymous     bool   \n",
      " 6   name             object \n",
      " 7   created_at       object \n",
      " 8   profile_url      object \n",
      " 9   verified         bool   \n",
      "dtypes: bool(3), float64(1), int64(3), object(3)\n",
      "memory usage: 123.3+ MB\n"
     ]
    }
   ],
   "source": [
    "donations.info()"
   ]
  },
  {
   "cell_type": "markdown",
   "metadata": {},
   "source": [
    "# 컬럼 삭제 "
   ]
  },
  {
   "cell_type": "code",
   "execution_count": 6,
   "metadata": {},
   "outputs": [],
   "source": [
    "donations.drop(['donation_id_old','is_offline', 'verified'], axis =1, inplace = True )"
   ]
  },
  {
   "cell_type": "code",
   "execution_count": 7,
   "metadata": {},
   "outputs": [
    {
     "data": {
      "text/html": [
       "<div>\n",
       "<style scoped>\n",
       "    .dataframe tbody tr th:only-of-type {\n",
       "        vertical-align: middle;\n",
       "    }\n",
       "\n",
       "    .dataframe tbody tr th {\n",
       "        vertical-align: top;\n",
       "    }\n",
       "\n",
       "    .dataframe thead th {\n",
       "        text-align: right;\n",
       "    }\n",
       "</style>\n",
       "<table border=\"1\" class=\"dataframe\">\n",
       "  <thead>\n",
       "    <tr style=\"text-align: right;\">\n",
       "      <th></th>\n",
       "      <th>chid</th>\n",
       "      <th>donation_id</th>\n",
       "      <th>amount</th>\n",
       "      <th>is_anonymous</th>\n",
       "      <th>name</th>\n",
       "      <th>created_at</th>\n",
       "      <th>profile_url</th>\n",
       "    </tr>\n",
       "  </thead>\n",
       "  <tbody>\n",
       "    <tr>\n",
       "      <th>0</th>\n",
       "      <td>1</td>\n",
       "      <td>0</td>\n",
       "      <td>480.0</td>\n",
       "      <td>False</td>\n",
       "      <td>Pedal For Peace Bike Ride T-shirt Sales</td>\n",
       "      <td>2020-10-14T06:43:12-05:00</td>\n",
       "      <td>NaN</td>\n",
       "    </tr>\n",
       "    <tr>\n",
       "      <th>1</th>\n",
       "      <td>1</td>\n",
       "      <td>1</td>\n",
       "      <td>10.0</td>\n",
       "      <td>False</td>\n",
       "      <td>Jacquelin Pabon</td>\n",
       "      <td>2020-09-14T23:51:30-05:00</td>\n",
       "      <td>NaN</td>\n",
       "    </tr>\n",
       "    <tr>\n",
       "      <th>2</th>\n",
       "      <td>1</td>\n",
       "      <td>2</td>\n",
       "      <td>50.0</td>\n",
       "      <td>False</td>\n",
       "      <td>Mindy Bemis</td>\n",
       "      <td>2020-09-09T19:52:25-05:00</td>\n",
       "      <td>NaN</td>\n",
       "    </tr>\n",
       "    <tr>\n",
       "      <th>3</th>\n",
       "      <td>1</td>\n",
       "      <td>3</td>\n",
       "      <td>100.0</td>\n",
       "      <td>False</td>\n",
       "      <td>Dana Severs</td>\n",
       "      <td>2020-09-09T00:03:36-05:00</td>\n",
       "      <td>NaN</td>\n",
       "    </tr>\n",
       "    <tr>\n",
       "      <th>4</th>\n",
       "      <td>1</td>\n",
       "      <td>4</td>\n",
       "      <td>100.0</td>\n",
       "      <td>False</td>\n",
       "      <td>Linsey Fraser</td>\n",
       "      <td>2020-09-07T23:05:18-05:00</td>\n",
       "      <td>NaN</td>\n",
       "    </tr>\n",
       "  </tbody>\n",
       "</table>\n",
       "</div>"
      ],
      "text/plain": [
       "   chid  donation_id  amount  is_anonymous  \\\n",
       "0     1            0   480.0         False   \n",
       "1     1            1    10.0         False   \n",
       "2     1            2    50.0         False   \n",
       "3     1            3   100.0         False   \n",
       "4     1            4   100.0         False   \n",
       "\n",
       "                                      name                 created_at  \\\n",
       "0  Pedal For Peace Bike Ride T-shirt Sales  2020-10-14T06:43:12-05:00   \n",
       "1                          Jacquelin Pabon  2020-09-14T23:51:30-05:00   \n",
       "2                              Mindy Bemis  2020-09-09T19:52:25-05:00   \n",
       "3                              Dana Severs  2020-09-09T00:03:36-05:00   \n",
       "4                            Linsey Fraser  2020-09-07T23:05:18-05:00   \n",
       "\n",
       "  profile_url  \n",
       "0         NaN  \n",
       "1         NaN  \n",
       "2         NaN  \n",
       "3         NaN  \n",
       "4         NaN  "
      ]
     },
     "execution_count": 7,
     "metadata": {},
     "output_type": "execute_result"
    }
   ],
   "source": [
    "donations.head()"
   ]
  },
  {
   "cell_type": "code",
   "execution_count": 8,
   "metadata": {},
   "outputs": [
    {
     "name": "stdout",
     "output_type": "stream",
     "text": [
      "<class 'pandas.core.frame.DataFrame'>\n",
      "RangeIndex: 2191677 entries, 0 to 2191676\n",
      "Data columns (total 7 columns):\n",
      " #   Column        Dtype  \n",
      "---  ------        -----  \n",
      " 0   chid          int64  \n",
      " 1   donation_id   int64  \n",
      " 2   amount        float64\n",
      " 3   is_anonymous  bool   \n",
      " 4   name          object \n",
      " 5   created_at    object \n",
      " 6   profile_url   object \n",
      "dtypes: bool(1), float64(1), int64(2), object(3)\n",
      "memory usage: 102.4+ MB\n"
     ]
    }
   ],
   "source": [
    "donations.info()"
   ]
  },
  {
   "cell_type": "markdown",
   "metadata": {},
   "source": [
    "# created_at 칼럼 변경 "
   ]
  },
  {
   "cell_type": "code",
   "execution_count": 9,
   "metadata": {},
   "outputs": [],
   "source": [
    "donations.created_at= pd.to_datetime(donations.created_at, utc= True) "
   ]
  },
  {
   "cell_type": "code",
   "execution_count": 10,
   "metadata": {},
   "outputs": [
    {
     "data": {
      "text/plain": [
       "0         2020-10-14 11:43:12+00:00\n",
       "1         2020-09-15 04:51:30+00:00\n",
       "2         2020-09-10 00:52:25+00:00\n",
       "3         2020-09-09 05:03:36+00:00\n",
       "4         2020-09-08 04:05:18+00:00\n",
       "                     ...           \n",
       "2191672   2020-09-07 20:09:18+00:00\n",
       "2191673   2020-09-07 20:03:16+00:00\n",
       "2191674   2020-09-07 19:54:17+00:00\n",
       "2191675   2020-09-07 19:48:08+00:00\n",
       "2191676   2020-09-07 19:47:37+00:00\n",
       "Name: created_at, Length: 2191677, dtype: datetime64[ns, UTC]"
      ]
     },
     "execution_count": 10,
     "metadata": {},
     "output_type": "execute_result"
    }
   ],
   "source": [
    "donations.created_at"
   ]
  },
  {
   "cell_type": "markdown",
   "metadata": {},
   "source": [
    "# 최종확인"
   ]
  },
  {
   "cell_type": "code",
   "execution_count": 11,
   "metadata": {},
   "outputs": [
    {
     "data": {
      "text/html": [
       "<div>\n",
       "<style scoped>\n",
       "    .dataframe tbody tr th:only-of-type {\n",
       "        vertical-align: middle;\n",
       "    }\n",
       "\n",
       "    .dataframe tbody tr th {\n",
       "        vertical-align: top;\n",
       "    }\n",
       "\n",
       "    .dataframe thead th {\n",
       "        text-align: right;\n",
       "    }\n",
       "</style>\n",
       "<table border=\"1\" class=\"dataframe\">\n",
       "  <thead>\n",
       "    <tr style=\"text-align: right;\">\n",
       "      <th></th>\n",
       "      <th>chid</th>\n",
       "      <th>donation_id</th>\n",
       "      <th>amount</th>\n",
       "      <th>is_anonymous</th>\n",
       "      <th>name</th>\n",
       "      <th>created_at</th>\n",
       "      <th>profile_url</th>\n",
       "    </tr>\n",
       "  </thead>\n",
       "  <tbody>\n",
       "    <tr>\n",
       "      <th>0</th>\n",
       "      <td>1</td>\n",
       "      <td>0</td>\n",
       "      <td>480.0</td>\n",
       "      <td>False</td>\n",
       "      <td>Pedal For Peace Bike Ride T-shirt Sales</td>\n",
       "      <td>2020-10-14 11:43:12+00:00</td>\n",
       "      <td>NaN</td>\n",
       "    </tr>\n",
       "    <tr>\n",
       "      <th>1</th>\n",
       "      <td>1</td>\n",
       "      <td>1</td>\n",
       "      <td>10.0</td>\n",
       "      <td>False</td>\n",
       "      <td>Jacquelin Pabon</td>\n",
       "      <td>2020-09-15 04:51:30+00:00</td>\n",
       "      <td>NaN</td>\n",
       "    </tr>\n",
       "    <tr>\n",
       "      <th>2</th>\n",
       "      <td>1</td>\n",
       "      <td>2</td>\n",
       "      <td>50.0</td>\n",
       "      <td>False</td>\n",
       "      <td>Mindy Bemis</td>\n",
       "      <td>2020-09-10 00:52:25+00:00</td>\n",
       "      <td>NaN</td>\n",
       "    </tr>\n",
       "    <tr>\n",
       "      <th>3</th>\n",
       "      <td>1</td>\n",
       "      <td>3</td>\n",
       "      <td>100.0</td>\n",
       "      <td>False</td>\n",
       "      <td>Dana Severs</td>\n",
       "      <td>2020-09-09 05:03:36+00:00</td>\n",
       "      <td>NaN</td>\n",
       "    </tr>\n",
       "    <tr>\n",
       "      <th>4</th>\n",
       "      <td>1</td>\n",
       "      <td>4</td>\n",
       "      <td>100.0</td>\n",
       "      <td>False</td>\n",
       "      <td>Linsey Fraser</td>\n",
       "      <td>2020-09-08 04:05:18+00:00</td>\n",
       "      <td>NaN</td>\n",
       "    </tr>\n",
       "  </tbody>\n",
       "</table>\n",
       "</div>"
      ],
      "text/plain": [
       "   chid  donation_id  amount  is_anonymous  \\\n",
       "0     1            0   480.0         False   \n",
       "1     1            1    10.0         False   \n",
       "2     1            2    50.0         False   \n",
       "3     1            3   100.0         False   \n",
       "4     1            4   100.0         False   \n",
       "\n",
       "                                      name                created_at  \\\n",
       "0  Pedal For Peace Bike Ride T-shirt Sales 2020-10-14 11:43:12+00:00   \n",
       "1                          Jacquelin Pabon 2020-09-15 04:51:30+00:00   \n",
       "2                              Mindy Bemis 2020-09-10 00:52:25+00:00   \n",
       "3                              Dana Severs 2020-09-09 05:03:36+00:00   \n",
       "4                            Linsey Fraser 2020-09-08 04:05:18+00:00   \n",
       "\n",
       "  profile_url  \n",
       "0         NaN  \n",
       "1         NaN  \n",
       "2         NaN  \n",
       "3         NaN  \n",
       "4         NaN  "
      ]
     },
     "execution_count": 11,
     "metadata": {},
     "output_type": "execute_result"
    }
   ],
   "source": [
    "donations.head()"
   ]
  },
  {
   "cell_type": "code",
   "execution_count": 12,
   "metadata": {
    "scrolled": true
   },
   "outputs": [
    {
     "name": "stdout",
     "output_type": "stream",
     "text": [
      "<class 'pandas.core.frame.DataFrame'>\n",
      "RangeIndex: 2191677 entries, 0 to 2191676\n",
      "Data columns (total 7 columns):\n",
      " #   Column        Dtype              \n",
      "---  ------        -----              \n",
      " 0   chid          int64              \n",
      " 1   donation_id   int64              \n",
      " 2   amount        float64            \n",
      " 3   is_anonymous  bool               \n",
      " 4   name          object             \n",
      " 5   created_at    datetime64[ns, UTC]\n",
      " 6   profile_url   object             \n",
      "dtypes: bool(1), datetime64[ns, UTC](1), float64(1), int64(2), object(2)\n",
      "memory usage: 102.4+ MB\n"
     ]
    }
   ],
   "source": [
    "donations.info()"
   ]
  },
  {
   "cell_type": "markdown",
   "metadata": {},
   "source": [
    "# 데이터 만들기 "
   ]
  },
  {
   "cell_type": "code",
   "execution_count": 13,
   "metadata": {},
   "outputs": [],
   "source": [
    "donations.to_csv('donations_new.csv', header= True, index= False)"
   ]
  },
  {
   "cell_type": "code",
   "execution_count": 14,
   "metadata": {},
   "outputs": [
    {
     "data": {
      "text/plain": [
       "(2191677, 7)"
      ]
     },
     "execution_count": 14,
     "metadata": {},
     "output_type": "execute_result"
    }
   ],
   "source": [
    "donations.shape"
   ]
  },
  {
   "cell_type": "code",
   "execution_count": null,
   "metadata": {},
   "outputs": [],
   "source": []
  }
 ],
 "metadata": {
  "hide_input": false,
  "kernelspec": {
   "display_name": "Python 3",
   "language": "python",
   "name": "python3"
  },
  "language_info": {
   "codemirror_mode": {
    "name": "ipython",
    "version": 3
   },
   "file_extension": ".py",
   "mimetype": "text/x-python",
   "name": "python",
   "nbconvert_exporter": "python",
   "pygments_lexer": "ipython3",
   "version": "3.8.3"
  },
  "toc": {
   "base_numbering": 1,
   "nav_menu": {},
   "number_sections": true,
   "sideBar": true,
   "skip_h1_title": false,
   "title_cell": "Table of Contents",
   "title_sidebar": "Contents",
   "toc_cell": false,
   "toc_position": {},
   "toc_section_display": true,
   "toc_window_display": false
  }
 },
 "nbformat": 4,
 "nbformat_minor": 4
}
